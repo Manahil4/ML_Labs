{
  "cells": [
    {
      "cell_type": "markdown",
      "metadata": {
        "id": "view-in-github",
        "colab_type": "text"
      },
      "source": [
        "<a href=\"https://colab.research.google.com/github/Manahil4/ML_Labs/blob/main/ML_Lab_06_Logistic_Regression.ipynb\" target=\"_parent\"><img src=\"https://colab.research.google.com/assets/colab-badge.svg\" alt=\"Open In Colab\"/></a>"
      ]
    },
    {
      "cell_type": "markdown",
      "metadata": {
        "id": "uJ3J3BiYxIpN"
      },
      "source": [
        "## The Heart Dataset"
      ]
    },
    {
      "cell_type": "markdown",
      "metadata": {
        "id": "fVCAV75FxIpR"
      },
      "source": [
        "File name: 'D6_Heart_Dataset_2.csv'\n",
        "\n",
        "This dataset has been obtained from Kaggle.\n",
        "\n",
        "The dataset contains 303 observations with 13 features and 1 class label with 0 and 1 values.\n",
        "These features are discussed below:\n",
        "1. age: in years\n",
        "2. sex: (1 = male; 0 = female)\n",
        "3. cp: chest pain type (1 = typical angina; 2 = atypical angina; 3 = non-anginal pain; 4 = asymptomatic)\n",
        "4. trestbps: resting blood pressure, in mm Hg on admission to the hospital\n",
        "5. chol: serum cholestrol in mg/dl\n",
        "6. fbs: fasting blood sugar, 120 mg.dl (1 = true; 0 = false)\n",
        "7. restecg: restinng electrocardiographic results (values: 0,1,2)\n",
        "8. thalach: maximum heart ache achieved\n",
        "9. exang: exercise induced angina (1 = yes; 0 = no)\n",
        "10. oldpeak: ST depression induced by exercise relative to rest\n",
        "11. slope: the slope of the peak exercise ST segment\n",
        "12. ca: number of major vessels (0-3) coloured by flouroscopy\n",
        "13. thal: (3 = normal; 6 = fixed defect; 7 = reversable defect)\n",
        "14. target: the predicted attribute, diagnosis of heart disease (0 = fit; 1 = diseased)\n",
        "\n",
        "This is a binary classification problem.\n",
        "Does not contain any categorical data, the dataset is clean. sed)"
      ]
    },
    {
      "cell_type": "code",
      "execution_count": 5,
      "metadata": {
        "id": "IExfJLrFxIpX",
        "outputId": "adb50e76-af12-4288-c3f2-e993b8493e3b",
        "colab": {
          "base_uri": "https://localhost:8080/",
          "height": 71
        }
      },
      "outputs": [
        {
          "output_type": "display_data",
          "data": {
            "text/plain": [
              "<IPython.core.display.HTML object>"
            ],
            "text/html": [
              "\n",
              "     <input type=\"file\" id=\"files-e3880793-0a35-47e3-911b-faf4dd265d1a\" name=\"files[]\" multiple disabled\n",
              "        style=\"border:none\" />\n",
              "     <output id=\"result-e3880793-0a35-47e3-911b-faf4dd265d1a\">\n",
              "      Upload widget is only available when the cell has been executed in the\n",
              "      current browser session. Please rerun this cell to enable.\n",
              "      </output>\n",
              "      <script>// Copyright 2017 Google LLC\n",
              "//\n",
              "// Licensed under the Apache License, Version 2.0 (the \"License\");\n",
              "// you may not use this file except in compliance with the License.\n",
              "// You may obtain a copy of the License at\n",
              "//\n",
              "//      http://www.apache.org/licenses/LICENSE-2.0\n",
              "//\n",
              "// Unless required by applicable law or agreed to in writing, software\n",
              "// distributed under the License is distributed on an \"AS IS\" BASIS,\n",
              "// WITHOUT WARRANTIES OR CONDITIONS OF ANY KIND, either express or implied.\n",
              "// See the License for the specific language governing permissions and\n",
              "// limitations under the License.\n",
              "\n",
              "/**\n",
              " * @fileoverview Helpers for google.colab Python module.\n",
              " */\n",
              "(function(scope) {\n",
              "function span(text, styleAttributes = {}) {\n",
              "  const element = document.createElement('span');\n",
              "  element.textContent = text;\n",
              "  for (const key of Object.keys(styleAttributes)) {\n",
              "    element.style[key] = styleAttributes[key];\n",
              "  }\n",
              "  return element;\n",
              "}\n",
              "\n",
              "// Max number of bytes which will be uploaded at a time.\n",
              "const MAX_PAYLOAD_SIZE = 100 * 1024;\n",
              "\n",
              "function _uploadFiles(inputId, outputId) {\n",
              "  const steps = uploadFilesStep(inputId, outputId);\n",
              "  const outputElement = document.getElementById(outputId);\n",
              "  // Cache steps on the outputElement to make it available for the next call\n",
              "  // to uploadFilesContinue from Python.\n",
              "  outputElement.steps = steps;\n",
              "\n",
              "  return _uploadFilesContinue(outputId);\n",
              "}\n",
              "\n",
              "// This is roughly an async generator (not supported in the browser yet),\n",
              "// where there are multiple asynchronous steps and the Python side is going\n",
              "// to poll for completion of each step.\n",
              "// This uses a Promise to block the python side on completion of each step,\n",
              "// then passes the result of the previous step as the input to the next step.\n",
              "function _uploadFilesContinue(outputId) {\n",
              "  const outputElement = document.getElementById(outputId);\n",
              "  const steps = outputElement.steps;\n",
              "\n",
              "  const next = steps.next(outputElement.lastPromiseValue);\n",
              "  return Promise.resolve(next.value.promise).then((value) => {\n",
              "    // Cache the last promise value to make it available to the next\n",
              "    // step of the generator.\n",
              "    outputElement.lastPromiseValue = value;\n",
              "    return next.value.response;\n",
              "  });\n",
              "}\n",
              "\n",
              "/**\n",
              " * Generator function which is called between each async step of the upload\n",
              " * process.\n",
              " * @param {string} inputId Element ID of the input file picker element.\n",
              " * @param {string} outputId Element ID of the output display.\n",
              " * @return {!Iterable<!Object>} Iterable of next steps.\n",
              " */\n",
              "function* uploadFilesStep(inputId, outputId) {\n",
              "  const inputElement = document.getElementById(inputId);\n",
              "  inputElement.disabled = false;\n",
              "\n",
              "  const outputElement = document.getElementById(outputId);\n",
              "  outputElement.innerHTML = '';\n",
              "\n",
              "  const pickedPromise = new Promise((resolve) => {\n",
              "    inputElement.addEventListener('change', (e) => {\n",
              "      resolve(e.target.files);\n",
              "    });\n",
              "  });\n",
              "\n",
              "  const cancel = document.createElement('button');\n",
              "  inputElement.parentElement.appendChild(cancel);\n",
              "  cancel.textContent = 'Cancel upload';\n",
              "  const cancelPromise = new Promise((resolve) => {\n",
              "    cancel.onclick = () => {\n",
              "      resolve(null);\n",
              "    };\n",
              "  });\n",
              "\n",
              "  // Wait for the user to pick the files.\n",
              "  const files = yield {\n",
              "    promise: Promise.race([pickedPromise, cancelPromise]),\n",
              "    response: {\n",
              "      action: 'starting',\n",
              "    }\n",
              "  };\n",
              "\n",
              "  cancel.remove();\n",
              "\n",
              "  // Disable the input element since further picks are not allowed.\n",
              "  inputElement.disabled = true;\n",
              "\n",
              "  if (!files) {\n",
              "    return {\n",
              "      response: {\n",
              "        action: 'complete',\n",
              "      }\n",
              "    };\n",
              "  }\n",
              "\n",
              "  for (const file of files) {\n",
              "    const li = document.createElement('li');\n",
              "    li.append(span(file.name, {fontWeight: 'bold'}));\n",
              "    li.append(span(\n",
              "        `(${file.type || 'n/a'}) - ${file.size} bytes, ` +\n",
              "        `last modified: ${\n",
              "            file.lastModifiedDate ? file.lastModifiedDate.toLocaleDateString() :\n",
              "                                    'n/a'} - `));\n",
              "    const percent = span('0% done');\n",
              "    li.appendChild(percent);\n",
              "\n",
              "    outputElement.appendChild(li);\n",
              "\n",
              "    const fileDataPromise = new Promise((resolve) => {\n",
              "      const reader = new FileReader();\n",
              "      reader.onload = (e) => {\n",
              "        resolve(e.target.result);\n",
              "      };\n",
              "      reader.readAsArrayBuffer(file);\n",
              "    });\n",
              "    // Wait for the data to be ready.\n",
              "    let fileData = yield {\n",
              "      promise: fileDataPromise,\n",
              "      response: {\n",
              "        action: 'continue',\n",
              "      }\n",
              "    };\n",
              "\n",
              "    // Use a chunked sending to avoid message size limits. See b/62115660.\n",
              "    let position = 0;\n",
              "    do {\n",
              "      const length = Math.min(fileData.byteLength - position, MAX_PAYLOAD_SIZE);\n",
              "      const chunk = new Uint8Array(fileData, position, length);\n",
              "      position += length;\n",
              "\n",
              "      const base64 = btoa(String.fromCharCode.apply(null, chunk));\n",
              "      yield {\n",
              "        response: {\n",
              "          action: 'append',\n",
              "          file: file.name,\n",
              "          data: base64,\n",
              "        },\n",
              "      };\n",
              "\n",
              "      let percentDone = fileData.byteLength === 0 ?\n",
              "          100 :\n",
              "          Math.round((position / fileData.byteLength) * 100);\n",
              "      percent.textContent = `${percentDone}% done`;\n",
              "\n",
              "    } while (position < fileData.byteLength);\n",
              "  }\n",
              "\n",
              "  // All done.\n",
              "  yield {\n",
              "    response: {\n",
              "      action: 'complete',\n",
              "    }\n",
              "  };\n",
              "}\n",
              "\n",
              "scope.google = scope.google || {};\n",
              "scope.google.colab = scope.google.colab || {};\n",
              "scope.google.colab._files = {\n",
              "  _uploadFiles,\n",
              "  _uploadFilesContinue,\n",
              "};\n",
              "})(self);\n",
              "</script> "
            ]
          },
          "metadata": {}
        },
        {
          "output_type": "stream",
          "name": "stdout",
          "text": [
            "Saving D6_Heart_Dataset_2 (2).csv to D6_Heart_Dataset_2 (2).csv\n"
          ]
        }
      ],
      "source": [
        "# Loading and exploring dataset\n",
        "import pandas as pd\n",
        "from google.colab import files\n",
        "uploaded = files.upload()\n",
        "#Displaying the read contents\n"
      ]
    },
    {
      "cell_type": "code",
      "source": [
        "data= pd.read_csv('D6_Heart_Dataset_2 (2).csv')"
      ],
      "metadata": {
        "id": "NPHb28iwyOuL"
      },
      "execution_count": 6,
      "outputs": []
    },
    {
      "cell_type": "code",
      "execution_count": 8,
      "metadata": {
        "id": "piahYKKExIpZ"
      },
      "outputs": [],
      "source": [
        "# separating predictors and target\n",
        "X = data.drop(\"target\",axis=1) #predictors\n",
        "Y = data[\"target\"]  #target"
      ]
    },
    {
      "cell_type": "code",
      "execution_count": 9,
      "metadata": {
        "id": "zy9Wv2xqxIpa"
      },
      "outputs": [],
      "source": [
        "# Splitting into train and test sets\n",
        "from sklearn.model_selection import train_test_split\n",
        "X_train,X_test,Y_train,Y_test = train_test_split(X, Y,test_size=0.20,random_state=0)"
      ]
    },
    {
      "cell_type": "markdown",
      "metadata": {
        "id": "uRxA_quYxIpb"
      },
      "source": [
        "## Logistic Regression"
      ]
    },
    {
      "cell_type": "markdown",
      "metadata": {
        "id": "IPYfL_HpxIpb"
      },
      "source": [
        "### Model 1 - Without Data Scaling"
      ]
    },
    {
      "cell_type": "code",
      "execution_count": 10,
      "metadata": {
        "id": "TwKx9srfxIpc",
        "outputId": "c45bf81d-7460-485c-a433-11e3e2a03ae2",
        "colab": {
          "base_uri": "https://localhost:8080/"
        }
      },
      "outputs": [
        {
          "output_type": "stream",
          "name": "stdout",
          "text": [
            "CPU times: user 160 ms, sys: 15.7 ms, total: 175 ms\n",
            "Wall time: 250 ms\n"
          ]
        }
      ],
      "source": [
        "%%time\n",
        "# Create logistic regression object\n",
        "from sklearn.linear_model import LogisticRegression\n",
        "logistic_regression1 = LogisticRegression(solver=\"liblinear\",\n",
        "                                         random_state=0)\n",
        "# try different values for max_iter and observe the difference in training time\n",
        "\n",
        "# Train model\n",
        "model1 = logistic_regression1.fit(X_train, Y_train)\n",
        "#Predictions\n",
        "Y_pred1 = model1.predict(X_test)"
      ]
    },
    {
      "cell_type": "code",
      "execution_count": 11,
      "metadata": {
        "id": "pwxb54D3xIpd",
        "outputId": "e9cf9765-5889-4cde-b2ed-331ac463f29d",
        "colab": {
          "base_uri": "https://localhost:8080/"
        }
      },
      "outputs": [
        {
          "output_type": "stream",
          "name": "stdout",
          "text": [
            "The accuracy is 85.24590163934425%\n",
            "[[22  5]\n",
            " [ 4 30]]\n",
            "              precision    recall  f1-score   support\n",
            "\n",
            "     class 0       0.85      0.81      0.83        27\n",
            "     class 1       0.86      0.88      0.87        34\n",
            "\n",
            "    accuracy                           0.85        61\n",
            "   macro avg       0.85      0.85      0.85        61\n",
            "weighted avg       0.85      0.85      0.85        61\n",
            "\n"
          ]
        }
      ],
      "source": [
        "# Printing results\n",
        "from sklearn import metrics\n",
        "import matplotlib.pyplot as plt\n",
        "from sklearn.metrics import confusion_matrix, classification_report\n",
        "\n",
        "print(\"The accuracy is \"+str(metrics.accuracy_score(Y_test,Y_pred1)*100)+\"%\")\n",
        "print(confusion_matrix(Y_test, Y_pred1))\n",
        "target_names = ['class 0', 'class 1']\n",
        "print(classification_report(Y_test, Y_pred1, target_names=target_names))"
      ]
    },
    {
      "cell_type": "code",
      "execution_count": 12,
      "metadata": {
        "id": "M90s28fUxIpd",
        "outputId": "15836462-aee7-415c-d197-fdf3ef86590f",
        "colab": {
          "base_uri": "https://localhost:8080/"
        }
      },
      "outputs": [
        {
          "output_type": "execute_result",
          "data": {
            "text/plain": [
              "array([0, 1, 1, 0, 0, 0, 0, 0, 0, 0, 1, 1, 0, 1, 1, 1, 0, 1, 0, 1, 1, 0,\n",
              "       0, 0, 1, 0, 0, 0, 1, 1, 1, 0, 1, 1, 1, 1, 0, 1, 0, 0, 1, 1, 0, 0,\n",
              "       0, 1, 1, 1, 0, 1, 1, 1, 1, 1, 1, 0, 1, 1, 1, 1, 1])"
            ]
          },
          "metadata": {},
          "execution_count": 12
        }
      ],
      "source": [
        "Y_pred1"
      ]
    },
    {
      "cell_type": "code",
      "execution_count": 13,
      "metadata": {
        "id": "M7wj7Qk5xIpe",
        "outputId": "2f32377c-e3e5-4cc3-c7ce-1d5acb08a6a4",
        "colab": {
          "base_uri": "https://localhost:8080/"
        }
      },
      "outputs": [
        {
          "output_type": "execute_result",
          "data": {
            "text/plain": [
              "array([[0.95114361, 0.04885639],\n",
              "       [0.17335757, 0.82664243],\n",
              "       [0.16406719, 0.83593281],\n",
              "       [0.97580266, 0.02419734],\n",
              "       [0.89183074, 0.10816926],\n",
              "       [0.54710265, 0.45289735],\n",
              "       [0.94644902, 0.05355098],\n",
              "       [0.8754798 , 0.1245202 ],\n",
              "       [0.99460165, 0.00539835],\n",
              "       [0.99607695, 0.00392305],\n",
              "       [0.21079693, 0.78920307],\n",
              "       [0.07048059, 0.92951941],\n",
              "       [0.9648454 , 0.0351546 ],\n",
              "       [0.14944869, 0.85055131],\n",
              "       [0.04166592, 0.95833408],\n",
              "       [0.32294482, 0.67705518],\n",
              "       [0.93458722, 0.06541278],\n",
              "       [0.27288922, 0.72711078],\n",
              "       [0.99327262, 0.00672738],\n",
              "       [0.14516413, 0.85483587],\n",
              "       [0.17632504, 0.82367496],\n",
              "       [0.71134284, 0.28865716],\n",
              "       [0.92540996, 0.07459004],\n",
              "       [0.90062174, 0.09937826],\n",
              "       [0.14616612, 0.85383388],\n",
              "       [0.5323902 , 0.4676098 ],\n",
              "       [0.80526983, 0.19473017],\n",
              "       [0.66199728, 0.33800272],\n",
              "       [0.02696567, 0.97303433],\n",
              "       [0.34701077, 0.65298923],\n",
              "       [0.35521255, 0.64478745],\n",
              "       [0.98472908, 0.01527092],\n",
              "       [0.04067765, 0.95932235],\n",
              "       [0.23231307, 0.76768693],\n",
              "       [0.08326587, 0.91673413],\n",
              "       [0.3242513 , 0.6757487 ],\n",
              "       [0.95918206, 0.04081794],\n",
              "       [0.16285633, 0.83714367],\n",
              "       [0.91600706, 0.08399294],\n",
              "       [0.85403767, 0.14596233],\n",
              "       [0.23989327, 0.76010673],\n",
              "       [0.20935612, 0.79064388],\n",
              "       [0.63414433, 0.36585567],\n",
              "       [0.94023805, 0.05976195],\n",
              "       [0.54942327, 0.45057673],\n",
              "       [0.26470079, 0.73529921],\n",
              "       [0.20492986, 0.79507014],\n",
              "       [0.36354951, 0.63645049],\n",
              "       [0.95129276, 0.04870724],\n",
              "       [0.18196773, 0.81803227],\n",
              "       [0.13422901, 0.86577099],\n",
              "       [0.41647766, 0.58352234],\n",
              "       [0.03312391, 0.96687609],\n",
              "       [0.17754975, 0.82245025],\n",
              "       [0.00649614, 0.99350386],\n",
              "       [0.90039881, 0.09960119],\n",
              "       [0.06882492, 0.93117508],\n",
              "       [0.07311648, 0.92688352],\n",
              "       [0.21059633, 0.78940367],\n",
              "       [0.05270022, 0.94729978],\n",
              "       [0.3078964 , 0.6921036 ]])"
            ]
          },
          "metadata": {},
          "execution_count": 13
        }
      ],
      "source": [
        "model1.predict_proba(X_test)"
      ]
    },
    {
      "cell_type": "markdown",
      "metadata": {
        "id": "C9BRVZEUxIpe"
      },
      "source": [
        "### Model 2 - With Data Scaling"
      ]
    },
    {
      "cell_type": "code",
      "execution_count": null,
      "metadata": {
        "id": "J0tDIfU4xIpf"
      },
      "outputs": [],
      "source": [
        "#Let us see values in X_train\n",
        "X_train"
      ]
    },
    {
      "cell_type": "code",
      "execution_count": null,
      "metadata": {
        "id": "j_ipwo0XxIpf"
      },
      "outputs": [],
      "source": [
        "# Standardizing train data\n",
        "from sklearn import preprocessing\n",
        "standard_scaler = preprocessing.StandardScaler()\n",
        "X_train_standardized=pd.DataFrame(standard_scaler.fit_transform(X_train)) # returns standardized array\n",
        "X_train_standardized\n",
        "\n",
        "# Normalizing train data\n",
        "#normal_scaler = preprocessing.MinMaxScaler()\n",
        "#X_train_normalized=pd.DataFrame(normal_scaler.fit_transform(X_train)) # returns standardized array\n",
        "#X_train_normalized"
      ]
    },
    {
      "cell_type": "code",
      "execution_count": null,
      "metadata": {
        "id": "t0hCj7Z-xIpg"
      },
      "outputs": [],
      "source": [
        "# Standardizing test data\n",
        "X_test_standardized=pd.DataFrame(standard_scaler.fit_transform(X_test))\n",
        "X_test_standardized\n",
        "\n",
        "#Normalizing test data\n",
        "#X_test_normalized=pd.DataFrame(normal_scaler.fit_transform(X_test)) # returns standardized array\n",
        "#X_test_normalized"
      ]
    },
    {
      "cell_type": "code",
      "execution_count": null,
      "metadata": {
        "id": "JNys3nkCxIpg"
      },
      "outputs": [],
      "source": [
        "%%time\n",
        "# Create logistic regression object\n",
        "logistic_regression2 = LogisticRegression(solver=\"liblinear\",\n",
        "                                         random_state=0)\n",
        "# try different values for max_iter and observe the difference in training time\n",
        "\n",
        "# Train model\n",
        "model2 = logistic_regression2.fit(X_train_standardized, Y_train)\n",
        "#Predictions\n",
        "Y_pred2 = model2.predict(X_test_standardized)"
      ]
    },
    {
      "cell_type": "code",
      "execution_count": null,
      "metadata": {
        "id": "OKnhwkXtxIph"
      },
      "outputs": [],
      "source": [
        "# # Printing results\n",
        "\n",
        "print(\"The accuracy is \"+str(metrics.accuracy_score(Y_test,Y_pred2)*100)+\"%\")\n",
        "print(confusion_matrix(Y_test, Y_pred2))\n",
        "target_names = ['class 0', 'class 1']\n",
        "print(classification_report(Y_test, Y_pred2, target_names=target_names))"
      ]
    },
    {
      "cell_type": "markdown",
      "source": [
        "##Q1: Analyze the performance of Logistic Regression on the Heart dataset\n",
        "\n"
      ],
      "metadata": {
        "id": "BAz_YDQQiGyL"
      }
    },
    {
      "cell_type": "code",
      "execution_count": 14,
      "metadata": {
        "id": "ZirixBxtxIph",
        "outputId": "9e89a06c-b55b-4868-eb9c-1c2552099e0d",
        "colab": {
          "base_uri": "https://localhost:8080/",
          "height": 929
        }
      },
      "outputs": [
        {
          "metadata": {
            "tags": null
          },
          "name": "stdout",
          "output_type": "stream",
          "text": [
            "Heart Dataset Performance:\n",
            "Accuracy: 85.25%\n",
            "Precision: 0.87\n",
            "Recall: 0.84\n",
            "F1 Score: 0.86\n",
            "ROC AUC: 0.93\n",
            "\n",
            "Confusion Matrix:\n",
            " [[25  4]\n",
            " [ 5 27]]\n",
            "\n",
            "Classification Report:\n",
            "               precision    recall  f1-score   support\n",
            "\n",
            "           0       0.83      0.86      0.85        29\n",
            "           1       0.87      0.84      0.86        32\n",
            "\n",
            "    accuracy                           0.85        61\n",
            "   macro avg       0.85      0.85      0.85        61\n",
            "weighted avg       0.85      0.85      0.85        61\n",
            "\n"
          ]
        },
        {
          "data": {
            "image/png": "[encoded data removed]",
            "text/plain": [
              "<Figure size 800x600 with 1 Axes>"
            ]
          },
          "metadata": {},
          "output_type": "display_data"
        }
      ],
      "source": [
        "# Import necessary libraries\n",
        "import pandas as pd\n",
        "import numpy as np\n",
        "import matplotlib.pyplot as plt\n",
        "from sklearn.model_selection import train_test_split\n",
        "from sklearn.preprocessing import StandardScaler\n",
        "from sklearn.linear_model import LogisticRegression\n",
        "from sklearn.metrics import accuracy_score, precision_score, recall_score, f1_score, roc_curve, auc, confusion_matrix, classification_report\n",
        "\n",
        "# Load the Heart dataset\n",
        "heart_data = pd.read_csv(\"D6_Heart_Dataset_2 (2).csv\")  # Ensure you have heart.csv file\n",
        "X_heart = heart_data.drop(columns=[\"target\"])\n",
        "y_heart = heart_data[\"target\"]\n",
        "\n",
        "# Split the dataset\n",
        "X_train_heart, X_test_heart, y_train_heart, y_test_heart = train_test_split(X_heart, y_heart, test_size=0.2, random_state=42)\n",
        "\n",
        "# Standardize the features\n",
        "scaler = StandardScaler()\n",
        "X_train_heart = scaler.fit_transform(X_train_heart)\n",
        "X_test_heart = scaler.transform(X_test_heart)\n",
        "\n",
        "# Train Logistic Regression model\n",
        "log_reg_heart = LogisticRegression(solver=\"liblinear\", random_state=0)\n",
        "log_reg_heart.fit(X_train_heart, y_train_heart)\n",
        "\n",
        "# Predictions\n",
        "y_pred_heart = log_reg_heart.predict(X_test_heart)\n",
        "y_prob_heart = log_reg_heart.predict_proba(X_test_heart)[:, 1]\n",
        "\n",
        "# Performance metrics\n",
        "accuracy = accuracy_score(y_test_heart, y_pred_heart)\n",
        "precision = precision_score(y_test_heart, y_pred_heart)\n",
        "recall = recall_score(y_test_heart, y_pred_heart)\n",
        "f1 = f1_score(y_test_heart, y_pred_heart)\n",
        "fpr, tpr, _ = roc_curve(y_test_heart, y_prob_heart)\n",
        "roc_auc = auc(fpr, tpr)\n",
        "\n",
        "print(f\"Heart Dataset Performance:\")\n",
        "print(f\"Accuracy: {accuracy*100:.2f}%\")\n",
        "print(f\"Precision: {precision:.2f}\")\n",
        "print(f\"Recall: {recall:.2f}\")\n",
        "print(f\"F1 Score: {f1:.2f}\")\n",
        "print(f\"ROC AUC: {roc_auc:.2f}\")\n",
        "print(\"\\nConfusion Matrix:\\n\", confusion_matrix(y_test_heart, y_pred_heart))\n",
        "print(\"\\nClassification Report:\\n\", classification_report(y_test_heart, y_pred_heart))\n",
        "\n",
        "# Plot ROC Curve\n",
        "plt.figure(figsize=(8, 6))\n",
        "plt.plot(fpr, tpr, color='blue', label=f'Logistic Regression (AUC = {roc_auc:.2f})')\n",
        "plt.plot([0, 1], [0, 1], color='gray', linestyle='--')\n",
        "plt.xlabel(\"False Positive Rate\")\n",
        "plt.ylabel(\"True Positive Rate\")\n",
        "plt.title(\"ROC Curve for Heart Dataset\")\n",
        "plt.legend()\n",
        "plt.show()\n"
      ]
    },
    {
      "cell_type": "markdown",
      "source": [
        "##Q2: Test Logistic Regression on Spambase dataset and compare with Heart dataset\n"
      ],
      "metadata": {
        "id": "ZWTWcThNi_3U"
      }
    },
    {
      "cell_type": "code",
      "source": [
        "from google.colab import files\n",
        "uploaded = files.upload()\n"
      ],
      "metadata": {
        "id": "imbYz1jxjL4t",
        "outputId": "b71854cf-b964-41cb-eb34-84d4f20b27ee",
        "colab": {
          "base_uri": "https://localhost:8080/",
          "height": 71
        }
      },
      "execution_count": 16,
      "outputs": [
        {
          "output_type": "display_data",
          "data": {
            "text/plain": [
              "<IPython.core.display.HTML object>"
            ],
            "text/html": [
              "\n",
              "     <input type=\"file\" id=\"files-acf0755f-6569-4535-9379-4213cd11e0f6\" name=\"files[]\" multiple disabled\n",
              "        style=\"border:none\" />\n",
              "     <output id=\"result-acf0755f-6569-4535-9379-4213cd11e0f6\">\n",
              "      Upload widget is only available when the cell has been executed in the\n",
              "      current browser session. Please rerun this cell to enable.\n",
              "      </output>\n",
              "      <script>// Copyright 2017 Google LLC\n",
              "//\n",
              "// Licensed under the Apache License, Version 2.0 (the \"License\");\n",
              "// you may not use this file except in compliance with the License.\n",
              "// You may obtain a copy of the License at\n",
              "//\n",
              "//      http://www.apache.org/licenses/LICENSE-2.0\n",
              "//\n",
              "// Unless required by applicable law or agreed to in writing, software\n",
              "// distributed under the License is distributed on an \"AS IS\" BASIS,\n",
              "// WITHOUT WARRANTIES OR CONDITIONS OF ANY KIND, either express or implied.\n",
              "// See the License for the specific language governing permissions and\n",
              "// limitations under the License.\n",
              "\n",
              "/**\n",
              " * @fileoverview Helpers for google.colab Python module.\n",
              " */\n",
              "(function(scope) {\n",
              "function span(text, styleAttributes = {}) {\n",
              "  const element = document.createElement('span');\n",
              "  element.textContent = text;\n",
              "  for (const key of Object.keys(styleAttributes)) {\n",
              "    element.style[key] = styleAttributes[key];\n",
              "  }\n",
              "  return element;\n",
              "}\n",
              "\n",
              "// Max number of bytes which will be uploaded at a time.\n",
              "const MAX_PAYLOAD_SIZE = 100 * 1024;\n",
              "\n",
              "function _uploadFiles(inputId, outputId) {\n",
              "  const steps = uploadFilesStep(inputId, outputId);\n",
              "  const outputElement = document.getElementById(outputId);\n",
              "  // Cache steps on the outputElement to make it available for the next call\n",
              "  // to uploadFilesContinue from Python.\n",
              "  outputElement.steps = steps;\n",
              "\n",
              "  return _uploadFilesContinue(outputId);\n",
              "}\n",
              "\n",
              "// This is roughly an async generator (not supported in the browser yet),\n",
              "// where there are multiple asynchronous steps and the Python side is going\n",
              "// to poll for completion of each step.\n",
              "// This uses a Promise to block the python side on completion of each step,\n",
              "// then passes the result of the previous step as the input to the next step.\n",
              "function _uploadFilesContinue(outputId) {\n",
              "  const outputElement = document.getElementById(outputId);\n",
              "  const steps = outputElement.steps;\n",
              "\n",
              "  const next = steps.next(outputElement.lastPromiseValue);\n",
              "  return Promise.resolve(next.value.promise).then((value) => {\n",
              "    // Cache the last promise value to make it available to the next\n",
              "    // step of the generator.\n",
              "    outputElement.lastPromiseValue = value;\n",
              "    return next.value.response;\n",
              "  });\n",
              "}\n",
              "\n",
              "/**\n",
              " * Generator function which is called between each async step of the upload\n",
              " * process.\n",
              " * @param {string} inputId Element ID of the input file picker element.\n",
              " * @param {string} outputId Element ID of the output display.\n",
              " * @return {!Iterable<!Object>} Iterable of next steps.\n",
              " */\n",
              "function* uploadFilesStep(inputId, outputId) {\n",
              "  const inputElement = document.getElementById(inputId);\n",
              "  inputElement.disabled = false;\n",
              "\n",
              "  const outputElement = document.getElementById(outputId);\n",
              "  outputElement.innerHTML = '';\n",
              "\n",
              "  const pickedPromise = new Promise((resolve) => {\n",
              "    inputElement.addEventListener('change', (e) => {\n",
              "      resolve(e.target.files);\n",
              "    });\n",
              "  });\n",
              "\n",
              "  const cancel = document.createElement('button');\n",
              "  inputElement.parentElement.appendChild(cancel);\n",
              "  cancel.textContent = 'Cancel upload';\n",
              "  const cancelPromise = new Promise((resolve) => {\n",
              "    cancel.onclick = () => {\n",
              "      resolve(null);\n",
              "    };\n",
              "  });\n",
              "\n",
              "  // Wait for the user to pick the files.\n",
              "  const files = yield {\n",
              "    promise: Promise.race([pickedPromise, cancelPromise]),\n",
              "    response: {\n",
              "      action: 'starting',\n",
              "    }\n",
              "  };\n",
              "\n",
              "  cancel.remove();\n",
              "\n",
              "  // Disable the input element since further picks are not allowed.\n",
              "  inputElement.disabled = true;\n",
              "\n",
              "  if (!files) {\n",
              "    return {\n",
              "      response: {\n",
              "        action: 'complete',\n",
              "      }\n",
              "    };\n",
              "  }\n",
              "\n",
              "  for (const file of files) {\n",
              "    const li = document.createElement('li');\n",
              "    li.append(span(file.name, {fontWeight: 'bold'}));\n",
              "    li.append(span(\n",
              "        `(${file.type || 'n/a'}) - ${file.size} bytes, ` +\n",
              "        `last modified: ${\n",
              "            file.lastModifiedDate ? file.lastModifiedDate.toLocaleDateString() :\n",
              "                                    'n/a'} - `));\n",
              "    const percent = span('0% done');\n",
              "    li.appendChild(percent);\n",
              "\n",
              "    outputElement.appendChild(li);\n",
              "\n",
              "    const fileDataPromise = new Promise((resolve) => {\n",
              "      const reader = new FileReader();\n",
              "      reader.onload = (e) => {\n",
              "        resolve(e.target.result);\n",
              "      };\n",
              "      reader.readAsArrayBuffer(file);\n",
              "    });\n",
              "    // Wait for the data to be ready.\n",
              "    let fileData = yield {\n",
              "      promise: fileDataPromise,\n",
              "      response: {\n",
              "        action: 'continue',\n",
              "      }\n",
              "    };\n",
              "\n",
              "    // Use a chunked sending to avoid message size limits. See b/62115660.\n",
              "    let position = 0;\n",
              "    do {\n",
              "      const length = Math.min(fileData.byteLength - position, MAX_PAYLOAD_SIZE);\n",
              "      const chunk = new Uint8Array(fileData, position, length);\n",
              "      position += length;\n",
              "\n",
              "      const base64 = btoa(String.fromCharCode.apply(null, chunk));\n",
              "      yield {\n",
              "        response: {\n",
              "          action: 'append',\n",
              "          file: file.name,\n",
              "          data: base64,\n",
              "        },\n",
              "      };\n",
              "\n",
              "      let percentDone = fileData.byteLength === 0 ?\n",
              "          100 :\n",
              "          Math.round((position / fileData.byteLength) * 100);\n",
              "      percent.textContent = `${percentDone}% done`;\n",
              "\n",
              "    } while (position < fileData.byteLength);\n",
              "  }\n",
              "\n",
              "  // All done.\n",
              "  yield {\n",
              "    response: {\n",
              "      action: 'complete',\n",
              "    }\n",
              "  };\n",
              "}\n",
              "\n",
              "scope.google = scope.google || {};\n",
              "scope.google.colab = scope.google.colab || {};\n",
              "scope.google.colab._files = {\n",
              "  _uploadFiles,\n",
              "  _uploadFilesContinue,\n",
              "};\n",
              "})(self);\n",
              "</script> "
            ]
          },
          "metadata": {}
        },
        {
          "output_type": "stream",
          "name": "stdout",
          "text": [
            "Saving spambase.csv to spambase.csv\n"
          ]
        }
      ]
    },
    {
      "cell_type": "code",
      "execution_count": 20,
      "metadata": {
        "id": "upfmVeABxIph",
        "outputId": "18babf7e-ca45-45ed-be41-4290aabac262",
        "colab": {
          "base_uri": "https://localhost:8080/"
        }
      },
      "outputs": [
        {
          "output_type": "stream",
          "name": "stdout",
          "text": [
            "Spambase Dataset Performance:\n",
            "Accuracy: 91.86%\n",
            "Precision: 0.93\n",
            "Recall: 0.87\n",
            "F1 Score: 0.90\n",
            "ROC AUC: 0.97\n",
            "\n",
            "Confusion Matrix:\n",
            " [[506  25]\n",
            " [ 50 340]]\n",
            "\n",
            "Classification Report:\n",
            "               precision    recall  f1-score   support\n",
            "\n",
            "           0       0.91      0.95      0.93       531\n",
            "           1       0.93      0.87      0.90       390\n",
            "\n",
            "    accuracy                           0.92       921\n",
            "   macro avg       0.92      0.91      0.92       921\n",
            "weighted avg       0.92      0.92      0.92       921\n",
            "\n",
            "\n",
            "Comparison of Logistic Regression Performance:\n",
            "Metric         Heart     Spambase\n",
            "----------------------------------------\n",
            "Accuracy:       85.25%     91.86%\n",
            "Precision:      0.87        0.93\n",
            "Recall:         0.84        0.87\n",
            "F1 Score:       0.86        0.90\n",
            "ROC AUC:        0.93        0.97\n"
          ]
        }
      ],
      "source": [
        "# Load the Spambase dataset\n",
        "spambase_data = pd.read_csv(\"spambase.csv\")  # Ensure you have spambase.csv file\n",
        "X_spam = spambase_data.drop(columns=[\"spam\"])\n",
        "y_spam = spambase_data[\"spam\"]\n",
        "\n",
        "# Split the dataset\n",
        "X_train_spam, X_test_spam, y_train_spam, y_test_spam = train_test_split(X_spam, y_spam, test_size=0.2, random_state=42)\n",
        "\n",
        "# Standardize the features\n",
        "X_train_spam = scaler.fit_transform(X_train_spam)\n",
        "X_test_spam = scaler.transform(X_test_spam)\n",
        "\n",
        "# Train Logistic Regression model\n",
        "log_reg_spam = LogisticRegression(solver=\"liblinear\", random_state=0)\n",
        "log_reg_spam.fit(X_train_spam, y_train_spam)\n",
        "\n",
        "# Predictions\n",
        "y_pred_spam = log_reg_spam.predict(X_test_spam)\n",
        "y_prob_spam = log_reg_spam.predict_proba(X_test_spam)[:, 1]\n",
        "\n",
        "# Performance metrics\n",
        "accuracy_spam = accuracy_score(y_test_spam, y_pred_spam)\n",
        "precision_spam = precision_score(y_test_spam, y_pred_spam)\n",
        "recall_spam = recall_score(y_test_spam, y_pred_spam)\n",
        "f1_spam = f1_score(y_test_spam, y_pred_spam)\n",
        "fpr_spam, tpr_spam, _ = roc_curve(y_test_spam, y_prob_spam)\n",
        "roc_auc_spam = auc(fpr_spam, tpr_spam)\n",
        "\n",
        "print(f\"Spambase Dataset Performance:\")\n",
        "print(f\"Accuracy: {accuracy_spam*100:.2f}%\")\n",
        "print(f\"Precision: {precision_spam:.2f}\")\n",
        "print(f\"Recall: {recall_spam:.2f}\")\n",
        "print(f\"F1 Score: {f1_spam:.2f}\")\n",
        "print(f\"ROC AUC: {roc_auc_spam:.2f}\")\n",
        "print(\"\\nConfusion Matrix:\\n\", confusion_matrix(y_test_spam, y_pred_spam))\n",
        "print(\"\\nClassification Report:\\n\", classification_report(y_test_spam, y_pred_spam))\n",
        "\n",
        "# Compare with Heart dataset\n",
        "print(\"\\nComparison of Logistic Regression Performance:\")\n",
        "print(f\"{'Metric':<15}{'Heart':<10}{'Spambase'}\")\n",
        "print(f\"{'-'*40}\")\n",
        "print(f\"Accuracy:       {accuracy*100:.2f}%     {accuracy_spam*100:.2f}%\")\n",
        "print(f\"Precision:      {precision:.2f}        {precision_spam:.2f}\")\n",
        "print(f\"Recall:         {recall:.2f}        {recall_spam:.2f}\")\n",
        "print(f\"F1 Score:       {f1:.2f}        {f1_spam:.2f}\")\n",
        "print(f\"ROC AUC:        {roc_auc:.2f}        {roc_auc_spam:.2f}\")\n"
      ]
    },
    {
      "cell_type": "markdown",
      "source": [
        "##Q3: Compare Logistic Regression, Naïve Bayes, and kNN on Heart and Spambase datasets"
      ],
      "metadata": {
        "id": "z8juZKRHpYww"
      }
    },
    {
      "cell_type": "code",
      "source": [
        "from sklearn.naive_bayes import GaussianNB\n",
        "from sklearn.neighbors import KNeighborsClassifier\n",
        "\n",
        "# Define models\n",
        "models = {\n",
        "    \"Logistic Regression\": LogisticRegression(solver=\"liblinear\", random_state=0),\n",
        "    \"Naïve Bayes\": GaussianNB(),\n",
        "    \"kNN (k=5)\": KNeighborsClassifier(n_neighbors=5)\n",
        "}\n",
        "\n",
        "datasets = {\n",
        "    \"Heart\": (X_train_heart, X_test_heart, y_train_heart, y_test_heart),\n",
        "    \"Spambase\": (X_train_spam, X_test_spam, y_train_spam, y_test_spam)\n",
        "}\n",
        "\n",
        "# Evaluate models on both datasets\n",
        "for dataset_name, (X_train, X_test, y_train, y_test) in datasets.items():\n",
        "    print(f\"\\nPerformance on {dataset_name} dataset:\")\n",
        "    print(f\"{'Model':<20}{'Accuracy':<10}{'Precision':<10}{'Recall':<10}{'F1 Score':<10}\")\n",
        "    print(\"-\" * 60)\n",
        "\n",
        "    for model_name, model in models.items():\n",
        "        model.fit(X_train, y_train)\n",
        "        y_pred = model.predict(X_test)\n",
        "\n",
        "        acc = accuracy_score(y_test, y_pred)\n",
        "        prec = precision_score(y_test, y_pred)\n",
        "        rec = recall_score(y_test, y_pred)\n",
        "        f1 = f1_score(y_test, y_pred)\n",
        "\n",
        "        print(f\"{model_name:<20}{acc*100:.2f}%      {prec:.2f}      {rec:.2f}      {f1:.2f}\")\n"
      ],
      "metadata": {
        "id": "yTh2fy9Fn-BA",
        "outputId": "6a0ca9ab-4873-4728-ec20-e28aa8bd9b10",
        "colab": {
          "base_uri": "https://localhost:8080/"
        }
      },
      "execution_count": 21,
      "outputs": [
        {
          "output_type": "stream",
          "name": "stdout",
          "text": [
            "\n",
            "Performance on Heart dataset:\n",
            "Model               Accuracy  Precision Recall    F1 Score  \n",
            "------------------------------------------------------------\n",
            "Logistic Regression 85.25%      0.87      0.84      0.86\n",
            "Naïve Bayes         86.89%      0.90      0.84      0.87\n",
            "kNN (k=5)           90.16%      0.93      0.88      0.90\n",
            "\n",
            "Performance on Spambase dataset:\n",
            "Model               Accuracy  Precision Recall    F1 Score  \n",
            "------------------------------------------------------------\n",
            "Logistic Regression 91.86%      0.93      0.87      0.90\n",
            "Naïve Bayes         82.19%      0.72      0.94      0.82\n",
            "kNN (k=5)           89.36%      0.90      0.84      0.87\n"
          ]
        }
      ]
    },
    {
      "cell_type": "code",
      "source": [],
      "metadata": {
        "id": "KG7XeItQpSLp"
      },
      "execution_count": null,
      "outputs": []
    }
  ],
  "metadata": {
    "kernelspec": {
      "display_name": "Python 3 (ipykernel)",
      "language": "python",
      "name": "python3"
    },
    "language_info": {
      "codemirror_mode": {
        "name": "ipython",
        "version": 3
      },
      "file_extension": ".py",
      "mimetype": "text/x-python",
      "name": "python",
      "nbconvert_exporter": "python",
      "pygments_lexer": "ipython3",
      "version": "3.12.5"
    },
    "colab": {
      "provenance": [],
      "include_colab_link": true
    }
  },
  "nbformat": 4,
  "nbformat_minor": 0
}