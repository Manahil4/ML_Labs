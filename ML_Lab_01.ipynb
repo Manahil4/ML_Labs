{
  "nbformat": 4,
  "nbformat_minor": 0,
  "metadata": {
    "colab": {
      "provenance": [],
      "include_colab_link": true
    },
    "kernelspec": {
      "name": "python3",
      "display_name": "Python 3"
    },
    "language_info": {
      "name": "python"
    }
  },
  "cells": [
    {
      "cell_type": "markdown",
      "metadata": {
        "id": "view-in-github",
        "colab_type": "text"
      },
      "source": [
        "<a href=\"https://colab.research.google.com/github/Manahil4/ML_Labs/blob/main/ML_Lab_01.ipynb\" target=\"_parent\"><img src=\"https://colab.research.google.com/assets/colab-badge.svg\" alt=\"Open In Colab\"/></a>"
      ]
    },
    {
      "cell_type": "markdown",
      "source": [
        "# Lab 01"
      ],
      "metadata": {
        "id": "PjqVMUytqAe-"
      }
    },
    {
      "cell_type": "markdown",
      "source": [
        "## Install numpy"
      ],
      "metadata": {
        "id": "7khcuie9rCXs"
      }
    },
    {
      "cell_type": "code",
      "source": [
        "pip install numpy # to be used win shell"
      ],
      "metadata": {
        "id": "f1SKTcL_qEWd"
      },
      "execution_count": null,
      "outputs": []
    },
    {
      "cell_type": "markdown",
      "source": [
        "### open any pyhton coding environment"
      ],
      "metadata": {
        "id": "oEjgVfPXrJnC"
      }
    },
    {
      "cell_type": "code",
      "execution_count": 2,
      "metadata": {
        "id": "3KmnySmbp4iM"
      },
      "outputs": [],
      "source": [
        "import numpy as np"
      ]
    },
    {
      "cell_type": "markdown",
      "source": [
        "## Creating ndarrays\n",
        "### Example 1\n",
        "Note:\n",
        "- Default data type in most cases in float64"
      ],
      "metadata": {
        "id": "vcfwE1I-rxmd"
      }
    },
    {
      "cell_type": "markdown",
      "source": [
        "# Array creation functions\n",
        "## 1. array\n",
        "- Convert input data (list, tuple, array, or other sequence type) to an ndarray either by inferring a dtype or explicitly specifying a dtype.\n",
        "- Copies the input data by default."
      ],
      "metadata": {
        "id": "vKxGGSsNwifv"
      }
    },
    {
      "cell_type": "code",
      "source": [
        "# create array using array function\n",
        "data1 = [6, 7.5, 8, 0, 1]\n",
        "arr1 = np.array(data1)\n",
        "arr1\n"
      ],
      "metadata": {
        "colab": {
          "base_uri": "https://localhost:8080/"
        },
        "id": "L8vrmKHHsAJv",
        "outputId": "6ced921b-672e-41e2-b512-29bbfdd878dc"
      },
      "execution_count": null,
      "outputs": [
        {
          "output_type": "execute_result",
          "data": {
            "text/plain": [
              "array([6. , 7.5, 8. , 0. , 1. ])"
            ]
          },
          "metadata": {},
          "execution_count": 4
        }
      ]
    },
    {
      "cell_type": "code",
      "source": [
        "# Nested sequences, like a list of equal-length lists, will be converted into a multidimensional array\n",
        "data2 = [[1, 2, 3, 4], [5, 6, 7, 8]]\n",
        "arr2 = np.array(data2)\n",
        "print(arr2)\n",
        "arr2.ndim\n",
        "arr2.shape"
      ],
      "metadata": {
        "colab": {
          "base_uri": "https://localhost:8080/"
        },
        "id": "EFUomEWYsPiB",
        "outputId": "9826a5db-9d9c-4b31-cf2a-2bbba00ca9df"
      },
      "execution_count": null,
      "outputs": [
        {
          "output_type": "stream",
          "name": "stdout",
          "text": [
            "[[1 2 3 4]\n",
            " [5 6 7 8]]\n"
          ]
        },
        {
          "output_type": "execute_result",
          "data": {
            "text/plain": [
              "(2, 4)"
            ]
          },
          "metadata": {},
          "execution_count": 5
        }
      ]
    },
    {
      "cell_type": "code",
      "source": [
        "#Unless explicitly specified, np.array tries to infer a good data type for the array that it creates\n",
        "# The data type is stored in a special dtype object\n",
        "print( arr1.dtype)\n",
        "print( arr2.dtype)"
      ],
      "metadata": {
        "colab": {
          "base_uri": "https://localhost:8080/"
        },
        "id": "RpPnZdWCspf4",
        "outputId": "07ee2198-ccf1-4cbc-e4a0-5001514dd094"
      },
      "execution_count": null,
      "outputs": [
        {
          "output_type": "stream",
          "name": "stdout",
          "text": [
            "float64\n",
            "int64\n"
          ]
        }
      ]
    },
    {
      "cell_type": "code",
      "source": [
        "arr3 = np.array([1, 2, 3], dtype=np.float64)\n",
        "print(arr3)\n",
        "print( arr3.dtype)"
      ],
      "metadata": {
        "colab": {
          "base_uri": "https://localhost:8080/"
        },
        "id": "pdjbSWIjtDaz",
        "outputId": "7f499ad4-e2d1-4279-dde9-be66c3f227f6"
      },
      "execution_count": null,
      "outputs": [
        {
          "output_type": "stream",
          "name": "stdout",
          "text": [
            "[1. 2. 3.]\n",
            "float64\n"
          ]
        }
      ]
    },
    {
      "cell_type": "code",
      "source": [
        "arr4 = np.array([1, 2, 3], dtype=np.int32)\n",
        "print(arr4)\n",
        "print(arr4.dtype)"
      ],
      "metadata": {
        "colab": {
          "base_uri": "https://localhost:8080/"
        },
        "id": "L4KLvynetgJj",
        "outputId": "7c8065dd-ecca-4023-dfa4-b27f7993a8d6"
      },
      "execution_count": null,
      "outputs": [
        {
          "output_type": "stream",
          "name": "stdout",
          "text": [
            "[1 2 3]\n",
            "int32\n"
          ]
        }
      ]
    },
    {
      "cell_type": "markdown",
      "source": [
        "### To create a higher dimensional array with these methods, pass a tuple for the shape"
      ],
      "metadata": {
        "id": "GGbE_W2KuP2Z"
      }
    },
    {
      "cell_type": "code",
      "source": [
        "np.zeros(10)"
      ],
      "metadata": {
        "colab": {
          "base_uri": "https://localhost:8080/"
        },
        "id": "5kiBBpzqtk8p",
        "outputId": "e840d2af-8d00-4bb8-d0a3-d6ca0058bc7b"
      },
      "execution_count": null,
      "outputs": [
        {
          "output_type": "execute_result",
          "data": {
            "text/plain": [
              "array([0., 0., 0., 0., 0., 0., 0., 0., 0., 0.])"
            ]
          },
          "metadata": {},
          "execution_count": 15
        }
      ]
    },
    {
      "cell_type": "code",
      "source": [
        "np.zeros((3, 6))\n"
      ],
      "metadata": {
        "colab": {
          "base_uri": "https://localhost:8080/"
        },
        "id": "5tc1zoD1uTIn",
        "outputId": "01073a45-cc38-466a-8d48-4659f5d8e8bb"
      },
      "execution_count": null,
      "outputs": [
        {
          "output_type": "execute_result",
          "data": {
            "text/plain": [
              "array([[0., 0., 0., 0., 0., 0.],\n",
              "       [0., 0., 0., 0., 0., 0.],\n",
              "       [0., 0., 0., 0., 0., 0.]])"
            ]
          },
          "metadata": {},
          "execution_count": 16
        }
      ]
    },
    {
      "cell_type": "markdown",
      "source": [
        "## Note:\n",
        "1. zeros_like takes another array and produces a ones array of the same shape and dtype.\n",
        "2. Explore it at your own\n",
        "\n"
      ],
      "metadata": {
        "id": "57iJnfQqxlvW"
      }
    },
    {
      "cell_type": "code",
      "source": [
        "np.empty((2, 3, 2))  # initial garbage values are displayed"
      ],
      "metadata": {
        "colab": {
          "base_uri": "https://localhost:8080/"
        },
        "id": "sqqdjsJ_uVsG",
        "outputId": "ed0694cd-a467-4666-ce28-06358ca1f506"
      },
      "execution_count": null,
      "outputs": [
        {
          "output_type": "execute_result",
          "data": {
            "text/plain": [
              "array([[[5.06286193e-310, 0.00000000e+000],\n",
              "        [0.00000000e+000, 0.00000000e+000],\n",
              "        [0.00000000e+000, 0.00000000e+000]],\n",
              "\n",
              "       [[0.00000000e+000, 0.00000000e+000],\n",
              "        [0.00000000e+000, 0.00000000e+000],\n",
              "        [0.00000000e+000, 0.00000000e+000]]])"
            ]
          },
          "metadata": {},
          "execution_count": 17
        }
      ]
    },
    {
      "cell_type": "markdown",
      "source": [
        "## arange() (similar to range)\n",
        "- arange is an array-valued version of the built-in Python range function, but returns an ndarray instead of a list.\n",
        "\n",
        "- -ve or 0 paramter does not create an array\n",
        "\n"
      ],
      "metadata": {
        "id": "ZYjXb7kDurE8"
      }
    },
    {
      "cell_type": "code",
      "source": [
        "arr5= np.arange(15)\n",
        "arr5"
      ],
      "metadata": {
        "colab": {
          "base_uri": "https://localhost:8080/"
        },
        "id": "9x1XEZjauZ2C",
        "outputId": "a7ecfbd6-3d71-4991-b296-030e0a4602b3"
      },
      "execution_count": null,
      "outputs": [
        {
          "output_type": "execute_result",
          "data": {
            "text/plain": [
              "array([ 0,  1,  2,  3,  4,  5,  6,  7,  8,  9, 10, 11, 12, 13, 14])"
            ]
          },
          "metadata": {},
          "execution_count": 23
        }
      ]
    },
    {
      "cell_type": "markdown",
      "source": [
        "# Some other Array creation functions\n",
        "1. ones, ones_like\n",
        "Produce an array of all 1’s with the given shape and dtype. ones_like takes another array and\n",
        "produces a ones array of the same shape and dtype.\n",
        "\n",
        "2. empty, empty_like\n",
        "Create new arrays by allocating new memory, but do not populate with any values like ones and zeros\n",
        "\n",
        "3.eye, identity\n",
        "Create a square N x N identity matrix (1’s on the diagonal and 0’s elsewhere)\n",
        "\n"
      ],
      "metadata": {
        "id": "TG8zbe2BxKz_"
      }
    },
    {
      "cell_type": "code",
      "source": [
        "arr6= np.eye(4)\n",
        "arr6"
      ],
      "metadata": {
        "id": "tvLzJwKlvCjt",
        "outputId": "94af0d01-239e-4cc0-accb-8a55c8beeef8",
        "colab": {
          "base_uri": "https://localhost:8080/"
        }
      },
      "execution_count": 3,
      "outputs": [
        {
          "output_type": "execute_result",
          "data": {
            "text/plain": [
              "array([[1., 0., 0., 0.],\n",
              "       [0., 1., 0., 0.],\n",
              "       [0., 0., 1., 0.],\n",
              "       [0., 0., 0., 1.]])"
            ]
          },
          "metadata": {},
          "execution_count": 3
        }
      ]
    },
    {
      "cell_type": "code",
      "source": [],
      "metadata": {
        "id": "0TMqaVZmK35G"
      },
      "execution_count": null,
      "outputs": []
    }
  ]
}