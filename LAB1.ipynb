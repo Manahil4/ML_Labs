{
 "cells": [
  {
   "cell_type": "code",
   "execution_count": 2,
   "metadata": {},
   "outputs": [
    {
     "data": {
      "text/plain": [
       "array([ 1,  3,  9, 12, 18])"
      ]
     },
     "execution_count": 2,
     "metadata": {},
     "output_type": "execute_result"
    }
   ],
   "source": [
    "import numpy as np\n",
    "# create array using array function\n",
    "data1=np.array([1,3,9,12,18])\n",
    "# data1 + data1\n",
    "data1"
   ]
  },
  {
   "cell_type": "code",
   "execution_count": 18,
   "metadata": {},
   "outputs": [
    {
     "name": "stdout",
     "output_type": "stream",
     "text": [
      "int32\n"
     ]
    }
   ],
   "source": [
    "print(data1.astype(np.int32).dtype)\n",
    "# print(data1.dtype)"
   ]
  },
  {
   "cell_type": "code",
   "execution_count": 11,
   "metadata": {},
   "outputs": [
    {
     "name": "stdout",
     "output_type": "stream",
     "text": [
      "[[0. 0. 0.]\n",
      " [0. 0. 0.]]\n",
      "[[1. 1. 1. 1.]\n",
      " [1. 1. 1. 1.]]\n"
     ]
    }
   ],
   "source": [
    "print(np.zeros((2,3)))\n",
    "print(np.ones((2,4)))\n"
   ]
  },
  {
   "cell_type": "code",
   "execution_count": 13,
   "metadata": {},
   "outputs": [
    {
     "name": "stdout",
     "output_type": "stream",
     "text": [
      "[[ 5 15 83]\n",
      " [33  5 98]\n",
      " [13 45 75]\n",
      " [60 18 77]\n",
      " [10 76 95]\n",
      " [61 12  2]]\n"
     ]
    }
   ],
   "source": [
    "print(np.random.randint(100, size=(6, 3)))"
   ]
  },
  {
   "cell_type": "code",
   "execution_count": 45,
   "metadata": {},
   "outputs": [
    {
     "data": {
      "text/plain": [
       "array([[   5,   15, 6889],\n",
       "       [  33,    5,   98],\n",
       "       [  13,   45,   75],\n",
       "       [  60,   18,   77],\n",
       "       [  10,   76,   95],\n",
       "       [  61,   12,    2]])"
      ]
     },
     "execution_count": 45,
     "metadata": {},
     "output_type": "execute_result"
    }
   ],
   "source": [
    "data2=np.array([[ 5, 15, 83], [33,  5 ,98] ,[13, 45, 75], [60, 18, 77] ,[10, 76, 95], [61, 12,  2]])\n",
    "data2[0,2]=data2[0,2]**2\n",
    "data2\n"
   ]
  },
  {
   "cell_type": "code",
   "execution_count": 15,
   "metadata": {},
   "outputs": [
    {
     "data": {
      "text/plain": [
       "array([1, 2, 3], dtype=int32)"
      ]
     },
     "execution_count": 15,
     "metadata": {},
     "output_type": "execute_result"
    }
   ],
   "source": [
    "data1\n"
   ]
  },
  {
   "cell_type": "code",
   "execution_count": 29,
   "metadata": {},
   "outputs": [
    {
     "ename": "DTypePromotionError",
     "evalue": "The DType <class 'numpy.dtypes.StrDType'> could not be promoted by <class 'numpy.dtypes._PyLongDType'>. This means that no common DType exists for the given inputs. For example they cannot be stored in a single array unless the dtype is `object`. The full list of DTypes is: (<class 'numpy.dtypes.StrDType'>, <class 'numpy.dtypes._PyLongDType'>)",
     "output_type": "error",
     "traceback": [
      "\u001b[1;31m---------------------------------------------------------------------------\u001b[0m",
      "\u001b[1;31mDTypePromotionError\u001b[0m                       Traceback (most recent call last)",
      "Cell \u001b[1;32mIn[29], line 7\u001b[0m\n\u001b[0;32m      1\u001b[0m subjects \u001b[38;5;241m=\u001b[39m np\u001b[38;5;241m.\u001b[39marray([\n\u001b[0;32m      2\u001b[0m     [\u001b[38;5;124m'\u001b[39m\u001b[38;5;124mML\u001b[39m\u001b[38;5;124m'\u001b[39m, \u001b[38;5;124m'\u001b[39m\u001b[38;5;124mOS\u001b[39m\u001b[38;5;124m'\u001b[39m, \u001b[38;5;124m'\u001b[39m\u001b[38;5;124mCCN\u001b[39m\u001b[38;5;124m'\u001b[39m],\n\u001b[0;32m      3\u001b[0m     [\u001b[38;5;124m'\u001b[39m\u001b[38;5;124mOS\u001b[39m\u001b[38;5;124m'\u001b[39m, \u001b[38;5;124m'\u001b[39m\u001b[38;5;124mAI\u001b[39m\u001b[38;5;124m'\u001b[39m, \u001b[38;5;124m'\u001b[39m\u001b[38;5;124mMP\u001b[39m\u001b[38;5;124m'\u001b[39m],\n\u001b[0;32m      4\u001b[0m     [\u001b[38;5;124m'\u001b[39m\u001b[38;5;124mCCN\u001b[39m\u001b[38;5;124m'\u001b[39m, \u001b[38;5;124m'\u001b[39m\u001b[38;5;124mML\u001b[39m\u001b[38;5;124m'\u001b[39m, \u001b[38;5;124m'\u001b[39m\u001b[38;5;124mAI\u001b[39m\u001b[38;5;124m'\u001b[39m]\n\u001b[0;32m      5\u001b[0m ])\n\u001b[0;32m      6\u001b[0m mask \u001b[38;5;241m=\u001b[39m (subjects \u001b[38;5;241m==\u001b[39m \u001b[38;5;124m'\u001b[39m\u001b[38;5;124mML\u001b[39m\u001b[38;5;124m'\u001b[39m) \u001b[38;5;241m|\u001b[39m (subjects \u001b[38;5;241m==\u001b[39m \u001b[38;5;124m'\u001b[39m\u001b[38;5;124mAI\u001b[39m\u001b[38;5;124m'\u001b[39m)\n\u001b[1;32m----> 7\u001b[0m subjects_masked \u001b[38;5;241m=\u001b[39m \u001b[43mnp\u001b[49m\u001b[38;5;241;43m.\u001b[39;49m\u001b[43mwhere\u001b[49m\u001b[43m(\u001b[49m\u001b[43mmask\u001b[49m\u001b[43m,\u001b[49m\u001b[43m \u001b[49m\u001b[43msubjects\u001b[49m\u001b[43m,\u001b[49m\u001b[43m \u001b[49m\u001b[38;5;241;43m0\u001b[39;49m\u001b[43m)\u001b[49m\n",
      "\u001b[1;31mDTypePromotionError\u001b[0m: The DType <class 'numpy.dtypes.StrDType'> could not be promoted by <class 'numpy.dtypes._PyLongDType'>. This means that no common DType exists for the given inputs. For example they cannot be stored in a single array unless the dtype is `object`. The full list of DTypes is: (<class 'numpy.dtypes.StrDType'>, <class 'numpy.dtypes._PyLongDType'>)"
     ]
    }
   ],
   "source": [
    "subjects = np.array([\n",
    "    ['ML', 'OS', 'CCN'],\n",
    "    ['OS', 'AI', 'MP'],\n",
    "    ['CCN', 'ML', 'AI']\n",
    "])\n",
    "mask = (subjects == 'ML') | (subjects == 'AI')\n",
    "subjects_masked = np.where(mask, subjects, 0)\n"
   ]
  },
  {
   "cell_type": "code",
   "execution_count": 34,
   "metadata": {},
   "outputs": [
    {
     "data": {
      "text/plain": [
       "array([['ML', '0', '0'],\n",
       "       ['0', 'AI', '0'],\n",
       "       ['0', 'ML', 'AI']], dtype='<U3')"
      ]
     },
     "execution_count": 34,
     "metadata": {},
     "output_type": "execute_result"
    }
   ],
   "source": [
    "Subjects = np.array([[\"ML\",\"OS\",\"CCN\"],[\"OS\",\"AI\",\"MP\"],[\"CCN\",\"ML\",\"AI\"]])\n",
    "# numpy built-in method\n",
    "# newSubjects = np.isin(Subjects,[\"ML\",\"AI\"],invert=True)\n",
    "# Subjects[newSubjects] = 0\n",
    "# Subjects\n",
    "# Boolean Indexing Method\n",
    "Subjects[(Subjects != \"ML\") & (Subjects != \"AI\")] = 0\n",
    "Subjects"
   ]
  },
  {
   "cell_type": "code",
   "execution_count": 37,
   "metadata": {},
   "outputs": [
    {
     "name": "stdout",
     "output_type": "stream",
     "text": [
      "[[   5   33   13   60   10   61]\n",
      " [  15    5   45   18   76   12]\n",
      " [6889   98   75   77   95    2]] \n",
      " [['7' '5' '3']\n",
      " ['6' '4' '2']] [[11 34]\n",
      " [52 61]\n",
      " [20 43]\n",
      " [50 17]]\n"
     ]
    }
   ],
   "source": [
    "data3 = np.array([['7', '6'],\n",
    "                  ['5', '4'],\n",
    "                  ['3', '2']])\n",
    "data4 = np.array([[11, 52, 20, 50],\n",
    "                  [34, 61, 43, 17]])\n",
    "\n",
    "data2_transposed = data2.T\n",
    "data3_transposed = data3.T\n",
    "data4_transposed = data4.T\n",
    "print(data2_transposed,'\\n',data3_transposed,data4_transposed)"
   ]
  },
  {
   "cell_type": "code",
   "execution_count": 46,
   "metadata": {},
   "outputs": [
    {
     "data": {
      "text/plain": [
       "array([[-2.53333333e+01, -1.35000000e+01,  5.68300000e+03],\n",
       "       [ 2.66666667e+00, -2.35000000e+01, -1.10800000e+03],\n",
       "       [-1.73333333e+01,  1.65000000e+01, -1.13100000e+03],\n",
       "       [ 2.96666667e+01, -1.05000000e+01, -1.12900000e+03],\n",
       "       [-2.03333333e+01,  4.75000000e+01, -1.11100000e+03],\n",
       "       [ 3.06666667e+01, -1.65000000e+01, -1.20400000e+03]])"
      ]
     },
     "execution_count": 46,
     "metadata": {},
     "output_type": "execute_result"
    }
   ],
   "source": [
    "mdata2=data2 - data2.mean(axis=0)\n",
    "mdata2\n"
   ]
  },
  {
   "cell_type": "code",
   "execution_count": 48,
   "metadata": {},
   "outputs": [
    {
     "data": {
      "text/plain": [
       "array([[-2.53333333e+01, -1.35000000e+01,  5.68300000e+03],\n",
       "       [ 2.66666667e+00, -2.35000000e+01, -1.10800000e+03],\n",
       "       [-1.73333333e+01,  1.65000000e+01, -1.13100000e+03],\n",
       "       [ 2.96666667e+01, -1.05000000e+01, -1.12900000e+03],\n",
       "       [-2.03333333e+01,  4.75000000e+01, -1.11100000e+03],\n",
       "       [ 3.06666667e+01, -1.65000000e+01, -1.20400000e+03]])"
      ]
     },
     "execution_count": 48,
     "metadata": {},
     "output_type": "execute_result"
    }
   ],
   "source": [
    "meanData2 = data2.mean(0)\n",
    "demeanData2 = data2 - meanData2\n",
    "demeanData2\n",
    "# data2\n"
   ]
  },
  {
   "cell_type": "code",
   "execution_count": 3,
   "metadata": {},
   "outputs": [],
   "source": [
    "student_scores = np.array([\n",
    "    [60, 70, 50],  # Subject1\n",
    "    [40, 60, 80],  # Subject2\n",
    "    [70, 55, 65]   # Subject3\n",
    "])"
   ]
  },
  {
   "cell_type": "code",
   "execution_count": 4,
   "metadata": {},
   "outputs": [
    {
     "name": "stdout",
     "output_type": "stream",
     "text": [
      "[70 80 70]\n"
     ]
    }
   ],
   "source": [
    "print( student_scores.max(axis=1))"
   ]
  }
 ],
 "metadata": {
  "kernelspec": {
   "display_name": "Python 3",
   "language": "python",
   "name": "python3"
  },
  "language_info": {
   "codemirror_mode": {
    "name": "ipython",
    "version": 3
   },
   "file_extension": ".py",
   "mimetype": "text/x-python",
   "name": "python",
   "nbconvert_exporter": "python",
   "pygments_lexer": "ipython3",
   "version": "3.12.4"
  }
 },
 "nbformat": 4,
 "nbformat_minor": 2
}
