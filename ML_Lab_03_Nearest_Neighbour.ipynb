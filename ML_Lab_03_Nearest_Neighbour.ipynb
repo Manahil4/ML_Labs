{
  "cells": [
    {
      "cell_type": "markdown",
      "metadata": {
        "id": "view-in-github",
        "colab_type": "text"
      },
      "source": [
        "<a href=\"https://colab.research.google.com/github/Manahil4/ML_Labs/blob/main/ML_Lab_03_Nearest_Neighbour.ipynb\" target=\"_parent\"><img src=\"https://colab.research.google.com/assets/colab-badge.svg\" alt=\"Open In Colab\"/></a>"
      ]
    },
    {
      "cell_type": "markdown",
      "metadata": {
        "id": "HqY0aVi2OrB2"
      },
      "source": [
        "## The Heart Dataset"
      ]
    },
    {
      "cell_type": "markdown",
      "metadata": {
        "id": "nroVX34UOrCB"
      },
      "source": [
        "File name: 'D6_Heart_Dataset_2.csv'\n",
        "\n",
        "This dataset has been obtained from Kaggle.\n",
        "\n",
        "The dataset contains 303 observations with 13 features and 1 class label with 0 and 1 values.\n",
        "These features are discussed below:\n",
        "1. age: in years\n",
        "2. sex: (1 = male; 0 = female)\n",
        "3. cp: chest pain type (1 = typical angina; 2 = atypical angina; 3 = non-anginal pain; 4 = asymptomatic)\n",
        "4. trestbps: resting blood pressure, in mm Hg on admission to the hospital\n",
        "5. chol: serum cholestrol in mg/dl\n",
        "6. fbs: fasting blood sugar, 120 mg.dl (1 = true; 0 = false)\n",
        "7. restecg: restinng electrocardiographic results (values: 0,1,2)\n",
        "8. thalach: maximum heart ache achieved\n",
        "9. exang: exercise induced angina (1 = yes; 0 = no)\n",
        "10. oldpeak: ST depression induced by exercise relative to rest\n",
        "11. slope: the slope of the peak exercise ST segment\n",
        "12. ca: number of major vessels (0-3) coloured by flouroscopy\n",
        "13. thal: (3 = normal; 6 = fixed defect; 7 = reversable defect)\n",
        "14. target: the predicted attribute, diagnosis of heart disease (0 = fit; 1 = diseased)\n",
        "\n",
        "This is a binary classification problem.\n",
        "Does not contain any categorical data, the dataset is clean. sed)"
      ]
    },
    {
      "cell_type": "markdown",
      "metadata": {
        "id": "5FJoXqGZOrCN"
      },
      "source": [
        "## Loading and exploring dataset"
      ]
    },
    {
      "cell_type": "code",
      "execution_count": null,
      "metadata": {
        "colab": {
          "base_uri": "https://localhost:8080/",
          "height": 38
        },
        "id": "xDgEoweQPUxE",
        "outputId": "9602d3de-9a92-4ffe-d5a4-d30103faadeb"
      },
      "outputs": [
        {
          "data": {
            "text/html": [
              "\n",
              "     <input type=\"file\" id=\"files-0b663736-c05e-492e-8709-75d8619e1cec\" name=\"files[]\" multiple disabled\n",
              "        style=\"border:none\" />\n",
              "     <output id=\"result-0b663736-c05e-492e-8709-75d8619e1cec\">\n",
              "      Upload widget is only available when the cell has been executed in the\n",
              "      current browser session. Please rerun this cell to enable.\n",
              "      </output>\n",
              "      <script>// Copyright 2017 Google LLC\n",
              "//\n",
              "// Licensed under the Apache License, Version 2.0 (the \"License\");\n",
              "// you may not use this file except in compliance with the License.\n",
              "// You may obtain a copy of the License at\n",
              "//\n",
              "//      http://www.apache.org/licenses/LICENSE-2.0\n",
              "//\n",
              "// Unless required by applicable law or agreed to in writing, software\n",
              "// distributed under the License is distributed on an \"AS IS\" BASIS,\n",
              "// WITHOUT WARRANTIES OR CONDITIONS OF ANY KIND, either express or implied.\n",
              "// See the License for the specific language governing permissions and\n",
              "// limitations under the License.\n",
              "\n",
              "/**\n",
              " * @fileoverview Helpers for google.colab Python module.\n",
              " */\n",
              "(function(scope) {\n",
              "function span(text, styleAttributes = {}) {\n",
              "  const element = document.createElement('span');\n",
              "  element.textContent = text;\n",
              "  for (const key of Object.keys(styleAttributes)) {\n",
              "    element.style[key] = styleAttributes[key];\n",
              "  }\n",
              "  return element;\n",
              "}\n",
              "\n",
              "// Max number of bytes which will be uploaded at a time.\n",
              "const MAX_PAYLOAD_SIZE = 100 * 1024;\n",
              "\n",
              "function _uploadFiles(inputId, outputId) {\n",
              "  const steps = uploadFilesStep(inputId, outputId);\n",
              "  const outputElement = document.getElementById(outputId);\n",
              "  // Cache steps on the outputElement to make it available for the next call\n",
              "  // to uploadFilesContinue from Python.\n",
              "  outputElement.steps = steps;\n",
              "\n",
              "  return _uploadFilesContinue(outputId);\n",
              "}\n",
              "\n",
              "// This is roughly an async generator (not supported in the browser yet),\n",
              "// where there are multiple asynchronous steps and the Python side is going\n",
              "// to poll for completion of each step.\n",
              "// This uses a Promise to block the python side on completion of each step,\n",
              "// then passes the result of the previous step as the input to the next step.\n",
              "function _uploadFilesContinue(outputId) {\n",
              "  const outputElement = document.getElementById(outputId);\n",
              "  const steps = outputElement.steps;\n",
              "\n",
              "  const next = steps.next(outputElement.lastPromiseValue);\n",
              "  return Promise.resolve(next.value.promise).then((value) => {\n",
              "    // Cache the last promise value to make it available to the next\n",
              "    // step of the generator.\n",
              "    outputElement.lastPromiseValue = value;\n",
              "    return next.value.response;\n",
              "  });\n",
              "}\n",
              "\n",
              "/**\n",
              " * Generator function which is called between each async step of the upload\n",
              " * process.\n",
              " * @param {string} inputId Element ID of the input file picker element.\n",
              " * @param {string} outputId Element ID of the output display.\n",
              " * @return {!Iterable<!Object>} Iterable of next steps.\n",
              " */\n",
              "function* uploadFilesStep(inputId, outputId) {\n",
              "  const inputElement = document.getElementById(inputId);\n",
              "  inputElement.disabled = false;\n",
              "\n",
              "  const outputElement = document.getElementById(outputId);\n",
              "  outputElement.innerHTML = '';\n",
              "\n",
              "  const pickedPromise = new Promise((resolve) => {\n",
              "    inputElement.addEventListener('change', (e) => {\n",
              "      resolve(e.target.files);\n",
              "    });\n",
              "  });\n",
              "\n",
              "  const cancel = document.createElement('button');\n",
              "  inputElement.parentElement.appendChild(cancel);\n",
              "  cancel.textContent = 'Cancel upload';\n",
              "  const cancelPromise = new Promise((resolve) => {\n",
              "    cancel.onclick = () => {\n",
              "      resolve(null);\n",
              "    };\n",
              "  });\n",
              "\n",
              "  // Wait for the user to pick the files.\n",
              "  const files = yield {\n",
              "    promise: Promise.race([pickedPromise, cancelPromise]),\n",
              "    response: {\n",
              "      action: 'starting',\n",
              "    }\n",
              "  };\n",
              "\n",
              "  cancel.remove();\n",
              "\n",
              "  // Disable the input element since further picks are not allowed.\n",
              "  inputElement.disabled = true;\n",
              "\n",
              "  if (!files) {\n",
              "    return {\n",
              "      response: {\n",
              "        action: 'complete',\n",
              "      }\n",
              "    };\n",
              "  }\n",
              "\n",
              "  for (const file of files) {\n",
              "    const li = document.createElement('li');\n",
              "    li.append(span(file.name, {fontWeight: 'bold'}));\n",
              "    li.append(span(\n",
              "        `(${file.type || 'n/a'}) - ${file.size} bytes, ` +\n",
              "        `last modified: ${\n",
              "            file.lastModifiedDate ? file.lastModifiedDate.toLocaleDateString() :\n",
              "                                    'n/a'} - `));\n",
              "    const percent = span('0% done');\n",
              "    li.appendChild(percent);\n",
              "\n",
              "    outputElement.appendChild(li);\n",
              "\n",
              "    const fileDataPromise = new Promise((resolve) => {\n",
              "      const reader = new FileReader();\n",
              "      reader.onload = (e) => {\n",
              "        resolve(e.target.result);\n",
              "      };\n",
              "      reader.readAsArrayBuffer(file);\n",
              "    });\n",
              "    // Wait for the data to be ready.\n",
              "    let fileData = yield {\n",
              "      promise: fileDataPromise,\n",
              "      response: {\n",
              "        action: 'continue',\n",
              "      }\n",
              "    };\n",
              "\n",
              "    // Use a chunked sending to avoid message size limits. See b/62115660.\n",
              "    let position = 0;\n",
              "    do {\n",
              "      const length = Math.min(fileData.byteLength - position, MAX_PAYLOAD_SIZE);\n",
              "      const chunk = new Uint8Array(fileData, position, length);\n",
              "      position += length;\n",
              "\n",
              "      const base64 = btoa(String.fromCharCode.apply(null, chunk));\n",
              "      yield {\n",
              "        response: {\n",
              "          action: 'append',\n",
              "          file: file.name,\n",
              "          data: base64,\n",
              "        },\n",
              "      };\n",
              "\n",
              "      let percentDone = fileData.byteLength === 0 ?\n",
              "          100 :\n",
              "          Math.round((position / fileData.byteLength) * 100);\n",
              "      percent.textContent = `${percentDone}% done`;\n",
              "\n",
              "    } while (position < fileData.byteLength);\n",
              "  }\n",
              "\n",
              "  // All done.\n",
              "  yield {\n",
              "    response: {\n",
              "      action: 'complete',\n",
              "    }\n",
              "  };\n",
              "}\n",
              "\n",
              "scope.google = scope.google || {};\n",
              "scope.google.colab = scope.google.colab || {};\n",
              "scope.google.colab._files = {\n",
              "  _uploadFiles,\n",
              "  _uploadFilesContinue,\n",
              "};\n",
              "})(self);\n",
              "</script> "
            ],
            "text/plain": [
              "<IPython.core.display.HTML object>"
            ]
          },
          "metadata": {},
          "output_type": "display_data"
        }
      ],
      "source": [
        "from google.colab import files\n",
        "uploaded = files.upload()\n"
      ]
    },
    {
      "cell_type": "code",
      "execution_count": null,
      "metadata": {
        "id": "76MaT_npOrCR"
      },
      "outputs": [],
      "source": [
        "import pandas as pd\n",
        "#Reading the file into a dataframe\n",
        "data=pd.read_csv(f'D6_Heart_Dataset_2 (1).csv')\n",
        "#Displaying the read contents\n",
        "data"
      ]
    },
    {
      "cell_type": "code",
      "execution_count": null,
      "metadata": {
        "id": "1eY2SiMgOrCp"
      },
      "outputs": [],
      "source": [
        "# Description of data\n",
        "data.describe()"
      ]
    },
    {
      "cell_type": "code",
      "execution_count": null,
      "metadata": {
        "id": "l5xqSg9jOrCv",
        "scrolled": true
      },
      "outputs": [],
      "source": [
        "# Displaying general info\n",
        "data.info()"
      ]
    },
    {
      "cell_type": "code",
      "execution_count": null,
      "metadata": {
        "id": "CeQGPETkOrCx"
      },
      "outputs": [],
      "source": [
        "# Checking first five rows\n",
        "data.head()"
      ]
    },
    {
      "cell_type": "code",
      "execution_count": null,
      "metadata": {
        "id": "nbId0r3jOrCy"
      },
      "outputs": [],
      "source": [
        "# Checking last five rows\n",
        "data.tail(10)"
      ]
    },
    {
      "cell_type": "code",
      "execution_count": null,
      "metadata": {
        "id": "8oLFcOuZOrC0"
      },
      "outputs": [],
      "source": [
        "# Describing the target column\n",
        "data[\"target\"].describe()\n",
        "# data['age'].describe()"
      ]
    },
    {
      "cell_type": "code",
      "execution_count": null,
      "metadata": {
        "id": "IDzHU1TTOrC1"
      },
      "outputs": [],
      "source": [
        "# Finding unique outputs\n",
        "data[\"target\"].unique()\n",
        "# data['sex'].unique()"
      ]
    },
    {
      "cell_type": "markdown",
      "metadata": {
        "id": "P1RAIeCnOrC2"
      },
      "source": [
        "## Separating features and target"
      ]
    },
    {
      "cell_type": "code",
      "execution_count": null,
      "metadata": {
        "id": "kvvFO1iAOrC3"
      },
      "outputs": [],
      "source": [
        "# separating predictors\n",
        "X = data.drop(\"target\",axis=1)\n",
        "X"
      ]
    },
    {
      "cell_type": "code",
      "execution_count": null,
      "metadata": {
        "id": "_-uKh7qaOrC3"
      },
      "outputs": [],
      "source": [
        "# separating target\n",
        "Y = data[\"target\"]\n",
        "Y"
      ]
    },
    {
      "cell_type": "markdown",
      "metadata": {
        "id": "NFUyVmcfOrC4"
      },
      "source": [
        "## Visualizing data distributions"
      ]
    },
    {
      "cell_type": "code",
      "execution_count": null,
      "metadata": {
        "id": "9yLPTJjZOrC4"
      },
      "outputs": [],
      "source": [
        "import matplotlib.pyplot as plt"
      ]
    },
    {
      "cell_type": "code",
      "execution_count": null,
      "metadata": {
        "id": "GQVx4QZ4OrC5"
      },
      "outputs": [],
      "source": [
        "# Histogram for the target\n",
        "plt.figure(figsize=(10, 6))\n",
        "plt.hist(Y, ec='purple', color='black', rwidth=0.3)\n",
        "plt.xlabel('target')\n",
        "plt.ylabel('Nr. of Patients')\n",
        "plt.show()"
      ]
    },
    {
      "cell_type": "code",
      "execution_count": null,
      "metadata": {
        "id": "WApICtJYOrC5"
      },
      "outputs": [],
      "source": [
        "# Histogram for the ChestPainType\n",
        "plt.figure(figsize=(10, 6))\n",
        "plt.hist(X['cp'], ec='black', color='blue')\n",
        "\n",
        "plt.xlabel('Chest Pain Type')\n",
        "plt.ylabel('Nr. of Patients')\n",
        "plt.show()"
      ]
    },
    {
      "cell_type": "code",
      "execution_count": null,
      "metadata": {
        "id": "at7Sr0PuOrC6"
      },
      "outputs": [],
      "source": [
        "# Histogram for the Age (continuous)\n",
        "plt.figure(figsize=(10, 6))\n",
        "plt.hist(X['age'], ec='black', color='red')\n",
        "plt.xlabel('age')\n",
        "plt.ylabel('Nr. of Patients')\n",
        "plt.show()"
      ]
    },
    {
      "cell_type": "code",
      "execution_count": null,
      "metadata": {
        "id": "Rw8UaOsXOrC6",
        "scrolled": true
      },
      "outputs": [],
      "source": [
        "import seaborn as sns\n",
        "sns.barplot(x=data['sex'],y=Y)\n",
        "plt.show()"
      ]
    },
    {
      "cell_type": "markdown",
      "metadata": {
        "id": "0xD1lGQbOrC7"
      },
      "source": [
        "## Finding correlations"
      ]
    },
    {
      "cell_type": "code",
      "execution_count": null,
      "metadata": {
        "id": "xeQ2PzotOrC7"
      },
      "outputs": [],
      "source": [
        "# Finding correlations\n",
        "X.corr() # target (HeartDisease) not included\n",
        "#data.corr() # target (HeartDisease) included"
      ]
    },
    {
      "cell_type": "code",
      "execution_count": null,
      "metadata": {
        "id": "xTc3wmZuOrC7"
      },
      "outputs": [],
      "source": [
        "# Finding correlation between HeartDisease and features\n",
        "data.corr()[\"target\"].abs().sort_values(ascending=False)"
      ]
    },
    {
      "cell_type": "code",
      "execution_count": null,
      "metadata": {
        "id": "3loezLb2OrC8"
      },
      "outputs": [],
      "source": [
        "# Finding correlation betwwen Age and the target\n",
        "X['age'].corr(Y)"
      ]
    },
    {
      "cell_type": "code",
      "execution_count": null,
      "metadata": {
        "id": "sDAX8tdZOrC8"
      },
      "outputs": [],
      "source": [
        "# Finding correlation betwwen Age and RestingBP\n",
        "X['age'].corr(X['trestbps'])"
      ]
    },
    {
      "cell_type": "code",
      "execution_count": null,
      "metadata": {
        "id": "F8wZH_oySzyk"
      },
      "outputs": [],
      "source": [
        "X['age'].corr(X['chol'])"
      ]
    },
    {
      "cell_type": "code",
      "execution_count": null,
      "metadata": {
        "id": "PY5w1EEzOrC9",
        "scrolled": true
      },
      "outputs": [],
      "source": [
        "# Generating scatter plot showing correlation between Age and the target\n",
        "corr = round(X['cp'].corr(X['trestbps']), 3)\n",
        "\n",
        "plt.figure(figsize=(6, 4))\n",
        "plt.scatter(x=X['cp'], y=X['trestbps'], alpha=0.8, s=80, color='green')\n",
        "plt.title(f'RestingBP vs Age (Correlation {corr})', fontsize=14)\n",
        "plt.xlabel('Age', fontsize=14)\n",
        "plt.ylabel('RestingBP', fontsize=14)\n",
        "plt.show()"
      ]
    },
    {
      "cell_type": "markdown",
      "metadata": {
        "id": "17NjxpqwOrC9"
      },
      "source": [
        "## Creating kNN Model - Coding the Algorithm"
      ]
    },
    {
      "cell_type": "code",
      "execution_count": null,
      "metadata": {
        "id": "l-xrszrGOrC-"
      },
      "outputs": [],
      "source": [
        "import numpy as np\n",
        "\n",
        "# storing size of dataset in a variable\n",
        "dataset_size = X.shape[0] # 303\n",
        "dataset_size"
      ]
    },
    {
      "cell_type": "code",
      "execution_count": null,
      "metadata": {
        "id": "wK3I2neAOrC-"
      },
      "outputs": [],
      "source": [
        "# Let's select first row and predict its class\n",
        "X.loc[0]"
      ]
    },
    {
      "cell_type": "code",
      "execution_count": null,
      "metadata": {
        "id": "i1EJuvfsOrC-"
      },
      "outputs": [],
      "source": [
        "# Actual class for this row\n",
        "Y[0]"
      ]
    },
    {
      "cell_type": "code",
      "execution_count": null,
      "metadata": {
        "id": "gnaNNpYeOrC_"
      },
      "outputs": [],
      "source": [
        "# The numpy.tile() function constructs a new array by repeating\n",
        "# array the number of times we want to repeat\n",
        "np.tile(X.loc[0], (dataset_size,1))"
      ]
    },
    {
      "cell_type": "code",
      "execution_count": null,
      "metadata": {
        "id": "CTlcU-3gOrC_"
      },
      "outputs": [],
      "source": [
        "X"
      ]
    },
    {
      "cell_type": "code",
      "execution_count": null,
      "metadata": {
        "id": "a69pahFZOrC_"
      },
      "outputs": [],
      "source": [
        "diff_mat = X.loc[0] - X #broadcasting\n",
        "diff_mat"
      ]
    },
    {
      "cell_type": "code",
      "execution_count": null,
      "metadata": {
        "id": "nOUtEjBBOrDA",
        "scrolled": true
      },
      "outputs": [],
      "source": [
        "sq_diff_mat = diff_mat**2\n",
        "sq_diff_mat = sq_diff_mat.sum(axis=1)\n",
        "distances = sq_diff_mat**0.5\n",
        "distances"
      ]
    },
    {
      "cell_type": "code",
      "execution_count": null,
      "metadata": {
        "id": "GBhsgWzrOrDA"
      },
      "outputs": [],
      "source": [
        "# argsort returns the integer indices of the sorted values\n",
        "sorted_dist_indicies = distances.argsort()\n",
        "sorted_dist_indicies"
      ]
    },
    {
      "cell_type": "code",
      "execution_count": null,
      "metadata": {
        "id": "RvDp9BF-OrDC"
      },
      "outputs": [],
      "source": [
        "sorted_labels=Y[sorted_dist_indicies]\n",
        "sorted_labels"
      ]
    },
    {
      "cell_type": "code",
      "execution_count": null,
      "metadata": {
        "id": "9rgYVIY5OrDC"
      },
      "outputs": [],
      "source": [
        "k_labels=sorted_labels[:3] # say k=3\n",
        "k_labels"
      ]
    },
    {
      "cell_type": "code",
      "execution_count": null,
      "metadata": {
        "id": "zufEgJCKOrDD"
      },
      "outputs": [],
      "source": [
        "import statistics as st\n",
        "st.mode(k_labels)"
      ]
    },
    {
      "cell_type": "code",
      "execution_count": null,
      "metadata": {
        "id": "ujAbbXOdOrDD"
      },
      "outputs": [],
      "source": [
        "def my_knn_classifier(inX,predictors,target,k):\n",
        "    diff_mat =inX - predictors\n",
        "    sq_diff_mat = diff_mat**2\n",
        "    sq_diff_mat = sq_diff_mat.sum(axis=1)\n",
        "    distances = sq_diff_mat**0.5\n",
        "    sorted_dist_indicies = distances.argsort()\n",
        "    sorted_labels=target[sorted_dist_indicies]\n",
        "    k_labels=sorted_labels[:k]\n",
        "    return st.mode(k_labels)"
      ]
    },
    {
      "cell_type": "code",
      "execution_count": null,
      "metadata": {
        "id": "fXI-hbwSOrDE"
      },
      "outputs": [],
      "source": [
        "print(\"predicted class is \",my_knn_classifier(X.loc[299],X,Y,6))"
      ]
    },
    {
      "cell_type": "markdown",
      "metadata": {
        "id": "cjihL53pOrDG"
      },
      "source": [
        "## Splitting the Dataset into train and test sets"
      ]
    },
    {
      "cell_type": "code",
      "execution_count": null,
      "metadata": {
        "id": "DgbTPq27OrDG"
      },
      "outputs": [],
      "source": [
        "from sklearn.model_selection import train_test_split\n",
        "\n",
        "X_train,X_test,Y_train,Y_test = train_test_split(X, Y,test_size=0.20,random_state=0)\n",
        "print(X_train.shape )\n",
        "print(X_test.shape)\n",
        "print(Y_train.shape)\n",
        "print(Y_test.shape)"
      ]
    },
    {
      "cell_type": "markdown",
      "metadata": {
        "id": "wpyvnlaMOrDH"
      },
      "source": [
        "## Creating kNN Model - using sklearn"
      ]
    },
    {
      "cell_type": "code",
      "execution_count": null,
      "metadata": {
        "id": "KkEELt_DOrDH"
      },
      "outputs": [],
      "source": [
        "from sklearn.neighbors import KNeighborsClassifier\n",
        "from sklearn import metrics\n",
        "from sklearn.metrics import confusion_matrix, classification_report"
      ]
    },
    {
      "cell_type": "code",
      "execution_count": null,
      "metadata": {
        "id": "9MnN6LgBOrDI"
      },
      "outputs": [],
      "source": [
        "# Loading the knn classifier\n",
        "classifier1 = KNeighborsClassifier(n_neighbors=5)"
      ]
    },
    {
      "cell_type": "code",
      "execution_count": null,
      "metadata": {
        "id": "WggHOWezOrDI",
        "scrolled": true
      },
      "outputs": [],
      "source": [
        "# Training the model\n",
        "model1=classifier1.fit(X_train, Y_train)"
      ]
    },
    {
      "cell_type": "code",
      "execution_count": null,
      "metadata": {
        "id": "-G50lgvwOrDI",
        "scrolled": true
      },
      "outputs": [],
      "source": [
        "# Evaluating the model\n",
        "Y_pred1 = model1.predict(X_test)\n",
        "print(\"The accuracy is \"+str(metrics.accuracy_score(Y_test,Y_pred1)*100)+\"%\")\n",
        "print(confusion_matrix(Y_test, Y_pred1))"
      ]
    },
    {
      "cell_type": "code",
      "execution_count": null,
      "metadata": {
        "id": "Zv7feEzbOrDJ"
      },
      "outputs": [],
      "source": [
        "target_names = ['class 0', 'class 1']\n",
        "print(classification_report(Y_test, Y_pred1, target_names=target_names))"
      ]
    },
    {
      "cell_type": "code",
      "execution_count": null,
      "metadata": {
        "id": "icPpY_0TOrDJ"
      },
      "outputs": [],
      "source": [
        "from sklearn.neighbors import KNeighborsClassifier\n",
        "from sklearn.metrics import accuracy_score\n",
        "\n",
        "# Initialize KNN classifier with Manhattan distance\n",
        "knnManhattan = KNeighborsClassifier(n_neighbors=5, metric='manhattan')\n",
        "\n",
        "# Fit the model\n",
        "model2 = knnManhattan.fit(X_train, Y_train)\n",
        "\n",
        "# Predict the labels for the test set\n",
        "Y_predictMan = model2.predict(X_test)\n",
        "\n",
        "# Calculate accuracy\n",
        "accMat = accuracy_score(Y_test, Y_predictMan)\n",
        "print(accMat"
      ]
    },
    {
      "cell_type": "markdown",
      "source": [
        "# **Manhattan Distance manual code**\n",
        "*"
      ],
      "metadata": {
        "id": "2hS1KaepgPIB"
      }
    },
    {
      "cell_type": "code",
      "execution_count": null,
      "metadata": {
        "id": "bXBWiYNwA390"
      },
      "outputs": [],
      "source": [
        "import numpy as np\n",
        "from scipy.stats import mode\n",
        "\n",
        "def Manhattan(TestPt, DatasetPts, n_neighbors=1):\n",
        "    # Calculate Manhattan distances\n",
        "    diff = DatasetPts - TestPt  # Broadcast subtraction\n",
        "    absDiff = np.abs(diff)      # Element-wise absolute difference\n",
        "    ManDist = absDiff.sum(axis=1)  # Sum distances row-wise\n",
        "\n",
        "    # Get indices of the smallest distances\n",
        "    SortManDistanceValues = ManDist.argsort()\n",
        "    NearestIndices = SortManDistanceValues[:n_neighbors]  # Top 'n_neighbors'\n",
        "\n",
        "    # Get the classes of the nearest neighbors\n",
        "    NearestLabels = Y[NearestIndices]\n",
        "\n",
        "    # Predict the class using the mode of the nearest neighbors' labels\n",
        "    predict = mode(NearestLabels).mode[0]  # Extract the mode value from result\n",
        "\n",
        "    return predict\n"
      ]
    }
  ],
  "metadata": {
    "colab": {
      "provenance": [],
      "include_colab_link": true
    },
    "kernelspec": {
      "display_name": "Python 3",
      "language": "python",
      "name": "python3"
    },
    "language_info": {
      "codemirror_mode": {
        "name": "ipython",
        "version": 3
      },
      "file_extension": ".py",
      "mimetype": "text/x-python",
      "name": "python",
      "nbconvert_exporter": "python",
      "pygments_lexer": "ipython3",
      "version": "3.8.5"
    }
  },
  "nbformat": 4,
  "nbformat_minor": 0
}