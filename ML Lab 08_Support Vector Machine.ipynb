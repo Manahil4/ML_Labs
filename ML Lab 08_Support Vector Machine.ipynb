{
 "cells": [
  {
   "cell_type": "markdown",
   "metadata": {},
   "source": [
    "## Imports"
   ]
  },
  {
   "cell_type": "code",
   "execution_count": 3,
   "metadata": {},
   "outputs": [],
   "source": [
    "import numpy as np\n",
    "import pandas as pd\n",
    "import matplotlib.pyplot as plt \n",
    "\n",
    "from sklearn import metrics \n",
    "from sklearn.metrics import confusion_matrix, classification_report "
   ]
  },
  {
   "cell_type": "markdown",
   "metadata": {},
   "source": [
    "## The IRIS Dataset"
   ]
  },
  {
   "cell_type": "markdown",
   "metadata": {},
   "source": [
    "- Collected by British biologist and statistician Ronald Fisher in 1936.\n",
    "- Commonly used for classification examples - predict the species of iris flower based on measurements.\n",
    "- It includes three iris species with 50 samples each as well as some properties about each flower. \n",
    "- One flower species is linearly separable from the other two, but the other two are not linearly separable from each other.\n",
    "- The dataset consists of 150 samples of iris flowers, divided into 3 species with 50 samples each.\n",
    "- Species: Iris setosa, Iris versicolor, Iris virginica\n",
    "- Each sample has 4 numerical features: SepalLengthCm, SepalWidthCm, PetalLengthCm, PetalWidthCm\n",
    "- The target variable is the species of the iris flower, encoded as integers: Iris setosa (0), Iris versicolor (1), Iris virginica (2)"
   ]
  },
  {
   "cell_type": "markdown",
   "metadata": {},
   "source": [
    "## Loading Dataset"
   ]
  },
  {
   "cell_type": "code",
   "execution_count": 4,
   "metadata": {},
   "outputs": [],
   "source": [
    "from sklearn import datasets \n",
    "\n",
    "# Load data with only two classes and two features \n",
    "iris = datasets.load_iris()  "
   ]
  },
  {
   "cell_type": "code",
   "execution_count": 32,
   "metadata": {},
   "outputs": [],
   "source": [
    "F4= iris.data"
   ]
  },
  {
   "cell_type": "code",
   "execution_count": 6,
   "metadata": {},
   "outputs": [
    {
     "data": {
      "text/plain": [
       "array([0, 0, 0, 0, 0, 0, 0, 0, 0, 0, 0, 0, 0, 0, 0, 0, 0, 0, 0, 0, 0, 0,\n",
       "       0, 0, 0, 0, 0, 0, 0, 0, 0, 0, 0, 0, 0, 0, 0, 0, 0, 0, 0, 0, 0, 0,\n",
       "       0, 0, 0, 0, 0, 0, 1, 1, 1, 1, 1, 1, 1, 1, 1, 1, 1, 1, 1, 1, 1, 1,\n",
       "       1, 1, 1, 1, 1, 1, 1, 1, 1, 1, 1, 1, 1, 1, 1, 1, 1, 1, 1, 1, 1, 1,\n",
       "       1, 1, 1, 1, 1, 1, 1, 1, 1, 1, 1, 1, 2, 2, 2, 2, 2, 2, 2, 2, 2, 2,\n",
       "       2, 2, 2, 2, 2, 2, 2, 2, 2, 2, 2, 2, 2, 2, 2, 2, 2, 2, 2, 2, 2, 2,\n",
       "       2, 2, 2, 2, 2, 2, 2, 2, 2, 2, 2, 2, 2, 2, 2, 2, 2, 2])"
      ]
     },
     "execution_count": 6,
     "metadata": {},
     "output_type": "execute_result"
    }
   ],
   "source": [
    "iris.target"
   ]
  },
  {
   "cell_type": "markdown",
   "metadata": {},
   "source": [
    "## Handling Linearly Separable Classes"
   ]
  },
  {
   "cell_type": "code",
   "execution_count": 7,
   "metadata": {},
   "outputs": [],
   "source": [
    "# Selecting only two classes (as third class is not linearly separable)\n",
    "# and two features (so we can plot the graph) \n",
    "features = iris.data[:100,:2] \n",
    "target = iris.target[:100] "
   ]
  },
  {
   "cell_type": "code",
   "execution_count": 8,
   "metadata": {},
   "outputs": [
    {
     "data": {
      "text/plain": [
       "array([[5.1, 3.5],\n",
       "       [4.9, 3. ],\n",
       "       [4.7, 3.2],\n",
       "       [4.6, 3.1],\n",
       "       [5. , 3.6],\n",
       "       [5.4, 3.9],\n",
       "       [4.6, 3.4],\n",
       "       [5. , 3.4],\n",
       "       [4.4, 2.9],\n",
       "       [4.9, 3.1],\n",
       "       [5.4, 3.7],\n",
       "       [4.8, 3.4],\n",
       "       [4.8, 3. ],\n",
       "       [4.3, 3. ],\n",
       "       [5.8, 4. ],\n",
       "       [5.7, 4.4],\n",
       "       [5.4, 3.9],\n",
       "       [5.1, 3.5],\n",
       "       [5.7, 3.8],\n",
       "       [5.1, 3.8],\n",
       "       [5.4, 3.4],\n",
       "       [5.1, 3.7],\n",
       "       [4.6, 3.6],\n",
       "       [5.1, 3.3],\n",
       "       [4.8, 3.4],\n",
       "       [5. , 3. ],\n",
       "       [5. , 3.4],\n",
       "       [5.2, 3.5],\n",
       "       [5.2, 3.4],\n",
       "       [4.7, 3.2],\n",
       "       [4.8, 3.1],\n",
       "       [5.4, 3.4],\n",
       "       [5.2, 4.1],\n",
       "       [5.5, 4.2],\n",
       "       [4.9, 3.1],\n",
       "       [5. , 3.2],\n",
       "       [5.5, 3.5],\n",
       "       [4.9, 3.6],\n",
       "       [4.4, 3. ],\n",
       "       [5.1, 3.4],\n",
       "       [5. , 3.5],\n",
       "       [4.5, 2.3],\n",
       "       [4.4, 3.2],\n",
       "       [5. , 3.5],\n",
       "       [5.1, 3.8],\n",
       "       [4.8, 3. ],\n",
       "       [5.1, 3.8],\n",
       "       [4.6, 3.2],\n",
       "       [5.3, 3.7],\n",
       "       [5. , 3.3],\n",
       "       [7. , 3.2],\n",
       "       [6.4, 3.2],\n",
       "       [6.9, 3.1],\n",
       "       [5.5, 2.3],\n",
       "       [6.5, 2.8],\n",
       "       [5.7, 2.8],\n",
       "       [6.3, 3.3],\n",
       "       [4.9, 2.4],\n",
       "       [6.6, 2.9],\n",
       "       [5.2, 2.7],\n",
       "       [5. , 2. ],\n",
       "       [5.9, 3. ],\n",
       "       [6. , 2.2],\n",
       "       [6.1, 2.9],\n",
       "       [5.6, 2.9],\n",
       "       [6.7, 3.1],\n",
       "       [5.6, 3. ],\n",
       "       [5.8, 2.7],\n",
       "       [6.2, 2.2],\n",
       "       [5.6, 2.5],\n",
       "       [5.9, 3.2],\n",
       "       [6.1, 2.8],\n",
       "       [6.3, 2.5],\n",
       "       [6.1, 2.8],\n",
       "       [6.4, 2.9],\n",
       "       [6.6, 3. ],\n",
       "       [6.8, 2.8],\n",
       "       [6.7, 3. ],\n",
       "       [6. , 2.9],\n",
       "       [5.7, 2.6],\n",
       "       [5.5, 2.4],\n",
       "       [5.5, 2.4],\n",
       "       [5.8, 2.7],\n",
       "       [6. , 2.7],\n",
       "       [5.4, 3. ],\n",
       "       [6. , 3.4],\n",
       "       [6.7, 3.1],\n",
       "       [6.3, 2.3],\n",
       "       [5.6, 3. ],\n",
       "       [5.5, 2.5],\n",
       "       [5.5, 2.6],\n",
       "       [6.1, 3. ],\n",
       "       [5.8, 2.6],\n",
       "       [5. , 2.3],\n",
       "       [5.6, 2.7],\n",
       "       [5.7, 3. ],\n",
       "       [5.7, 2.9],\n",
       "       [6.2, 2.9],\n",
       "       [5.1, 2.5],\n",
       "       [5.7, 2.8]])"
      ]
     },
     "execution_count": 8,
     "metadata": {},
     "output_type": "execute_result"
    }
   ],
   "source": [
    "features"
   ]
  },
  {
   "cell_type": "code",
   "execution_count": 33,
   "metadata": {},
   "outputs": [
    {
     "data": {
      "text/plain": [
       "array([0, 0, 0, 0, 0, 0, 0, 0, 0, 0, 0, 0, 0, 0, 0, 0, 0, 0, 0, 0, 0, 0,\n",
       "       0, 0, 0, 0, 0, 0, 0, 0, 0, 0, 0, 0, 0, 0, 0, 0, 0, 0, 0, 0, 0, 0,\n",
       "       0, 0, 0, 0, 0, 0, 1, 1, 1, 1, 1, 1, 1, 1, 1, 1, 1, 1, 1, 1, 1, 1,\n",
       "       1, 1, 1, 1, 1, 1, 1, 1, 1, 1, 1, 1, 1, 1, 1, 1, 1, 1, 1, 1, 1, 1,\n",
       "       1, 1, 1, 1, 1, 1, 1, 1, 1, 1, 1, 1])"
      ]
     },
     "execution_count": 33,
     "metadata": {},
     "output_type": "execute_result"
    }
   ],
   "source": [
    "target"
   ]
  },
  {
   "cell_type": "markdown",
   "metadata": {},
   "source": [
    "## Standardize features "
   ]
  },
  {
   "cell_type": "code",
   "execution_count": 10,
   "metadata": {},
   "outputs": [],
   "source": [
    "from sklearn.preprocessing import StandardScaler\n",
    "\n",
    "scaler = StandardScaler() \n",
    "features_standardized = scaler.fit_transform(features) "
   ]
  },
  {
   "cell_type": "code",
   "execution_count": 11,
   "metadata": {},
   "outputs": [
    {
     "data": {
      "text/plain": [
       "array([[-5.81065904e-01,  8.41837140e-01],\n",
       "       [-8.94308978e-01, -2.07835104e-01],\n",
       "       [-1.20755205e+00,  2.12033793e-01],\n",
       "       [-1.36417359e+00,  2.09934449e-03],\n",
       "       [-7.37687441e-01,  1.05177159e+00],\n",
       "       [-1.11201292e-01,  1.68157493e+00],\n",
       "       [-1.36417359e+00,  6.31902691e-01],\n",
       "       [-7.37687441e-01,  6.31902691e-01],\n",
       "       [-1.67741667e+00, -4.17769553e-01],\n",
       "       [-8.94308978e-01,  2.09934449e-03],\n",
       "       [-1.11201292e-01,  1.26170604e+00],\n",
       "       [-1.05093052e+00,  6.31902691e-01],\n",
       "       [-1.05093052e+00, -2.07835104e-01],\n",
       "       [-1.83403820e+00, -2.07835104e-01],\n",
       "       [ 5.15284858e-01,  1.89150938e+00],\n",
       "       [ 3.58663321e-01,  2.73124718e+00],\n",
       "       [-1.11201292e-01,  1.68157493e+00],\n",
       "       [-5.81065904e-01,  8.41837140e-01],\n",
       "       [ 3.58663321e-01,  1.47164049e+00],\n",
       "       [-5.81065904e-01,  1.47164049e+00],\n",
       "       [-1.11201292e-01,  6.31902691e-01],\n",
       "       [-5.81065904e-01,  1.26170604e+00],\n",
       "       [-1.36417359e+00,  1.05177159e+00],\n",
       "       [-5.81065904e-01,  4.21968242e-01],\n",
       "       [-1.05093052e+00,  6.31902691e-01],\n",
       "       [-7.37687441e-01, -2.07835104e-01],\n",
       "       [-7.37687441e-01,  6.31902691e-01],\n",
       "       [-4.24444366e-01,  8.41837140e-01],\n",
       "       [-4.24444366e-01,  6.31902691e-01],\n",
       "       [-1.20755205e+00,  2.12033793e-01],\n",
       "       [-1.05093052e+00,  2.09934449e-03],\n",
       "       [-1.11201292e-01,  6.31902691e-01],\n",
       "       [-4.24444366e-01,  2.10144383e+00],\n",
       "       [ 4.54202458e-02,  2.31137828e+00],\n",
       "       [-8.94308978e-01,  2.09934449e-03],\n",
       "       [-7.37687441e-01,  2.12033793e-01],\n",
       "       [ 4.54202458e-02,  8.41837140e-01],\n",
       "       [-8.94308978e-01,  1.05177159e+00],\n",
       "       [-1.67741667e+00, -2.07835104e-01],\n",
       "       [-5.81065904e-01,  6.31902691e-01],\n",
       "       [-7.37687441e-01,  8.41837140e-01],\n",
       "       [-1.52079513e+00, -1.67737625e+00],\n",
       "       [-1.67741667e+00,  2.12033793e-01],\n",
       "       [-7.37687441e-01,  8.41837140e-01],\n",
       "       [-5.81065904e-01,  1.47164049e+00],\n",
       "       [-1.05093052e+00, -2.07835104e-01],\n",
       "       [-5.81065904e-01,  1.47164049e+00],\n",
       "       [-1.36417359e+00,  2.12033793e-01],\n",
       "       [-2.67822829e-01,  1.26170604e+00],\n",
       "       [-7.37687441e-01,  4.21968242e-01],\n",
       "       [ 2.39474331e+00,  2.12033793e-01],\n",
       "       [ 1.45501408e+00,  2.12033793e-01],\n",
       "       [ 2.23812177e+00,  2.09934449e-03],\n",
       "       [ 4.54202458e-02, -1.67737625e+00],\n",
       "       [ 1.61163562e+00, -6.27704002e-01],\n",
       "       [ 3.58663321e-01, -6.27704002e-01],\n",
       "       [ 1.29839254e+00,  4.21968242e-01],\n",
       "       [-8.94308978e-01, -1.46744180e+00],\n",
       "       [ 1.76825716e+00, -4.17769553e-01],\n",
       "       [-4.24444366e-01, -8.37638451e-01],\n",
       "       [-7.37687441e-01, -2.30717959e+00],\n",
       "       [ 6.71906395e-01, -2.07835104e-01],\n",
       "       [ 8.28527933e-01, -1.88731069e+00],\n",
       "       [ 9.85149470e-01, -4.17769553e-01],\n",
       "       [ 2.02041783e-01, -4.17769553e-01],\n",
       "       [ 1.92487869e+00,  2.09934449e-03],\n",
       "       [ 2.02041783e-01, -2.07835104e-01],\n",
       "       [ 5.15284858e-01, -8.37638451e-01],\n",
       "       [ 1.14177101e+00, -1.88731069e+00],\n",
       "       [ 2.02041783e-01, -1.25750735e+00],\n",
       "       [ 6.71906395e-01,  2.12033793e-01],\n",
       "       [ 9.85149470e-01, -6.27704002e-01],\n",
       "       [ 1.29839254e+00, -1.25750735e+00],\n",
       "       [ 9.85149470e-01, -6.27704002e-01],\n",
       "       [ 1.45501408e+00, -4.17769553e-01],\n",
       "       [ 1.76825716e+00, -2.07835104e-01],\n",
       "       [ 2.08150023e+00, -6.27704002e-01],\n",
       "       [ 1.92487869e+00, -2.07835104e-01],\n",
       "       [ 8.28527933e-01, -4.17769553e-01],\n",
       "       [ 3.58663321e-01, -1.04757290e+00],\n",
       "       [ 4.54202458e-02, -1.46744180e+00],\n",
       "       [ 4.54202458e-02, -1.46744180e+00],\n",
       "       [ 5.15284858e-01, -8.37638451e-01],\n",
       "       [ 8.28527933e-01, -8.37638451e-01],\n",
       "       [-1.11201292e-01, -2.07835104e-01],\n",
       "       [ 8.28527933e-01,  6.31902691e-01],\n",
       "       [ 1.92487869e+00,  2.09934449e-03],\n",
       "       [ 1.29839254e+00, -1.67737625e+00],\n",
       "       [ 2.02041783e-01, -2.07835104e-01],\n",
       "       [ 4.54202458e-02, -1.25750735e+00],\n",
       "       [ 4.54202458e-02, -1.04757290e+00],\n",
       "       [ 9.85149470e-01, -2.07835104e-01],\n",
       "       [ 5.15284858e-01, -1.04757290e+00],\n",
       "       [-7.37687441e-01, -1.67737625e+00],\n",
       "       [ 2.02041783e-01, -8.37638451e-01],\n",
       "       [ 3.58663321e-01, -2.07835104e-01],\n",
       "       [ 3.58663321e-01, -4.17769553e-01],\n",
       "       [ 1.14177101e+00, -4.17769553e-01],\n",
       "       [-5.81065904e-01, -1.25750735e+00],\n",
       "       [ 3.58663321e-01, -6.27704002e-01]])"
      ]
     },
     "execution_count": 11,
     "metadata": {},
     "output_type": "execute_result"
    }
   ],
   "source": [
    "features_standardized"
   ]
  },
  {
   "cell_type": "code",
   "execution_count": 12,
   "metadata": {},
   "outputs": [
    {
     "data": {
      "text/plain": [
       "<matplotlib.collections.PathCollection at 0x1e2fbac4650>"
      ]
     },
     "execution_count": 12,
     "metadata": {},
     "output_type": "execute_result"
    },
    {
     "data": {
      "image/png": "[encoded data removed]",
      "text/plain": [
       "<Figure size 640x480 with 1 Axes>"
      ]
     },
     "metadata": {},
     "output_type": "display_data"
    }
   ],
   "source": [
    "# Plot data points and color using their class - state space diagram\n",
    "color = [\"black\" if c == 0 else \"lightgrey\" for c in target] \n",
    "plt.scatter(features_standardized[:,0], features_standardized[:,1], c=color)"
   ]
  },
  {
   "cell_type": "code",
   "execution_count": 13,
   "metadata": {},
   "outputs": [],
   "source": [
    "from sklearn.svm import LinearSVC\n",
    "\n",
    "# Create support vector classifier \n",
    "svc = LinearSVC(C=1.0) \n",
    "# Train model \n",
    "model = svc.fit(features_standardized, target)"
   ]
  },
  {
   "cell_type": "code",
   "execution_count": 14,
   "metadata": {},
   "outputs": [
    {
     "data": {
      "image/png": "[encoded data removed]",
      "text/plain": [
       "<Figure size 640x480 with 1 Axes>"
      ]
     },
     "metadata": {},
     "output_type": "display_data"
    }
   ],
   "source": [
    "# Create the hyperplane \n",
    "w = svc.coef_[0] \n",
    "a = -w[0] / w[1]  # w[0] and w[1] are associated weights of the two features\n",
    "xx = np.linspace(-2.5, 2.5) \n",
    "yy = a * xx - (svc.intercept_[0]) / w[1] \n",
    "\n",
    "# Plot the hyperplane \n",
    "plt.scatter(features_standardized[:,0], features_standardized[:,1], c=color)\n",
    "plt.plot(xx, yy) \n",
    "plt.axis(\"off\"), plt.show();"
   ]
  },
  {
   "cell_type": "code",
   "execution_count": 15,
   "metadata": {},
   "outputs": [
    {
     "data": {
      "text/plain": [
       "array([0])"
      ]
     },
     "execution_count": 15,
     "metadata": {},
     "output_type": "execute_result"
    }
   ],
   "source": [
    "# Create new observation \n",
    "new_observation = [[ -2, 3]] \n",
    "# Predict class of new observation \n",
    "svc.predict(new_observation) "
   ]
  },
  {
   "cell_type": "markdown",
   "metadata": {},
   "source": [
    "## Handling Linearly Inseparable Classes using Kernels"
   ]
  },
  {
   "cell_type": "markdown",
   "metadata": {},
   "source": [
    "### Generating Linearly Inseparable Data"
   ]
  },
  {
   "cell_type": "code",
   "execution_count": 16,
   "metadata": {},
   "outputs": [],
   "source": [
    "# Set randomization seed\n",
    "np.random.seed(0)  \n",
    "# Generate two features \n",
    "features_ = np.random.randn(200, 2) \n",
    "# Use a XOR gate to generate linearly inseparable classes \n",
    "target_xor = np.logical_xor(features_[:, 0] > 0, features_[:, 1] > 0) \n",
    "target_ = np.where(target_xor, 0, 1) "
   ]
  },
  {
   "cell_type": "code",
   "execution_count": 17,
   "metadata": {},
   "outputs": [
    {
     "data": {
      "text/plain": [
       "array([[ 1.76405235,  0.40015721],\n",
       "       [ 0.97873798,  2.2408932 ],\n",
       "       [ 1.86755799, -0.97727788],\n",
       "       [ 0.95008842, -0.15135721],\n",
       "       [-0.10321885,  0.4105985 ],\n",
       "       [ 0.14404357,  1.45427351],\n",
       "       [ 0.76103773,  0.12167502],\n",
       "       [ 0.44386323,  0.33367433],\n",
       "       [ 1.49407907, -0.20515826],\n",
       "       [ 0.3130677 , -0.85409574],\n",
       "       [-2.55298982,  0.6536186 ],\n",
       "       [ 0.8644362 , -0.74216502],\n",
       "       [ 2.26975462, -1.45436567],\n",
       "       [ 0.04575852, -0.18718385],\n",
       "       [ 1.53277921,  1.46935877],\n",
       "       [ 0.15494743,  0.37816252],\n",
       "       [-0.88778575, -1.98079647],\n",
       "       [-0.34791215,  0.15634897],\n",
       "       [ 1.23029068,  1.20237985],\n",
       "       [-0.38732682, -0.30230275],\n",
       "       [-1.04855297, -1.42001794],\n",
       "       [-1.70627019,  1.9507754 ],\n",
       "       [-0.50965218, -0.4380743 ],\n",
       "       [-1.25279536,  0.77749036],\n",
       "       [-1.61389785, -0.21274028],\n",
       "       [-0.89546656,  0.3869025 ],\n",
       "       [-0.51080514, -1.18063218],\n",
       "       [-0.02818223,  0.42833187],\n",
       "       [ 0.06651722,  0.3024719 ],\n",
       "       [-0.63432209, -0.36274117],\n",
       "       [-0.67246045, -0.35955316],\n",
       "       [-0.81314628, -1.7262826 ],\n",
       "       [ 0.17742614, -0.40178094],\n",
       "       [-1.63019835,  0.46278226],\n",
       "       [-0.90729836,  0.0519454 ],\n",
       "       [ 0.72909056,  0.12898291],\n",
       "       [ 1.13940068, -1.23482582],\n",
       "       [ 0.40234164, -0.68481009],\n",
       "       [-0.87079715, -0.57884966],\n",
       "       [-0.31155253,  0.05616534],\n",
       "       [-1.16514984,  0.90082649],\n",
       "       [ 0.46566244, -1.53624369],\n",
       "       [ 1.48825219,  1.89588918],\n",
       "       [ 1.17877957, -0.17992484],\n",
       "       [-1.07075262,  1.05445173],\n",
       "       [-0.40317695,  1.22244507],\n",
       "       [ 0.20827498,  0.97663904],\n",
       "       [ 0.3563664 ,  0.70657317],\n",
       "       [ 0.01050002,  1.78587049],\n",
       "       [ 0.12691209,  0.40198936],\n",
       "       [ 1.8831507 , -1.34775906],\n",
       "       [-1.270485  ,  0.96939671],\n",
       "       [-1.17312341,  1.94362119],\n",
       "       [-0.41361898, -0.74745481],\n",
       "       [ 1.92294203,  1.48051479],\n",
       "       [ 1.86755896,  0.90604466],\n",
       "       [-0.86122569,  1.91006495],\n",
       "       [-0.26800337,  0.8024564 ],\n",
       "       [ 0.94725197, -0.15501009],\n",
       "       [ 0.61407937,  0.92220667],\n",
       "       [ 0.37642553, -1.09940079],\n",
       "       [ 0.29823817,  1.3263859 ],\n",
       "       [-0.69456786, -0.14963454],\n",
       "       [-0.43515355,  1.84926373],\n",
       "       [ 0.67229476,  0.40746184],\n",
       "       [-0.76991607,  0.53924919],\n",
       "       [-0.67433266,  0.03183056],\n",
       "       [-0.63584608,  0.67643329],\n",
       "       [ 0.57659082, -0.20829876],\n",
       "       [ 0.39600671, -1.09306151],\n",
       "       [-1.49125759,  0.4393917 ],\n",
       "       [ 0.1666735 ,  0.63503144],\n",
       "       [ 2.38314477,  0.94447949],\n",
       "       [-0.91282223,  1.11701629],\n",
       "       [-1.31590741, -0.4615846 ],\n",
       "       [-0.06824161,  1.71334272],\n",
       "       [-0.74475482, -0.82643854],\n",
       "       [-0.09845252, -0.66347829],\n",
       "       [ 1.12663592, -1.07993151],\n",
       "       [-1.14746865, -0.43782004],\n",
       "       [-0.49803245,  1.92953205],\n",
       "       [ 0.94942081,  0.08755124],\n",
       "       [-1.22543552,  0.84436298],\n",
       "       [-1.00021535, -1.5447711 ],\n",
       "       [ 1.18802979,  0.31694261],\n",
       "       [ 0.92085882,  0.31872765],\n",
       "       [ 0.85683061, -0.65102559],\n",
       "       [-1.03424284,  0.68159452],\n",
       "       [-0.80340966, -0.68954978],\n",
       "       [-0.4555325 ,  0.01747916],\n",
       "       [-0.35399391, -1.37495129],\n",
       "       [-0.6436184 , -2.22340315],\n",
       "       [ 0.62523145, -1.60205766],\n",
       "       [-1.10438334,  0.05216508],\n",
       "       [-0.739563  ,  1.5430146 ],\n",
       "       [-1.29285691,  0.26705087],\n",
       "       [-0.03928282, -1.1680935 ],\n",
       "       [ 0.52327666, -0.17154633],\n",
       "       [ 0.77179055,  0.82350415],\n",
       "       [ 2.16323595,  1.33652795],\n",
       "       [-0.36918184, -0.23937918],\n",
       "       [ 1.0996596 ,  0.65526373],\n",
       "       [ 0.64013153, -1.61695604],\n",
       "       [-0.02432612, -0.73803091],\n",
       "       [ 0.2799246 , -0.09815039],\n",
       "       [ 0.91017891,  0.31721822],\n",
       "       [ 0.78632796, -0.4664191 ],\n",
       "       [-0.94444626, -0.41004969],\n",
       "       [-0.01702041,  0.37915174],\n",
       "       [ 2.25930895, -0.04225715],\n",
       "       [-0.955945  , -0.34598178],\n",
       "       [-0.46359597,  0.48148147],\n",
       "       [-1.54079701,  0.06326199],\n",
       "       [ 0.15650654,  0.23218104],\n",
       "       [-0.59731607, -0.23792173],\n",
       "       [-1.42406091, -0.49331988],\n",
       "       [-0.54286148,  0.41605005],\n",
       "       [-1.15618243,  0.7811981 ],\n",
       "       [ 1.49448454, -2.06998503],\n",
       "       [ 0.42625873,  0.67690804],\n",
       "       [-0.63743703, -0.39727181],\n",
       "       [-0.13288058, -0.29779088],\n",
       "       [-0.30901297, -1.67600381],\n",
       "       [ 1.15233156,  1.07961859],\n",
       "       [-0.81336426, -1.46642433],\n",
       "       [ 0.52106488, -0.57578797],\n",
       "       [ 0.14195316, -0.31932842],\n",
       "       [ 0.69153875,  0.69474914],\n",
       "       [-0.72559738, -1.38336396],\n",
       "       [-1.5829384 ,  0.61037938],\n",
       "       [-1.18885926, -0.50681635],\n",
       "       [-0.59631404, -0.0525673 ],\n",
       "       [-1.93627981,  0.1887786 ],\n",
       "       [ 0.52389102,  0.08842209],\n",
       "       [-0.31088617,  0.09740017],\n",
       "       [ 0.39904635, -2.77259276],\n",
       "       [ 1.95591231,  0.39009332],\n",
       "       [-0.65240858, -0.39095338],\n",
       "       [ 0.49374178, -0.11610394],\n",
       "       [-2.03068447,  2.06449286],\n",
       "       [-0.11054066,  1.02017271],\n",
       "       [-0.69204985,  1.53637705],\n",
       "       [ 0.28634369,  0.60884383],\n",
       "       [-1.04525337,  1.21114529],\n",
       "       [ 0.68981816,  1.30184623],\n",
       "       [-0.62808756, -0.48102712],\n",
       "       [ 2.3039167 , -1.06001582],\n",
       "       [-0.1359497 ,  1.13689136],\n",
       "       [ 0.09772497,  0.58295368],\n",
       "       [-0.39944903,  0.37005589],\n",
       "       [-1.30652685,  1.65813068],\n",
       "       [-0.11816405, -0.6801782 ],\n",
       "       [ 0.66638308, -0.46071979],\n",
       "       [-1.33425847, -1.34671751],\n",
       "       [ 0.69377315, -0.15957344],\n",
       "       [-0.13370156,  1.07774381],\n",
       "       [-1.12682581, -0.73067775],\n",
       "       [-0.38487981,  0.09435159],\n",
       "       [-0.04217145, -0.28688719],\n",
       "       [-0.0616264 , -0.10730528],\n",
       "       [-0.71960439, -0.81299299],\n",
       "       [ 0.27451636, -0.89091508],\n",
       "       [-1.15735526, -0.31229225],\n",
       "       [-0.15766702,  2.2567235 ],\n",
       "       [-0.70470028,  0.94326072],\n",
       "       [ 0.74718833, -1.18894496],\n",
       "       [ 0.77325298, -1.18388064],\n",
       "       [-2.65917224,  0.60631952],\n",
       "       [-1.75589058,  0.45093446],\n",
       "       [-0.6840109 ,  1.6595508 ],\n",
       "       [ 1.0685094 , -0.4533858 ],\n",
       "       [-0.68783761, -1.2140774 ],\n",
       "       [-0.44092263, -0.2803555 ],\n",
       "       [-0.36469354,  0.15670386],\n",
       "       [ 0.5785215 ,  0.34965446],\n",
       "       [-0.76414392, -1.43779147],\n",
       "       [ 1.36453185, -0.68944918],\n",
       "       [-0.6522936 , -0.52118931],\n",
       "       [-1.84306955, -0.477974  ],\n",
       "       [-0.47965581,  0.6203583 ],\n",
       "       [ 0.69845715,  0.00377089],\n",
       "       [ 0.93184837,  0.33996498],\n",
       "       [-0.01568211,  0.16092817],\n",
       "       [-0.19065349, -0.39484951],\n",
       "       [-0.26773354, -1.12801133],\n",
       "       [ 0.28044171, -0.99312361],\n",
       "       [ 0.84163126, -0.24945858],\n",
       "       [ 0.04949498,  0.49383678],\n",
       "       [ 0.64331447, -1.57062341],\n",
       "       [-0.20690368,  0.88017891],\n",
       "       [-1.69810582,  0.38728048],\n",
       "       [-2.25556423, -1.02250684],\n",
       "       [ 0.03863055, -1.6567151 ],\n",
       "       [-0.98551074, -1.47183501],\n",
       "       [ 1.64813493,  0.16422776],\n",
       "       [ 0.56729028, -0.2226751 ],\n",
       "       [-0.35343175, -1.61647419],\n",
       "       [-0.29183736, -0.76149221],\n",
       "       [ 0.85792392,  1.14110187],\n",
       "       [ 1.46657872,  0.85255194]])"
      ]
     },
     "execution_count": 17,
     "metadata": {},
     "output_type": "execute_result"
    }
   ],
   "source": [
    "features_"
   ]
  },
  {
   "cell_type": "code",
   "execution_count": 18,
   "metadata": {},
   "outputs": [
    {
     "data": {
      "text/plain": [
       "array([1, 1, 0, 0, 0, 1, 1, 1, 0, 0, 0, 0, 0, 0, 1, 1, 1, 0, 1, 1, 1, 0,\n",
       "       1, 0, 1, 0, 1, 0, 1, 1, 1, 1, 0, 0, 0, 1, 0, 0, 1, 0, 0, 0, 1, 0,\n",
       "       0, 0, 1, 1, 1, 1, 0, 0, 0, 1, 1, 1, 0, 0, 0, 1, 0, 1, 1, 0, 1, 0,\n",
       "       0, 0, 0, 0, 0, 1, 1, 0, 1, 0, 1, 1, 0, 1, 0, 1, 0, 1, 1, 1, 0, 0,\n",
       "       1, 0, 1, 1, 0, 0, 0, 0, 1, 0, 1, 1, 1, 1, 0, 1, 0, 1, 0, 1, 0, 0,\n",
       "       1, 0, 0, 1, 1, 1, 0, 0, 0, 1, 1, 1, 1, 1, 1, 0, 0, 1, 1, 0, 1, 1,\n",
       "       0, 1, 0, 0, 1, 1, 0, 0, 0, 0, 1, 0, 1, 1, 0, 0, 1, 0, 0, 1, 0, 1,\n",
       "       0, 0, 1, 0, 1, 1, 1, 0, 1, 0, 0, 0, 0, 0, 0, 0, 0, 1, 1, 0, 1, 1,\n",
       "       0, 1, 1, 0, 1, 1, 0, 1, 1, 0, 0, 1, 0, 0, 0, 1, 0, 1, 1, 0, 1, 1,\n",
       "       1, 1])"
      ]
     },
     "execution_count": 18,
     "metadata": {},
     "output_type": "execute_result"
    }
   ],
   "source": [
    "target_"
   ]
  },
  {
   "cell_type": "markdown",
   "metadata": {},
   "source": [
    "### Using Linear Kernel"
   ]
  },
  {
   "cell_type": "code",
   "execution_count": 22,
   "metadata": {},
   "outputs": [],
   "source": [
    "# Load libraries \n",
    "from sklearn.svm import SVC \n",
    "# from mlxtend.plotting import plot_decision_regions \n",
    "# mlxtend: ML extensions"
   ]
  },
  {
   "cell_type": "code",
   "execution_count": null,
   "metadata": {},
   "outputs": [
    {
     "ename": "ValueError",
     "evalue": "x and y must be the same size",
     "output_type": "error",
     "traceback": [
      "\u001b[1;31m---------------------------------------------------------------------------\u001b[0m",
      "\u001b[1;31mValueError\u001b[0m                                Traceback (most recent call last)",
      "Cell \u001b[1;32mIn[29], line 7\u001b[0m\n\u001b[0;32m      4\u001b[0m \u001b[38;5;66;03m# Train model \u001b[39;00m\n\u001b[0;32m      5\u001b[0m model_linear\u001b[38;5;241m=\u001b[39msvc_linear\u001b[38;5;241m.\u001b[39mfit(features_, target_)\n\u001b[1;32m----> 7\u001b[0m \u001b[43mplt\u001b[49m\u001b[38;5;241;43m.\u001b[39;49m\u001b[43mscatter\u001b[49m\u001b[43m(\u001b[49m\u001b[43mfeatures_\u001b[49m\u001b[43m,\u001b[49m\u001b[43m \u001b[49m\u001b[43mtarget_\u001b[49m\u001b[43m,\u001b[49m\u001b[43m \u001b[49m\u001b[43malpha\u001b[49m\u001b[38;5;241;43m=\u001b[39;49m\u001b[38;5;241;43m0.5\u001b[39;49m\u001b[43m)\u001b[49m\n\u001b[0;32m      8\u001b[0m \u001b[38;5;66;03m# Plot observations and hyperplane \u001b[39;00m\n\u001b[0;32m      9\u001b[0m \u001b[38;5;66;03m# plot_decision_regions(features_, target_, clf=svc_linear) \u001b[39;00m\n\u001b[0;32m     10\u001b[0m \u001b[38;5;66;03m# plt.axis(\"off\"), plt.show(); \u001b[39;00m\n",
      "File \u001b[1;32mc:\\Users\\intel\\Desktop\\UniCourses\\ai cep\\myenv\\Lib\\site-packages\\matplotlib\\pyplot.py:3903\u001b[0m, in \u001b[0;36mscatter\u001b[1;34m(x, y, s, c, marker, cmap, norm, vmin, vmax, alpha, linewidths, edgecolors, plotnonfinite, data, **kwargs)\u001b[0m\n\u001b[0;32m   3884\u001b[0m \u001b[38;5;129m@_copy_docstring_and_deprecators\u001b[39m(Axes\u001b[38;5;241m.\u001b[39mscatter)\n\u001b[0;32m   3885\u001b[0m \u001b[38;5;28;01mdef\u001b[39;00m \u001b[38;5;21mscatter\u001b[39m(\n\u001b[0;32m   3886\u001b[0m     x: \u001b[38;5;28mfloat\u001b[39m \u001b[38;5;241m|\u001b[39m ArrayLike,\n\u001b[1;32m   (...)\u001b[0m\n\u001b[0;32m   3901\u001b[0m     \u001b[38;5;241m*\u001b[39m\u001b[38;5;241m*\u001b[39mkwargs,\n\u001b[0;32m   3902\u001b[0m ) \u001b[38;5;241m-\u001b[39m\u001b[38;5;241m>\u001b[39m PathCollection:\n\u001b[1;32m-> 3903\u001b[0m     __ret \u001b[38;5;241m=\u001b[39m \u001b[43mgca\u001b[49m\u001b[43m(\u001b[49m\u001b[43m)\u001b[49m\u001b[38;5;241;43m.\u001b[39;49m\u001b[43mscatter\u001b[49m\u001b[43m(\u001b[49m\n\u001b[0;32m   3904\u001b[0m \u001b[43m        \u001b[49m\u001b[43mx\u001b[49m\u001b[43m,\u001b[49m\n\u001b[0;32m   3905\u001b[0m \u001b[43m        \u001b[49m\u001b[43my\u001b[49m\u001b[43m,\u001b[49m\n\u001b[0;32m   3906\u001b[0m \u001b[43m        \u001b[49m\u001b[43ms\u001b[49m\u001b[38;5;241;43m=\u001b[39;49m\u001b[43ms\u001b[49m\u001b[43m,\u001b[49m\n\u001b[0;32m   3907\u001b[0m \u001b[43m        \u001b[49m\u001b[43mc\u001b[49m\u001b[38;5;241;43m=\u001b[39;49m\u001b[43mc\u001b[49m\u001b[43m,\u001b[49m\n\u001b[0;32m   3908\u001b[0m \u001b[43m        \u001b[49m\u001b[43mmarker\u001b[49m\u001b[38;5;241;43m=\u001b[39;49m\u001b[43mmarker\u001b[49m\u001b[43m,\u001b[49m\n\u001b[0;32m   3909\u001b[0m \u001b[43m        \u001b[49m\u001b[43mcmap\u001b[49m\u001b[38;5;241;43m=\u001b[39;49m\u001b[43mcmap\u001b[49m\u001b[43m,\u001b[49m\n\u001b[0;32m   3910\u001b[0m \u001b[43m        \u001b[49m\u001b[43mnorm\u001b[49m\u001b[38;5;241;43m=\u001b[39;49m\u001b[43mnorm\u001b[49m\u001b[43m,\u001b[49m\n\u001b[0;32m   3911\u001b[0m \u001b[43m        \u001b[49m\u001b[43mvmin\u001b[49m\u001b[38;5;241;43m=\u001b[39;49m\u001b[43mvmin\u001b[49m\u001b[43m,\u001b[49m\n\u001b[0;32m   3912\u001b[0m \u001b[43m        \u001b[49m\u001b[43mvmax\u001b[49m\u001b[38;5;241;43m=\u001b[39;49m\u001b[43mvmax\u001b[49m\u001b[43m,\u001b[49m\n\u001b[0;32m   3913\u001b[0m \u001b[43m        \u001b[49m\u001b[43malpha\u001b[49m\u001b[38;5;241;43m=\u001b[39;49m\u001b[43malpha\u001b[49m\u001b[43m,\u001b[49m\n\u001b[0;32m   3914\u001b[0m \u001b[43m        \u001b[49m\u001b[43mlinewidths\u001b[49m\u001b[38;5;241;43m=\u001b[39;49m\u001b[43mlinewidths\u001b[49m\u001b[43m,\u001b[49m\n\u001b[0;32m   3915\u001b[0m \u001b[43m        \u001b[49m\u001b[43medgecolors\u001b[49m\u001b[38;5;241;43m=\u001b[39;49m\u001b[43medgecolors\u001b[49m\u001b[43m,\u001b[49m\n\u001b[0;32m   3916\u001b[0m \u001b[43m        \u001b[49m\u001b[43mplotnonfinite\u001b[49m\u001b[38;5;241;43m=\u001b[39;49m\u001b[43mplotnonfinite\u001b[49m\u001b[43m,\u001b[49m\n\u001b[0;32m   3917\u001b[0m \u001b[43m        \u001b[49m\u001b[38;5;241;43m*\u001b[39;49m\u001b[38;5;241;43m*\u001b[39;49m\u001b[43m(\u001b[49m\u001b[43m{\u001b[49m\u001b[38;5;124;43m\"\u001b[39;49m\u001b[38;5;124;43mdata\u001b[39;49m\u001b[38;5;124;43m\"\u001b[39;49m\u001b[43m:\u001b[49m\u001b[43m \u001b[49m\u001b[43mdata\u001b[49m\u001b[43m}\u001b[49m\u001b[43m \u001b[49m\u001b[38;5;28;43;01mif\u001b[39;49;00m\u001b[43m \u001b[49m\u001b[43mdata\u001b[49m\u001b[43m \u001b[49m\u001b[38;5;129;43;01mis\u001b[39;49;00m\u001b[43m \u001b[49m\u001b[38;5;129;43;01mnot\u001b[39;49;00m\u001b[43m \u001b[49m\u001b[38;5;28;43;01mNone\u001b[39;49;00m\u001b[43m \u001b[49m\u001b[38;5;28;43;01melse\u001b[39;49;00m\u001b[43m \u001b[49m\u001b[43m{\u001b[49m\u001b[43m}\u001b[49m\u001b[43m)\u001b[49m\u001b[43m,\u001b[49m\n\u001b[0;32m   3918\u001b[0m \u001b[43m        \u001b[49m\u001b[38;5;241;43m*\u001b[39;49m\u001b[38;5;241;43m*\u001b[39;49m\u001b[43mkwargs\u001b[49m\u001b[43m,\u001b[49m\n\u001b[0;32m   3919\u001b[0m \u001b[43m    \u001b[49m\u001b[43m)\u001b[49m\n\u001b[0;32m   3920\u001b[0m     sci(__ret)\n\u001b[0;32m   3921\u001b[0m     \u001b[38;5;28;01mreturn\u001b[39;00m __ret\n",
      "File \u001b[1;32mc:\\Users\\intel\\Desktop\\UniCourses\\ai cep\\myenv\\Lib\\site-packages\\matplotlib\\__init__.py:1473\u001b[0m, in \u001b[0;36m_preprocess_data.<locals>.inner\u001b[1;34m(ax, data, *args, **kwargs)\u001b[0m\n\u001b[0;32m   1470\u001b[0m \u001b[38;5;129m@functools\u001b[39m\u001b[38;5;241m.\u001b[39mwraps(func)\n\u001b[0;32m   1471\u001b[0m \u001b[38;5;28;01mdef\u001b[39;00m \u001b[38;5;21minner\u001b[39m(ax, \u001b[38;5;241m*\u001b[39margs, data\u001b[38;5;241m=\u001b[39m\u001b[38;5;28;01mNone\u001b[39;00m, \u001b[38;5;241m*\u001b[39m\u001b[38;5;241m*\u001b[39mkwargs):\n\u001b[0;32m   1472\u001b[0m     \u001b[38;5;28;01mif\u001b[39;00m data \u001b[38;5;129;01mis\u001b[39;00m \u001b[38;5;28;01mNone\u001b[39;00m:\n\u001b[1;32m-> 1473\u001b[0m         \u001b[38;5;28;01mreturn\u001b[39;00m \u001b[43mfunc\u001b[49m\u001b[43m(\u001b[49m\n\u001b[0;32m   1474\u001b[0m \u001b[43m            \u001b[49m\u001b[43max\u001b[49m\u001b[43m,\u001b[49m\n\u001b[0;32m   1475\u001b[0m \u001b[43m            \u001b[49m\u001b[38;5;241;43m*\u001b[39;49m\u001b[38;5;28;43mmap\u001b[39;49m\u001b[43m(\u001b[49m\u001b[43msanitize_sequence\u001b[49m\u001b[43m,\u001b[49m\u001b[43m \u001b[49m\u001b[43margs\u001b[49m\u001b[43m)\u001b[49m\u001b[43m,\u001b[49m\n\u001b[0;32m   1476\u001b[0m \u001b[43m            \u001b[49m\u001b[38;5;241;43m*\u001b[39;49m\u001b[38;5;241;43m*\u001b[39;49m\u001b[43m{\u001b[49m\u001b[43mk\u001b[49m\u001b[43m:\u001b[49m\u001b[43m \u001b[49m\u001b[43msanitize_sequence\u001b[49m\u001b[43m(\u001b[49m\u001b[43mv\u001b[49m\u001b[43m)\u001b[49m\u001b[43m \u001b[49m\u001b[38;5;28;43;01mfor\u001b[39;49;00m\u001b[43m \u001b[49m\u001b[43mk\u001b[49m\u001b[43m,\u001b[49m\u001b[43m \u001b[49m\u001b[43mv\u001b[49m\u001b[43m \u001b[49m\u001b[38;5;129;43;01min\u001b[39;49;00m\u001b[43m \u001b[49m\u001b[43mkwargs\u001b[49m\u001b[38;5;241;43m.\u001b[39;49m\u001b[43mitems\u001b[49m\u001b[43m(\u001b[49m\u001b[43m)\u001b[49m\u001b[43m}\u001b[49m\u001b[43m)\u001b[49m\n\u001b[0;32m   1478\u001b[0m     bound \u001b[38;5;241m=\u001b[39m new_sig\u001b[38;5;241m.\u001b[39mbind(ax, \u001b[38;5;241m*\u001b[39margs, \u001b[38;5;241m*\u001b[39m\u001b[38;5;241m*\u001b[39mkwargs)\n\u001b[0;32m   1479\u001b[0m     auto_label \u001b[38;5;241m=\u001b[39m (bound\u001b[38;5;241m.\u001b[39marguments\u001b[38;5;241m.\u001b[39mget(label_namer)\n\u001b[0;32m   1480\u001b[0m                   \u001b[38;5;129;01mor\u001b[39;00m bound\u001b[38;5;241m.\u001b[39mkwargs\u001b[38;5;241m.\u001b[39mget(label_namer))\n",
      "File \u001b[1;32mc:\\Users\\intel\\Desktop\\UniCourses\\ai cep\\myenv\\Lib\\site-packages\\matplotlib\\axes\\_axes.py:4787\u001b[0m, in \u001b[0;36mAxes.scatter\u001b[1;34m(self, x, y, s, c, marker, cmap, norm, vmin, vmax, alpha, linewidths, edgecolors, plotnonfinite, **kwargs)\u001b[0m\n\u001b[0;32m   4785\u001b[0m y \u001b[38;5;241m=\u001b[39m np\u001b[38;5;241m.\u001b[39mma\u001b[38;5;241m.\u001b[39mravel(y)\n\u001b[0;32m   4786\u001b[0m \u001b[38;5;28;01mif\u001b[39;00m x\u001b[38;5;241m.\u001b[39msize \u001b[38;5;241m!=\u001b[39m y\u001b[38;5;241m.\u001b[39msize:\n\u001b[1;32m-> 4787\u001b[0m     \u001b[38;5;28;01mraise\u001b[39;00m \u001b[38;5;167;01mValueError\u001b[39;00m(\u001b[38;5;124m\"\u001b[39m\u001b[38;5;124mx and y must be the same size\u001b[39m\u001b[38;5;124m\"\u001b[39m)\n\u001b[0;32m   4789\u001b[0m \u001b[38;5;28;01mif\u001b[39;00m s \u001b[38;5;129;01mis\u001b[39;00m \u001b[38;5;28;01mNone\u001b[39;00m:\n\u001b[0;32m   4790\u001b[0m     s \u001b[38;5;241m=\u001b[39m (\u001b[38;5;241m20\u001b[39m \u001b[38;5;28;01mif\u001b[39;00m mpl\u001b[38;5;241m.\u001b[39mrcParams[\u001b[38;5;124m'\u001b[39m\u001b[38;5;124m_internal.classic_mode\u001b[39m\u001b[38;5;124m'\u001b[39m] \u001b[38;5;28;01melse\u001b[39;00m\n\u001b[0;32m   4791\u001b[0m          mpl\u001b[38;5;241m.\u001b[39mrcParams[\u001b[38;5;124m'\u001b[39m\u001b[38;5;124mlines.markersize\u001b[39m\u001b[38;5;124m'\u001b[39m] \u001b[38;5;241m*\u001b[39m\u001b[38;5;241m*\u001b[39m \u001b[38;5;241m2.0\u001b[39m)\n",
      "\u001b[1;31mValueError\u001b[0m: x and y must be the same size"
     ]
    },
    {
     "data": {
      "image/png": "[encoded data removed]",
      "text/plain": [
       "<Figure size 640x480 with 1 Axes>"
      ]
     },
     "metadata": {},
     "output_type": "display_data"
    }
   ],
   "source": [
    "# Create support vector classifier with a linear kernel \n",
    "svc_linear = SVC(kernel=\"linear\", random_state=0, C=1) \n",
    "\n",
    "# Train model \n",
    "model_linear=svc_linear.fit(features_, target_)\n",
    "# Plot observations and hyperplane \n",
    "# plot_decision_regions(features_, target_, clf=svc_linear) \n",
    "# plt.axis(\"off\"), plt.show(); "
   ]
  },
  {
   "cell_type": "code",
   "execution_count": 27,
   "metadata": {
    "scrolled": true
   },
   "outputs": [
    {
     "data": {
      "text/plain": [
       "array([1, 0, 1, 1, 1, 0, 1, 1, 1, 1, 0, 1, 1, 1, 1, 1, 1, 1, 1, 1, 1, 0,\n",
       "       1, 0, 0, 0, 1, 1, 1, 1, 1, 1, 1, 0, 0, 1, 1, 1, 1, 1, 0, 1, 0, 1,\n",
       "       0, 0, 0, 1, 0, 1, 1, 0, 0, 1, 1, 1, 0, 0, 1, 1, 1, 0, 1, 0, 1, 0,\n",
       "       1, 0, 1, 1, 0, 1, 1, 0, 1, 0, 1, 1, 1, 1, 0, 1, 0, 1, 1, 1, 1, 0,\n",
       "       1, 1, 1, 1, 1, 0, 0, 0, 1, 1, 1, 1, 1, 1, 1, 1, 1, 1, 1, 1, 1, 1,\n",
       "       1, 0, 0, 1, 1, 0, 0, 0, 1, 1, 1, 1, 1, 1, 1, 1, 1, 1, 1, 0, 1, 1,\n",
       "       0, 1, 1, 1, 1, 1, 1, 0, 0, 0, 1, 0, 0, 1, 1, 0, 1, 0, 0, 1, 1, 1,\n",
       "       1, 0, 1, 1, 1, 1, 1, 1, 0, 0, 0, 1, 1, 0, 0, 0, 1, 1, 1, 1, 1, 1,\n",
       "       1, 1, 0, 0, 1, 1, 1, 1, 1, 1, 1, 1, 1, 0, 0, 0, 1, 1, 1, 1, 1, 1,\n",
       "       1, 1])"
      ]
     },
     "execution_count": 27,
     "metadata": {},
     "output_type": "execute_result"
    }
   ],
   "source": [
    "# Predictions \n",
    "target_pred_linear = model_linear.predict(features_) \n",
    "target_pred_linear"
   ]
  },
  {
   "cell_type": "code",
   "execution_count": 28,
   "metadata": {},
   "outputs": [
    {
     "name": "stdout",
     "output_type": "stream",
     "text": [
      "The accuracy is 67.0%\n",
      "[[47 54]\n",
      " [12 87]]\n",
      "              precision    recall  f1-score   support\n",
      "\n",
      "     class 0       0.80      0.47      0.59       101\n",
      "     class 1       0.62      0.88      0.72        99\n",
      "\n",
      "    accuracy                           0.67       200\n",
      "   macro avg       0.71      0.67      0.66       200\n",
      "weighted avg       0.71      0.67      0.66       200\n",
      "\n"
     ]
    }
   ],
   "source": [
    "# Printing results\n",
    "print(\"The accuracy is \"+str(metrics.accuracy_score(target_,target_pred_linear)*100)+\"%\") \n",
    "print(confusion_matrix(target_,target_pred_linear))  \n",
    "target_names = ['class 0', 'class 1'] \n",
    "print(classification_report(target_,target_pred_linear, target_names=target_names)) "
   ]
  },
  {
   "cell_type": "markdown",
   "metadata": {},
   "source": [
    "### Using RBF Kernel"
   ]
  },
  {
   "cell_type": "code",
   "execution_count": 30,
   "metadata": {},
   "outputs": [
    {
     "ename": "ValueError",
     "evalue": "x and y must be the same size",
     "output_type": "error",
     "traceback": [
      "\u001b[1;31m---------------------------------------------------------------------------\u001b[0m",
      "\u001b[1;31mValueError\u001b[0m                                Traceback (most recent call last)",
      "Cell \u001b[1;32mIn[30], line 8\u001b[0m\n\u001b[0;32m      5\u001b[0m model_svc\u001b[38;5;241m=\u001b[39msvc_rbf\u001b[38;5;241m.\u001b[39mfit(features_, target_) \n\u001b[0;32m      7\u001b[0m color \u001b[38;5;241m=\u001b[39m [\u001b[38;5;124m\"\u001b[39m\u001b[38;5;124mblack\u001b[39m\u001b[38;5;124m\"\u001b[39m \u001b[38;5;28;01mif\u001b[39;00m c \u001b[38;5;241m==\u001b[39m \u001b[38;5;241m0\u001b[39m \u001b[38;5;28;01melse\u001b[39;00m \u001b[38;5;124m\"\u001b[39m\u001b[38;5;124mlightgrey\u001b[39m\u001b[38;5;124m\"\u001b[39m \u001b[38;5;28;01mfor\u001b[39;00m c \u001b[38;5;129;01min\u001b[39;00m target] \n\u001b[1;32m----> 8\u001b[0m \u001b[43mplt\u001b[49m\u001b[38;5;241;43m.\u001b[39;49m\u001b[43mscatter\u001b[49m\u001b[43m(\u001b[49m\u001b[43mfeatures_\u001b[49m\u001b[43m,\u001b[49m\u001b[43mtarget_\u001b[49m\u001b[43m,\u001b[49m\u001b[43m \u001b[49m\u001b[43mc\u001b[49m\u001b[38;5;241;43m=\u001b[39;49m\u001b[43mcolor\u001b[49m\u001b[43m)\u001b[49m\n\u001b[0;32m      9\u001b[0m \u001b[38;5;66;03m# # Plot observations and hyperplane \u001b[39;00m\n\u001b[0;32m     10\u001b[0m \u001b[38;5;66;03m# plot_decision_regions(features_, target_, clf=svc_rbf) \u001b[39;00m\n\u001b[0;32m     11\u001b[0m \u001b[38;5;66;03m# plt.axis(\"off\"), plt.show(); \u001b[39;00m\n",
      "File \u001b[1;32mc:\\Users\\intel\\Desktop\\UniCourses\\ai cep\\myenv\\Lib\\site-packages\\matplotlib\\pyplot.py:3903\u001b[0m, in \u001b[0;36mscatter\u001b[1;34m(x, y, s, c, marker, cmap, norm, vmin, vmax, alpha, linewidths, edgecolors, plotnonfinite, data, **kwargs)\u001b[0m\n\u001b[0;32m   3884\u001b[0m \u001b[38;5;129m@_copy_docstring_and_deprecators\u001b[39m(Axes\u001b[38;5;241m.\u001b[39mscatter)\n\u001b[0;32m   3885\u001b[0m \u001b[38;5;28;01mdef\u001b[39;00m \u001b[38;5;21mscatter\u001b[39m(\n\u001b[0;32m   3886\u001b[0m     x: \u001b[38;5;28mfloat\u001b[39m \u001b[38;5;241m|\u001b[39m ArrayLike,\n\u001b[1;32m   (...)\u001b[0m\n\u001b[0;32m   3901\u001b[0m     \u001b[38;5;241m*\u001b[39m\u001b[38;5;241m*\u001b[39mkwargs,\n\u001b[0;32m   3902\u001b[0m ) \u001b[38;5;241m-\u001b[39m\u001b[38;5;241m>\u001b[39m PathCollection:\n\u001b[1;32m-> 3903\u001b[0m     __ret \u001b[38;5;241m=\u001b[39m \u001b[43mgca\u001b[49m\u001b[43m(\u001b[49m\u001b[43m)\u001b[49m\u001b[38;5;241;43m.\u001b[39;49m\u001b[43mscatter\u001b[49m\u001b[43m(\u001b[49m\n\u001b[0;32m   3904\u001b[0m \u001b[43m        \u001b[49m\u001b[43mx\u001b[49m\u001b[43m,\u001b[49m\n\u001b[0;32m   3905\u001b[0m \u001b[43m        \u001b[49m\u001b[43my\u001b[49m\u001b[43m,\u001b[49m\n\u001b[0;32m   3906\u001b[0m \u001b[43m        \u001b[49m\u001b[43ms\u001b[49m\u001b[38;5;241;43m=\u001b[39;49m\u001b[43ms\u001b[49m\u001b[43m,\u001b[49m\n\u001b[0;32m   3907\u001b[0m \u001b[43m        \u001b[49m\u001b[43mc\u001b[49m\u001b[38;5;241;43m=\u001b[39;49m\u001b[43mc\u001b[49m\u001b[43m,\u001b[49m\n\u001b[0;32m   3908\u001b[0m \u001b[43m        \u001b[49m\u001b[43mmarker\u001b[49m\u001b[38;5;241;43m=\u001b[39;49m\u001b[43mmarker\u001b[49m\u001b[43m,\u001b[49m\n\u001b[0;32m   3909\u001b[0m \u001b[43m        \u001b[49m\u001b[43mcmap\u001b[49m\u001b[38;5;241;43m=\u001b[39;49m\u001b[43mcmap\u001b[49m\u001b[43m,\u001b[49m\n\u001b[0;32m   3910\u001b[0m \u001b[43m        \u001b[49m\u001b[43mnorm\u001b[49m\u001b[38;5;241;43m=\u001b[39;49m\u001b[43mnorm\u001b[49m\u001b[43m,\u001b[49m\n\u001b[0;32m   3911\u001b[0m \u001b[43m        \u001b[49m\u001b[43mvmin\u001b[49m\u001b[38;5;241;43m=\u001b[39;49m\u001b[43mvmin\u001b[49m\u001b[43m,\u001b[49m\n\u001b[0;32m   3912\u001b[0m \u001b[43m        \u001b[49m\u001b[43mvmax\u001b[49m\u001b[38;5;241;43m=\u001b[39;49m\u001b[43mvmax\u001b[49m\u001b[43m,\u001b[49m\n\u001b[0;32m   3913\u001b[0m \u001b[43m        \u001b[49m\u001b[43malpha\u001b[49m\u001b[38;5;241;43m=\u001b[39;49m\u001b[43malpha\u001b[49m\u001b[43m,\u001b[49m\n\u001b[0;32m   3914\u001b[0m \u001b[43m        \u001b[49m\u001b[43mlinewidths\u001b[49m\u001b[38;5;241;43m=\u001b[39;49m\u001b[43mlinewidths\u001b[49m\u001b[43m,\u001b[49m\n\u001b[0;32m   3915\u001b[0m \u001b[43m        \u001b[49m\u001b[43medgecolors\u001b[49m\u001b[38;5;241;43m=\u001b[39;49m\u001b[43medgecolors\u001b[49m\u001b[43m,\u001b[49m\n\u001b[0;32m   3916\u001b[0m \u001b[43m        \u001b[49m\u001b[43mplotnonfinite\u001b[49m\u001b[38;5;241;43m=\u001b[39;49m\u001b[43mplotnonfinite\u001b[49m\u001b[43m,\u001b[49m\n\u001b[0;32m   3917\u001b[0m \u001b[43m        \u001b[49m\u001b[38;5;241;43m*\u001b[39;49m\u001b[38;5;241;43m*\u001b[39;49m\u001b[43m(\u001b[49m\u001b[43m{\u001b[49m\u001b[38;5;124;43m\"\u001b[39;49m\u001b[38;5;124;43mdata\u001b[39;49m\u001b[38;5;124;43m\"\u001b[39;49m\u001b[43m:\u001b[49m\u001b[43m \u001b[49m\u001b[43mdata\u001b[49m\u001b[43m}\u001b[49m\u001b[43m \u001b[49m\u001b[38;5;28;43;01mif\u001b[39;49;00m\u001b[43m \u001b[49m\u001b[43mdata\u001b[49m\u001b[43m \u001b[49m\u001b[38;5;129;43;01mis\u001b[39;49;00m\u001b[43m \u001b[49m\u001b[38;5;129;43;01mnot\u001b[39;49;00m\u001b[43m \u001b[49m\u001b[38;5;28;43;01mNone\u001b[39;49;00m\u001b[43m \u001b[49m\u001b[38;5;28;43;01melse\u001b[39;49;00m\u001b[43m \u001b[49m\u001b[43m{\u001b[49m\u001b[43m}\u001b[49m\u001b[43m)\u001b[49m\u001b[43m,\u001b[49m\n\u001b[0;32m   3918\u001b[0m \u001b[43m        \u001b[49m\u001b[38;5;241;43m*\u001b[39;49m\u001b[38;5;241;43m*\u001b[39;49m\u001b[43mkwargs\u001b[49m\u001b[43m,\u001b[49m\n\u001b[0;32m   3919\u001b[0m \u001b[43m    \u001b[49m\u001b[43m)\u001b[49m\n\u001b[0;32m   3920\u001b[0m     sci(__ret)\n\u001b[0;32m   3921\u001b[0m     \u001b[38;5;28;01mreturn\u001b[39;00m __ret\n",
      "File \u001b[1;32mc:\\Users\\intel\\Desktop\\UniCourses\\ai cep\\myenv\\Lib\\site-packages\\matplotlib\\__init__.py:1473\u001b[0m, in \u001b[0;36m_preprocess_data.<locals>.inner\u001b[1;34m(ax, data, *args, **kwargs)\u001b[0m\n\u001b[0;32m   1470\u001b[0m \u001b[38;5;129m@functools\u001b[39m\u001b[38;5;241m.\u001b[39mwraps(func)\n\u001b[0;32m   1471\u001b[0m \u001b[38;5;28;01mdef\u001b[39;00m \u001b[38;5;21minner\u001b[39m(ax, \u001b[38;5;241m*\u001b[39margs, data\u001b[38;5;241m=\u001b[39m\u001b[38;5;28;01mNone\u001b[39;00m, \u001b[38;5;241m*\u001b[39m\u001b[38;5;241m*\u001b[39mkwargs):\n\u001b[0;32m   1472\u001b[0m     \u001b[38;5;28;01mif\u001b[39;00m data \u001b[38;5;129;01mis\u001b[39;00m \u001b[38;5;28;01mNone\u001b[39;00m:\n\u001b[1;32m-> 1473\u001b[0m         \u001b[38;5;28;01mreturn\u001b[39;00m \u001b[43mfunc\u001b[49m\u001b[43m(\u001b[49m\n\u001b[0;32m   1474\u001b[0m \u001b[43m            \u001b[49m\u001b[43max\u001b[49m\u001b[43m,\u001b[49m\n\u001b[0;32m   1475\u001b[0m \u001b[43m            \u001b[49m\u001b[38;5;241;43m*\u001b[39;49m\u001b[38;5;28;43mmap\u001b[39;49m\u001b[43m(\u001b[49m\u001b[43msanitize_sequence\u001b[49m\u001b[43m,\u001b[49m\u001b[43m \u001b[49m\u001b[43margs\u001b[49m\u001b[43m)\u001b[49m\u001b[43m,\u001b[49m\n\u001b[0;32m   1476\u001b[0m \u001b[43m            \u001b[49m\u001b[38;5;241;43m*\u001b[39;49m\u001b[38;5;241;43m*\u001b[39;49m\u001b[43m{\u001b[49m\u001b[43mk\u001b[49m\u001b[43m:\u001b[49m\u001b[43m \u001b[49m\u001b[43msanitize_sequence\u001b[49m\u001b[43m(\u001b[49m\u001b[43mv\u001b[49m\u001b[43m)\u001b[49m\u001b[43m \u001b[49m\u001b[38;5;28;43;01mfor\u001b[39;49;00m\u001b[43m \u001b[49m\u001b[43mk\u001b[49m\u001b[43m,\u001b[49m\u001b[43m \u001b[49m\u001b[43mv\u001b[49m\u001b[43m \u001b[49m\u001b[38;5;129;43;01min\u001b[39;49;00m\u001b[43m \u001b[49m\u001b[43mkwargs\u001b[49m\u001b[38;5;241;43m.\u001b[39;49m\u001b[43mitems\u001b[49m\u001b[43m(\u001b[49m\u001b[43m)\u001b[49m\u001b[43m}\u001b[49m\u001b[43m)\u001b[49m\n\u001b[0;32m   1478\u001b[0m     bound \u001b[38;5;241m=\u001b[39m new_sig\u001b[38;5;241m.\u001b[39mbind(ax, \u001b[38;5;241m*\u001b[39margs, \u001b[38;5;241m*\u001b[39m\u001b[38;5;241m*\u001b[39mkwargs)\n\u001b[0;32m   1479\u001b[0m     auto_label \u001b[38;5;241m=\u001b[39m (bound\u001b[38;5;241m.\u001b[39marguments\u001b[38;5;241m.\u001b[39mget(label_namer)\n\u001b[0;32m   1480\u001b[0m                   \u001b[38;5;129;01mor\u001b[39;00m bound\u001b[38;5;241m.\u001b[39mkwargs\u001b[38;5;241m.\u001b[39mget(label_namer))\n",
      "File \u001b[1;32mc:\\Users\\intel\\Desktop\\UniCourses\\ai cep\\myenv\\Lib\\site-packages\\matplotlib\\axes\\_axes.py:4787\u001b[0m, in \u001b[0;36mAxes.scatter\u001b[1;34m(self, x, y, s, c, marker, cmap, norm, vmin, vmax, alpha, linewidths, edgecolors, plotnonfinite, **kwargs)\u001b[0m\n\u001b[0;32m   4785\u001b[0m y \u001b[38;5;241m=\u001b[39m np\u001b[38;5;241m.\u001b[39mma\u001b[38;5;241m.\u001b[39mravel(y)\n\u001b[0;32m   4786\u001b[0m \u001b[38;5;28;01mif\u001b[39;00m x\u001b[38;5;241m.\u001b[39msize \u001b[38;5;241m!=\u001b[39m y\u001b[38;5;241m.\u001b[39msize:\n\u001b[1;32m-> 4787\u001b[0m     \u001b[38;5;28;01mraise\u001b[39;00m \u001b[38;5;167;01mValueError\u001b[39;00m(\u001b[38;5;124m\"\u001b[39m\u001b[38;5;124mx and y must be the same size\u001b[39m\u001b[38;5;124m\"\u001b[39m)\n\u001b[0;32m   4789\u001b[0m \u001b[38;5;28;01mif\u001b[39;00m s \u001b[38;5;129;01mis\u001b[39;00m \u001b[38;5;28;01mNone\u001b[39;00m:\n\u001b[0;32m   4790\u001b[0m     s \u001b[38;5;241m=\u001b[39m (\u001b[38;5;241m20\u001b[39m \u001b[38;5;28;01mif\u001b[39;00m mpl\u001b[38;5;241m.\u001b[39mrcParams[\u001b[38;5;124m'\u001b[39m\u001b[38;5;124m_internal.classic_mode\u001b[39m\u001b[38;5;124m'\u001b[39m] \u001b[38;5;28;01melse\u001b[39;00m\n\u001b[0;32m   4791\u001b[0m          mpl\u001b[38;5;241m.\u001b[39mrcParams[\u001b[38;5;124m'\u001b[39m\u001b[38;5;124mlines.markersize\u001b[39m\u001b[38;5;124m'\u001b[39m] \u001b[38;5;241m*\u001b[39m\u001b[38;5;241m*\u001b[39m \u001b[38;5;241m2.0\u001b[39m)\n",
      "\u001b[1;31mValueError\u001b[0m: x and y must be the same size"
     ]
    },
    {
     "data": {
      "image/png": "[encoded data removed]",
      "text/plain": [
       "<Figure size 640x480 with 1 Axes>"
      ]
     },
     "metadata": {},
     "output_type": "display_data"
    }
   ],
   "source": [
    "# Create a support vector machine with a radial basis function (RBF) kernel \n",
    "svc_rbf = SVC(kernel=\"rbf\", random_state=0, gamma=1, C=1) \n",
    "\n",
    "# Train the classifier \n",
    "model_svc=svc_rbf.fit(features_, target_) \n",
    "\n",
    "color = [\"black\" if c == 0 else \"lightgrey\" for c in target] \n",
    "plt.scatter(features_,target_, c=color)\n",
    "# # Plot observations and hyperplane \n",
    "# plot_decision_regions(features_, target_, clf=svc_rbf) \n",
    "# plt.axis(\"off\"), plt.show(); "
   ]
  },
  {
   "cell_type": "markdown",
   "metadata": {},
   "source": [
    "### Identifying Support Vectors"
   ]
  },
  {
   "cell_type": "code",
   "execution_count": 31,
   "metadata": {},
   "outputs": [
    {
     "data": {
      "text/plain": [
       "array([[-0.5810659 ,  0.42196824, -0.80497402, -0.50860702],\n",
       "       [-1.52079513, -1.67737625, -1.08231219, -0.86427627],\n",
       "       [-0.89430898, -1.4674418 ,  0.30437864,  0.38056609],\n",
       "       [-0.5810659 , -1.25750735,  0.09637501,  0.55840072]])"
      ]
     },
     "execution_count": 31,
     "metadata": {},
     "output_type": "execute_result"
    }
   ],
   "source": [
    "#Load data with only two classes, but all 4 features\n",
    "iris = datasets.load_iris() \n",
    "features = iris.data[:100,:] \n",
    "target = iris.target[:100] \n",
    "\n",
    "# Standardize features \n",
    "scaler = StandardScaler() \n",
    "features_standardized = scaler.fit_transform(features) \n",
    "\n",
    "# Create support vector classifier object \n",
    "svc_ = SVC(kernel=\"linear\", random_state=0) \n",
    "\n",
    "# Train classifier \n",
    "model_ = svc_.fit(features_standardized, target) \n",
    "\n",
    "# View support vectors \n",
    "model_.support_vectors_ "
   ]
  },
  {
   "cell_type": "markdown",
   "metadata": {},
   "source": [
    "### Taining SVM Regressor"
   ]
  },
  {
   "cell_type": "code",
   "execution_count": null,
   "metadata": {},
   "outputs": [],
   "source": [
    "from sklearn.model_selection import train_test_split \n",
    "\n",
    "# Load data with only two features \n",
    "#boston = datasets.load_boston()  # removed from sklearn\n",
    "#features = boston.data[:,0:2] \n",
    "#target = boston.target \n",
    "\n",
    "#loading the dataset from the csv file\n",
    "boston=pd.read_csv('Boston_Dataset.csv')\n",
    "\n",
    "#Creating a dataframe for the features\n",
    "features_r=boston.drop(['PRICE'],axis=1)\n",
    "\n",
    "#Creating a series for the target\n",
    "target_r=boston['PRICE']"
   ]
  },
  {
   "cell_type": "code",
   "execution_count": null,
   "metadata": {},
   "outputs": [],
   "source": [
    "features_r"
   ]
  },
  {
   "cell_type": "code",
   "execution_count": null,
   "metadata": {},
   "outputs": [],
   "source": [
    "target_r"
   ]
  },
  {
   "cell_type": "code",
   "execution_count": null,
   "metadata": {},
   "outputs": [],
   "source": [
    "from sklearn.svm import SVR \n",
    "\n",
    "X_train,X_test,Y_train,Y_test = train_test_split(features_r,target_r,test_size=0.50,random_state=0) \n",
    "\n",
    "# Create decision tree classifier object \n",
    "regressor = SVR(kernel='linear') \n",
    "regressor.fit(X_train, Y_train) \n",
    "\n",
    "# Make predictions\n",
    "Y_pred_r = regressor.predict(X_test)"
   ]
  },
  {
   "cell_type": "code",
   "execution_count": null,
   "metadata": {},
   "outputs": [],
   "source": [
    "Y_pred_r"
   ]
  },
  {
   "cell_type": "code",
   "execution_count": null,
   "metadata": {},
   "outputs": [],
   "source": [
    "# Finding R-squared score\n",
    "regressor.score(features_r,target_r)"
   ]
  },
  {
   "cell_type": "code",
   "execution_count": 21,
   "metadata": {},
   "outputs": [],
   "source": [
    "\n",
    "import pandas as pd\n",
    "#Reading the file into a dataframe\n",
    "PATH='./'\n",
    "data=pd.read_csv(f'Boston_Dataset (1).csv')"
   ]
  },
  {
   "cell_type": "markdown",
   "metadata": {},
   "source": [
    "Q2 Lab exercise\n"
   ]
  },
  {
   "cell_type": "code",
   "execution_count": 1,
   "metadata": {},
   "outputs": [
    {
     "name": "stdout",
     "output_type": "stream",
     "text": [
      "\n",
      "\n",
      "--- IRIS Dataset ---\n",
      "Kernel: linear\n",
      "Confusion Matrix:\n",
      " [[23  0  0]\n",
      " [ 0 18  1]\n",
      " [ 0  1 17]]\n",
      "Classification Report:\n",
      "               precision    recall  f1-score   support\n",
      "\n",
      "           0       1.00      1.00      1.00        23\n",
      "           1       0.95      0.95      0.95        19\n",
      "           2       0.94      0.94      0.94        18\n",
      "\n",
      "    accuracy                           0.97        60\n",
      "   macro avg       0.96      0.96      0.96        60\n",
      "weighted avg       0.97      0.97      0.97        60\n",
      "\n",
      "Kernel: rbf\n",
      "Confusion Matrix:\n",
      " [[23  0  0]\n",
      " [ 0 19  0]\n",
      " [ 0  1 17]]\n",
      "Classification Report:\n",
      "               precision    recall  f1-score   support\n",
      "\n",
      "           0       1.00      1.00      1.00        23\n",
      "           1       0.95      1.00      0.97        19\n",
      "           2       1.00      0.94      0.97        18\n",
      "\n",
      "    accuracy                           0.98        60\n",
      "   macro avg       0.98      0.98      0.98        60\n",
      "weighted avg       0.98      0.98      0.98        60\n",
      "\n",
      "Kernel: poly\n",
      "Confusion Matrix:\n",
      " [[23  0  0]\n",
      " [ 0 19  0]\n",
      " [ 0  4 14]]\n",
      "Classification Report:\n",
      "               precision    recall  f1-score   support\n",
      "\n",
      "           0       1.00      1.00      1.00        23\n",
      "           1       0.83      1.00      0.90        19\n",
      "           2       1.00      0.78      0.88        18\n",
      "\n",
      "    accuracy                           0.93        60\n",
      "   macro avg       0.94      0.93      0.93        60\n",
      "weighted avg       0.94      0.93      0.93        60\n",
      "\n",
      "\n",
      "\n",
      "--- WINE Dataset ---\n",
      "Kernel: linear\n",
      "Confusion Matrix:\n",
      " [[26  0  0]\n",
      " [ 0 26  1]\n",
      " [ 0  0 19]]\n",
      "Classification Report:\n",
      "               precision    recall  f1-score   support\n",
      "\n",
      "           0       1.00      1.00      1.00        26\n",
      "           1       1.00      0.96      0.98        27\n",
      "           2       0.95      1.00      0.97        19\n",
      "\n",
      "    accuracy                           0.99        72\n",
      "   macro avg       0.98      0.99      0.99        72\n",
      "weighted avg       0.99      0.99      0.99        72\n",
      "\n",
      "Kernel: rbf\n",
      "Confusion Matrix:\n",
      " [[26  0  0]\n",
      " [ 0 27  0]\n",
      " [ 0  1 18]]\n",
      "Classification Report:\n",
      "               precision    recall  f1-score   support\n",
      "\n",
      "           0       1.00      1.00      1.00        26\n",
      "           1       0.96      1.00      0.98        27\n",
      "           2       1.00      0.95      0.97        19\n",
      "\n",
      "    accuracy                           0.99        72\n",
      "   macro avg       0.99      0.98      0.98        72\n",
      "weighted avg       0.99      0.99      0.99        72\n",
      "\n",
      "Kernel: poly\n",
      "Confusion Matrix:\n",
      " [[20  6  0]\n",
      " [ 1 26  0]\n",
      " [ 0  1 18]]\n",
      "Classification Report:\n",
      "               precision    recall  f1-score   support\n",
      "\n",
      "           0       0.95      0.77      0.85        26\n",
      "           1       0.79      0.96      0.87        27\n",
      "           2       1.00      0.95      0.97        19\n",
      "\n",
      "    accuracy                           0.89        72\n",
      "   macro avg       0.91      0.89      0.90        72\n",
      "weighted avg       0.90      0.89      0.89        72\n",
      "\n"
     ]
    }
   ],
   "source": [
    "from sklearn.model_selection import train_test_split\n",
    "from sklearn.preprocessing import StandardScaler\n",
    "from sklearn.svm import SVC\n",
    "from sklearn import metrics\n",
    "from sklearn.datasets import load_iris, load_wine\n",
    "from sklearn.metrics import confusion_matrix, classification_report, roc_curve, auc\n",
    "import matplotlib.pyplot as plt\n",
    "import numpy as np\n",
    "\n",
    "# Helper function\n",
    "def evaluate_model(X, y, kernel):\n",
    "    X_train, X_test, y_train, y_test = train_test_split(X, y, test_size=0.4, random_state=42)\n",
    "    scaler = StandardScaler()\n",
    "    X_train = scaler.fit_transform(X_train)\n",
    "    X_test = scaler.transform(X_test)\n",
    "\n",
    "    model = SVC(kernel=kernel, probability=True)\n",
    "    model.fit(X_train, y_train)\n",
    "    y_pred = model.predict(X_test)\n",
    "\n",
    "    print(f\"Kernel: {kernel}\")\n",
    "    print(\"Confusion Matrix:\\n\", confusion_matrix(y_test, y_pred))\n",
    "    print(\"Classification Report:\\n\", classification_report(y_test, y_pred))\n",
    "\n",
    "    if len(np.unique(y)) == 2:  # Only binary classes can plot ROC easily\n",
    "        y_score = model.predict_proba(X_test)[:,1]\n",
    "        fpr, tpr, _ = roc_curve(y_test, y_score)\n",
    "        roc_auc = auc(fpr, tpr)\n",
    "        plt.plot(fpr, tpr, label=f'{kernel} (area = {roc_auc:.2f})')\n",
    "\n",
    "# IRIS Dataset\n",
    "iris = load_iris()\n",
    "print(\"\\n\\n--- IRIS Dataset ---\")\n",
    "for kernel in ['linear', 'rbf', 'poly']:\n",
    "    evaluate_model(iris.data, iris.target, kernel)\n",
    "\n",
    "# WINE Dataset\n",
    "wine = load_wine()\n",
    "print(\"\\n\\n--- WINE Dataset ---\")\n",
    "for kernel in ['linear', 'rbf', 'poly']:\n",
    "    evaluate_model(wine.data, wine.target, kernel)\n"
   ]
  },
  {
   "cell_type": "markdown",
   "metadata": {},
   "source": [
    "Q3  Analyze accuracy impact for Iris and Wine (parameter tuning: C=0.1, 1, 1000 and gamma=0.1, 1, 10)\n"
   ]
  },
  {
   "cell_type": "code",
   "execution_count": 3,
   "metadata": {},
   "outputs": [
    {
     "name": "stdout",
     "output_type": "stream",
     "text": [
      "\n",
      "\n",
      "--- IRIS Dataset (Tuning RBF Kernel) ---\n",
      "C=0.1, gamma=0.1 -> Train Acc: 0.889, Test Acc: 0.883\n",
      "C=0.1, gamma=1 -> Train Acc: 0.911, Test Acc: 0.933\n",
      "C=0.1, gamma=10 -> Train Acc: 0.356, Test Acc: 0.300\n",
      "\n",
      "\n",
      "--- WINE Dataset (Tuning RBF Kernel) ---\n",
      "C=0.1, gamma=0.1 -> Train Acc: 0.943, Test Acc: 0.903\n",
      "C=0.1, gamma=1 -> Train Acc: 0.415, Test Acc: 0.375\n",
      "C=0.1, gamma=10 -> Train Acc: 0.415, Test Acc: 0.375\n"
     ]
    }
   ],
   "source": [
    "# Helper function\n",
    "def tune_rbf_kernel(X, y):\n",
    "    C = 0.1\n",
    "    gamma_values = [0.1, 1, 10]\n",
    "\n",
    "    X_train, X_test, y_train, y_test = train_test_split(X, y, test_size=0.4, random_state=42)\n",
    "    scaler = StandardScaler()\n",
    "    X_train = scaler.fit_transform(X_train)\n",
    "    X_test = scaler.transform(X_test)\n",
    "\n",
    "    for gamma in gamma_values:\n",
    "        model = SVC(kernel='rbf', C=C, gamma=gamma)\n",
    "        model.fit(X_train, y_train)\n",
    "        train_acc = model.score(X_train, y_train)\n",
    "        test_acc = model.score(X_test, y_test)\n",
    "        print(f'C={C}, gamma={gamma} -> Train Acc: {train_acc:.3f}, Test Acc: {test_acc:.3f}')\n",
    "\n",
    "# IRIS Dataset\n",
    "print(\"\\n\\n--- IRIS Dataset (Tuning RBF Kernel) ---\")\n",
    "tune_rbf_kernel(iris.data, iris.target)\n",
    "\n",
    "# WINE Dataset\n",
    "print(\"\\n\\n--- WINE Dataset (Tuning RBF Kernel) ---\")\n",
    "tune_rbf_kernel(wine.data, wine.target)\n"
   ]
  },
  {
   "cell_type": "markdown",
   "metadata": {},
   "source": [
    "getting Wave Dataset"
   ]
  },
  {
   "cell_type": "code",
   "execution_count": 6,
   "metadata": {},
   "outputs": [
    {
     "name": "stdout",
     "output_type": "stream",
     "text": [
      "Collecting mglearn\n",
      "  Downloading mglearn-0.2.0-py2.py3-none-any.whl.metadata (628 bytes)\n",
      "Requirement already satisfied: numpy in c:\\users\\intel\\desktop\\unicourses\\ai cep\\myenv\\lib\\site-packages (from mglearn) (1.26.4)\n",
      "Requirement already satisfied: matplotlib in c:\\users\\intel\\desktop\\unicourses\\ai cep\\myenv\\lib\\site-packages (from mglearn) (3.9.2)\n",
      "Requirement already satisfied: scikit-learn in c:\\users\\intel\\desktop\\unicourses\\ai cep\\myenv\\lib\\site-packages (from mglearn) (1.5.2)\n",
      "Requirement already satisfied: pandas in c:\\users\\intel\\desktop\\unicourses\\ai cep\\myenv\\lib\\site-packages (from mglearn) (2.2.3)\n",
      "Requirement already satisfied: pillow in c:\\users\\intel\\desktop\\unicourses\\ai cep\\myenv\\lib\\site-packages (from mglearn) (11.0.0)\n",
      "Requirement already satisfied: cycler in c:\\users\\intel\\desktop\\unicourses\\ai cep\\myenv\\lib\\site-packages (from mglearn) (0.12.1)\n",
      "Collecting imageio (from mglearn)\n",
      "  Downloading imageio-2.37.0-py3-none-any.whl.metadata (5.2 kB)\n",
      "Requirement already satisfied: joblib in c:\\users\\intel\\desktop\\unicourses\\ai cep\\myenv\\lib\\site-packages (from mglearn) (1.4.2)\n",
      "Requirement already satisfied: contourpy>=1.0.1 in c:\\users\\intel\\desktop\\unicourses\\ai cep\\myenv\\lib\\site-packages (from matplotlib->mglearn) (1.3.0)\n",
      "Requirement already satisfied: fonttools>=4.22.0 in c:\\users\\intel\\desktop\\unicourses\\ai cep\\myenv\\lib\\site-packages (from matplotlib->mglearn) (4.54.1)\n",
      "Requirement already satisfied: kiwisolver>=1.3.1 in c:\\users\\intel\\desktop\\unicourses\\ai cep\\myenv\\lib\\site-packages (from matplotlib->mglearn) (1.4.7)\n",
      "Requirement already satisfied: packaging>=20.0 in c:\\users\\intel\\desktop\\unicourses\\ai cep\\myenv\\lib\\site-packages (from matplotlib->mglearn) (24.1)\n",
      "Requirement already satisfied: pyparsing>=2.3.1 in c:\\users\\intel\\desktop\\unicourses\\ai cep\\myenv\\lib\\site-packages (from matplotlib->mglearn) (3.2.0)\n",
      "Requirement already satisfied: python-dateutil>=2.7 in c:\\users\\intel\\desktop\\unicourses\\ai cep\\myenv\\lib\\site-packages (from matplotlib->mglearn) (2.9.0.post0)\n",
      "Requirement already satisfied: pytz>=2020.1 in c:\\users\\intel\\desktop\\unicourses\\ai cep\\myenv\\lib\\site-packages (from pandas->mglearn) (2024.2)\n",
      "Requirement already satisfied: tzdata>=2022.7 in c:\\users\\intel\\desktop\\unicourses\\ai cep\\myenv\\lib\\site-packages (from pandas->mglearn) (2024.2)\n",
      "Requirement already satisfied: scipy>=1.6.0 in c:\\users\\intel\\desktop\\unicourses\\ai cep\\myenv\\lib\\site-packages (from scikit-learn->mglearn) (1.14.1)\n",
      "Requirement already satisfied: threadpoolctl>=3.1.0 in c:\\users\\intel\\desktop\\unicourses\\ai cep\\myenv\\lib\\site-packages (from scikit-learn->mglearn) (3.5.0)\n",
      "Requirement already satisfied: six>=1.5 in c:\\users\\intel\\desktop\\unicourses\\ai cep\\myenv\\lib\\site-packages (from python-dateutil>=2.7->matplotlib->mglearn) (1.16.0)\n",
      "Downloading mglearn-0.2.0-py2.py3-none-any.whl (581 kB)\n",
      "   ---------------------------------------- 0.0/581.4 kB ? eta -:--:--\n",
      "   ---------------------------------------- 0.0/581.4 kB ? eta -:--:--\n",
      "    --------------------------------------- 10.2/581.4 kB ? eta -:--:--\n",
      "    --------------------------------------- 10.2/581.4 kB ? eta -:--:--\n",
      "   - ------------------------------------- 20.5/581.4 kB 165.2 kB/s eta 0:00:04\n",
      "   -- ------------------------------------ 30.7/581.4 kB 146.3 kB/s eta 0:00:04\n",
      "   -- ------------------------------------ 41.0/581.4 kB 196.9 kB/s eta 0:00:03\n",
      "   --- ----------------------------------- 51.2/581.4 kB 187.9 kB/s eta 0:00:03\n",
      "   ------ -------------------------------- 92.2/581.4 kB 291.5 kB/s eta 0:00:02\n",
      "   -------- ----------------------------- 133.1/581.4 kB 393.8 kB/s eta 0:00:02\n",
      "   ----------- -------------------------- 174.1/581.4 kB 477.7 kB/s eta 0:00:01\n",
      "   ----------- -------------------------- 174.1/581.4 kB 477.7 kB/s eta 0:00:01\n",
      "   ----------- -------------------------- 174.1/581.4 kB 477.7 kB/s eta 0:00:01\n",
      "   ----------- -------------------------- 174.1/581.4 kB 477.7 kB/s eta 0:00:01\n",
      "   ------------------- ------------------ 297.0/581.4 kB 573.4 kB/s eta 0:00:01\n",
      "   ------------------- ------------------ 297.0/581.4 kB 573.4 kB/s eta 0:00:01\n",
      "   ---------------------- --------------- 337.9/581.4 kB 524.3 kB/s eta 0:00:01\n",
      "   ------------------------ ------------- 378.9/581.4 kB 562.0 kB/s eta 0:00:01\n",
      "   --------------------------- ---------- 419.8/581.4 kB 596.2 kB/s eta 0:00:01\n",
      "   --------------------------- ---------- 419.8/581.4 kB 596.2 kB/s eta 0:00:01\n",
      "   --------------------------- ---------- 419.8/581.4 kB 596.2 kB/s eta 0:00:01\n",
      "   --------------------------- ---------- 419.8/581.4 kB 596.2 kB/s eta 0:00:01\n",
      "   -------------------------------------  573.4/581.4 kB 655.6 kB/s eta 0:00:01\n",
      "   -------------------------------------- 581.4/581.4 kB 641.8 kB/s eta 0:00:00\n",
      "Downloading imageio-2.37.0-py3-none-any.whl (315 kB)\n",
      "   ---------------------------------------- 0.0/315.8 kB ? eta -:--:--\n",
      "   ----- --------------------------------- 41.0/315.8 kB 991.0 kB/s eta 0:00:01\n",
      "   ----------- ---------------------------- 92.2/315.8 kB 1.3 MB/s eta 0:00:01\n",
      "   -------------- ------------------------- 112.6/315.8 kB 1.1 MB/s eta 0:00:01\n",
      "   ----------------- -------------------- 143.4/315.8 kB 944.1 kB/s eta 0:00:01\n",
      "   ----------------- -------------------- 143.4/315.8 kB 944.1 kB/s eta 0:00:01\n",
      "   ----------------- -------------------- 143.4/315.8 kB 944.1 kB/s eta 0:00:01\n",
      "   ---------------------------------- --- 286.7/315.8 kB 930.9 kB/s eta 0:00:01\n",
      "   ------------------------------------ - 307.2/315.8 kB 905.4 kB/s eta 0:00:01\n",
      "   -------------------------------------- 315.8/315.8 kB 888.2 kB/s eta 0:00:00\n",
      "Installing collected packages: imageio, mglearn\n",
      "Successfully installed imageio-2.37.0 mglearn-0.2.0\n",
      "Note: you may need to restart the kernel to use updated packages.\n"
     ]
    },
    {
     "name": "stderr",
     "output_type": "stream",
     "text": [
      "\n",
      "[notice] A new release of pip is available: 24.0 -> 25.0.1\n",
      "[notice] To update, run: python.exe -m pip install --upgrade pip\n"
     ]
    }
   ],
   "source": [
    "pip install mglearn"
   ]
  },
  {
   "cell_type": "code",
   "execution_count": 7,
   "metadata": {},
   "outputs": [],
   "source": [
    "# Loading and exploring the dataset\n",
    "import mglearn \n",
    "X, y = mglearn.datasets.make_wave(n_samples=60) "
   ]
  },
  {
   "cell_type": "markdown",
   "metadata": {},
   "source": [
    " Q5. Compare Linear and SVM Regression (linear, rbf, polynomial) on Wave, RAM Prices, Boston Housing\n",
    "(Metrics: R² and Mean Relative Error)\n",
    "\n",
    "Plan:\n",
    "Preprocess (log transform if needed).\n",
    "\n",
    "Train linear regression and SVR (linear, rbf, poly).\n",
    "\n",
    "Evaluate with R² score and mean relative error."
   ]
  },
  {
   "cell_type": "code",
   "execution_count": 8,
   "metadata": {},
   "outputs": [
    {
     "name": "stdout",
     "output_type": "stream",
     "text": [
      "\n",
      "Model: Linear Regression\n",
      "R2 Score: 0.712\n",
      "Mean Relative Error: 1.127\n",
      "\n",
      "Model: SVR Linear\n",
      "R2 Score: 0.703\n",
      "Mean Relative Error: 1.083\n",
      "\n",
      "Model: SVR RBF\n",
      "R2 Score: 0.762\n",
      "Mean Relative Error: 1.334\n",
      "\n",
      "Model: SVR Poly\n",
      "R2 Score: 0.516\n",
      "Mean Relative Error: 0.836\n"
     ]
    }
   ],
   "source": [
    "from sklearn.svm import SVR\n",
    "from sklearn.linear_model import LinearRegression\n",
    "from sklearn.datasets import make_regression\n",
    "from sklearn.metrics import r2_score, mean_absolute_error\n",
    "\n",
    "def mean_relative_error(y_true, y_pred):\n",
    "    return np.mean(np.abs((y_true - y_pred) / y_true))\n",
    "\n",
    "# Example: Wave Dataset\n",
    "\n",
    "X_train, X_test, y_train, y_test = train_test_split(X, y, test_size=0.4, random_state=42)\n",
    "\n",
    "models = {\n",
    "    'Linear Regression': LinearRegression(),\n",
    "    'SVR Linear': SVR(kernel='linear'),\n",
    "    'SVR RBF': SVR(kernel='rbf'),\n",
    "    'SVR Poly': SVR(kernel='poly', degree=3)\n",
    "}\n",
    "\n",
    "for name, model in models.items():\n",
    "    model.fit(X_train, y_train)\n",
    "    y_pred = model.predict(X_test)\n",
    "    print(f\"\\nModel: {name}\")\n",
    "    print(f\"R2 Score: {r2_score(y_test, y_pred):.3f}\")\n",
    "    print(f\"Mean Relative Error: {mean_relative_error(y_test, y_pred):.3f}\")\n"
   ]
  },
  {
   "cell_type": "markdown",
   "metadata": {},
   "source": [
    "Q6. Analyze Mean Relative Error for different C and gamma on Wave, RAM Prices, Boston Housing (RBF Kernel)\n",
    "Plan:\n",
    "Same as Q5, but only SVR with RBF kernel.\n",
    "\n",
    "Tune C and gamma (0.1, 1, 1000 and 0.1, 1, 10).\n",
    "\n",
    "Report mean relative error."
   ]
  },
  {
   "cell_type": "code",
   "execution_count": 9,
   "metadata": {},
   "outputs": [
    {
     "name": "stdout",
     "output_type": "stream",
     "text": [
      "\n",
      "\n",
      "--- Wave Dataset ---\n",
      "C=0.1, gamma=0.1 -> Mean Relative Error: 1.258\n",
      "C=0.1, gamma=1 -> Mean Relative Error: 1.230\n",
      "C=0.1, gamma=10 -> Mean Relative Error: 1.060\n",
      "C=1, gamma=0.1 -> Mean Relative Error: 1.419\n",
      "C=1, gamma=1 -> Mean Relative Error: 0.990\n",
      "C=1, gamma=10 -> Mean Relative Error: 0.809\n",
      "C=1000, gamma=0.1 -> Mean Relative Error: 1.200\n",
      "C=1000, gamma=1 -> Mean Relative Error: 0.810\n",
      "C=1000, gamma=10 -> Mean Relative Error: 1.508\n"
     ]
    }
   ],
   "source": [
    "def tune_rbf_regression(X, y):\n",
    "    C_values = [0.1, 1, 1000]\n",
    "    gamma_values = [0.1, 1, 10]\n",
    "\n",
    "    X_train, X_test, y_train, y_test = train_test_split(X, y, test_size=0.4, random_state=42)\n",
    "\n",
    "    for C in C_values:\n",
    "        for gamma in gamma_values:\n",
    "            model = SVR(kernel='rbf', C=C, gamma=gamma)\n",
    "            model.fit(X_train, y_train)\n",
    "            y_pred = model.predict(X_test)\n",
    "            mre = mean_relative_error(y_test, y_pred)\n",
    "            print(f'C={C}, gamma={gamma} -> Mean Relative Error: {mre:.3f}')\n",
    "\n",
    "# Example on Wave\n",
    "print(\"\\n\\n--- Wave Dataset ---\")\n",
    "tune_rbf_regression(X, y)\n",
    "\n",
    "# Similarly call for Boston Housing and RAM prices\n"
   ]
  },
  {
   "cell_type": "code",
   "execution_count": null,
   "metadata": {},
   "outputs": [],
   "source": []
  }
 ],
 "metadata": {
  "kernelspec": {
   "display_name": "myenv",
   "language": "python",
   "name": "python3"
  },
  "language_info": {
   "codemirror_mode": {
    "name": "ipython",
    "version": 3
   },
   "file_extension": ".py",
   "mimetype": "text/x-python",
   "name": "python",
   "nbconvert_exporter": "python",
   "pygments_lexer": "ipython3",
   "version": "3.12.4"
  }
 },
 "nbformat": 4,
 "nbformat_minor": 4
}
