{
 "cells": [
  {
   "cell_type": "code",
   "execution_count": 81,
   "id": "92e88a5f",
   "metadata": {},
   "outputs": [],
   "source": [
    "import numpy as np\n",
    "import pandas as pd\n",
    "import matplotlib.pyplot as plt \n",
    "\n",
    "from sklearn import metrics \n",
    "from sklearn.metrics import confusion_matrix, classification_report \n",
    "from sklearn.preprocessing import StandardScaler\n",
    "from sklearn.svm import SVC \n",
    "\n",
    "from sklearn.linear_model import LogisticRegression \n",
    "from sklearn.model_selection import train_test_split \n",
    "\n",
    "\n",
    "from sklearn.decomposition import PCA\n",
    "from sklearn import datasets"
   ]
  },
  {
   "cell_type": "code",
   "execution_count": 82,
   "id": "b6c050e6",
   "metadata": {},
   "outputs": [],
   "source": [
    "from sklearn import datasets \n",
    "\n",
    "# Load data with only two classes and two features \n",
    "iris = datasets.load_iris()  "
   ]
  },
  {
   "cell_type": "code",
   "execution_count": 83,
   "id": "a7a79fdf",
   "metadata": {},
   "outputs": [],
   "source": [
    "X= iris.data\n",
    "Y= iris.target"
   ]
  },
  {
   "cell_type": "code",
   "execution_count": 84,
   "id": "e3e85e5f",
   "metadata": {},
   "outputs": [],
   "source": [
    "scaler = StandardScaler() \n",
    "X = scaler.fit_transform(X) "
   ]
  },
  {
   "cell_type": "markdown",
   "id": "818ba935",
   "metadata": {},
   "source": [
    "SVM with original dataset"
   ]
  },
  {
   "cell_type": "code",
   "execution_count": 85,
   "id": "43bf392d",
   "metadata": {},
   "outputs": [
    {
     "data": {
      "text/plain": [
       "array([0, 0, 0, 0, 0, 0, 0, 0, 0, 0, 0, 0, 0, 0, 0, 0, 0, 0, 0, 0, 0, 0,\n",
       "       0, 0, 0, 0, 0, 0, 0, 0, 0, 0, 0, 0, 0, 0, 0, 0, 0, 0, 0, 0, 0, 0,\n",
       "       0, 0, 0, 0, 0, 0, 1, 1, 1, 1, 1, 1, 1, 1, 1, 1, 1, 1, 1, 1, 1, 1,\n",
       "       1, 1, 1, 1, 1, 1, 1, 1, 1, 1, 1, 1, 1, 1, 1, 1, 1, 2, 1, 1, 1, 1,\n",
       "       1, 1, 1, 1, 1, 1, 1, 1, 1, 1, 1, 1, 2, 2, 2, 2, 2, 2, 2, 2, 2, 2,\n",
       "       2, 2, 2, 2, 2, 2, 2, 2, 2, 1, 2, 2, 2, 2, 2, 2, 2, 2, 2, 2, 2, 2,\n",
       "       2, 2, 2, 2, 2, 2, 2, 2, 2, 2, 2, 2, 2, 2, 2, 2, 2, 2])"
      ]
     },
     "execution_count": 85,
     "metadata": {},
     "output_type": "execute_result"
    }
   ],
   "source": [
    "svc_rbf = SVC(kernel=\"rbf\", random_state=0, gamma=1, C=1) \n",
    "\n",
    "# Train the classifier \n",
    "model_svc=svc_rbf.fit(X,Y) \n",
    "target_pred_rbf = model_svc.predict(X) \n",
    "target_pred_rbf"
   ]
  },
  {
   "cell_type": "code",
   "execution_count": 86,
   "id": "ed4fc744",
   "metadata": {},
   "outputs": [
    {
     "name": "stdout",
     "output_type": "stream",
     "text": [
      "The accuracy is 98.66666666666667%\n",
      "[[50  0  0]\n",
      " [ 0 49  1]\n",
      " [ 0  1 49]]\n",
      "              precision    recall  f1-score   support\n",
      "\n",
      "     class 0       1.00      1.00      1.00        50\n",
      "     class 1       0.98      0.98      0.98        50\n",
      "     class 2       0.98      0.98      0.98        50\n",
      "\n",
      "    accuracy                           0.99       150\n",
      "   macro avg       0.99      0.99      0.99       150\n",
      "weighted avg       0.99      0.99      0.99       150\n",
      "\n"
     ]
    }
   ],
   "source": [
    "print(\"The accuracy is \"+str(metrics.accuracy_score(Y,target_pred_rbf)*100)+\"%\") \n",
    "print(confusion_matrix(Y,target_pred_rbf))  \n",
    "target_names = ['class 0', 'class 1', 'class 2'] \n",
    "print(classification_report(Y,target_pred_rbf, target_names=target_names)) "
   ]
  },
  {
   "cell_type": "markdown",
   "id": "9b4e891f",
   "metadata": {},
   "source": [
    "Logisitic Regression with original dataset"
   ]
  },
  {
   "cell_type": "code",
   "execution_count": 87,
   "id": "86aa9e5f",
   "metadata": {},
   "outputs": [],
   "source": [
    "\n",
    "X_train,X_test,Y_train,Y_test = train_test_split(X, Y,test_size=0.20,random_state=0) "
   ]
  },
  {
   "cell_type": "code",
   "execution_count": 88,
   "id": "27767d1c",
   "metadata": {},
   "outputs": [],
   "source": [
    "\n",
    "logistic_regression1 = LogisticRegression(solver=\"liblinear\", \n",
    "                                         random_state=0) \n",
    "# try different values for max_iter and observe the difference in training time\n",
    "\n",
    "# Train model \n",
    "model1 = logistic_regression1.fit(X_train, Y_train) \n",
    "#Predictions \n",
    "Y_pred1 = model1.predict(X_test) "
   ]
  },
  {
   "cell_type": "code",
   "execution_count": 89,
   "id": "123e49d2",
   "metadata": {},
   "outputs": [
    {
     "name": "stdout",
     "output_type": "stream",
     "text": [
      "The accuracy is 86.66666666666667%\n",
      "[[11  0  0]\n",
      " [ 0 10  3]\n",
      " [ 0  1  5]]\n",
      "              precision    recall  f1-score   support\n",
      "\n",
      "     class 0       1.00      1.00      1.00        11\n",
      "     class 1       0.91      0.77      0.83        13\n",
      "     class 2       0.62      0.83      0.71         6\n",
      "\n",
      "    accuracy                           0.87        30\n",
      "   macro avg       0.84      0.87      0.85        30\n",
      "weighted avg       0.89      0.87      0.87        30\n",
      "\n"
     ]
    }
   ],
   "source": [
    "\n",
    "print(\"The accuracy is \"+str(metrics.accuracy_score(Y_test,Y_pred1)*100)+\"%\") \n",
    "print(confusion_matrix(Y_test, Y_pred1))  \n",
    "target_names = ['class 0', 'class 1', 'class 2'] \n",
    "print(classification_report(Y_test, Y_pred1, target_names=target_names))"
   ]
  },
  {
   "cell_type": "markdown",
   "id": "45a86372",
   "metadata": {},
   "source": [
    "SVM with new dataset"
   ]
  },
  {
   "cell_type": "code",
   "execution_count": 90,
   "id": "9a323efa",
   "metadata": {},
   "outputs": [],
   "source": [
    "\n",
    "pca = PCA(n_components=2, whiten=True)  "
   ]
  },
  {
   "cell_type": "code",
   "execution_count": 91,
   "id": "c99b3582",
   "metadata": {},
   "outputs": [],
   "source": [
    "\n",
    "# Conduct PCA \n",
    "\n",
    "X_pca = pca.fit_transform(X) \n",
    "X_test_pca = pca.fit_transform(X_test) \n",
    "X_train_pca = pca.fit_transform(X_train) "
   ]
  },
  {
   "cell_type": "code",
   "execution_count": 92,
   "id": "564fb134",
   "metadata": {},
   "outputs": [
    {
     "name": "stdout",
     "output_type": "stream",
     "text": [
      "Original number of features: 4\n",
      "Reduced number of features: 2\n"
     ]
    }
   ],
   "source": [
    "# Show results \n",
    "print(\"Original number of features:\", X.shape[1]) \n",
    "print(\"Reduced number of features:\", X_pca.shape[1])"
   ]
  },
  {
   "cell_type": "code",
   "execution_count": 93,
   "id": "63adacac",
   "metadata": {},
   "outputs": [
    {
     "name": "stdout",
     "output_type": "stream",
     "text": [
      "PCA components:\n",
      "[[ 0.53658514 -0.21981024  0.58074534  0.57139715]\n",
      " [ 0.35735544  0.93351429 -0.00506711  0.02867897]]\n"
     ]
    }
   ],
   "source": [
    "print(\"PCA components:\\n{}\".format(pca.components_)) "
   ]
  },
  {
   "cell_type": "code",
   "execution_count": 94,
   "id": "0ca5347e",
   "metadata": {},
   "outputs": [
    {
     "data": {
      "text/plain": [
       "array([0.72930408, 0.23213204])"
      ]
     },
     "execution_count": 94,
     "metadata": {},
     "output_type": "execute_result"
    }
   ],
   "source": [
    "pca.explained_variance_ratio_ "
   ]
  },
  {
   "cell_type": "code",
   "execution_count": 95,
   "id": "38cd6ef6",
   "metadata": {},
   "outputs": [
    {
     "data": {
      "text/plain": [
       "array([2, 1, 0, 2, 0, 2, 0, 2, 2, 1, 2, 1, 2, 2, 1, 0, 1, 1, 0, 0, 2, 1,\n",
       "       0, 0, 2, 0, 0, 1, 1, 0])"
      ]
     },
     "execution_count": 95,
     "metadata": {},
     "output_type": "execute_result"
    }
   ],
   "source": [
    "svc_rbf = SVC(kernel=\"rbf\", random_state=0, gamma=1, C=1) \n",
    "\n",
    "# Train the classifier \n",
    "model_svc=svc_rbf.fit(X_pca,Y) \n",
    "target_pred_rbf_pca = model_svc.predict(X_test_pca) \n",
    "target_pred_rbf_pca"
   ]
  },
  {
   "cell_type": "code",
   "execution_count": 97,
   "id": "3b3ec4b8",
   "metadata": {},
   "outputs": [
    {
     "name": "stdout",
     "output_type": "stream",
     "text": [
      "The accuracy is 86.66666666666667%\n",
      "[[11  0  0]\n",
      " [ 0  9  4]\n",
      " [ 0  0  6]]\n",
      "              precision    recall  f1-score   support\n",
      "\n",
      "     class 0       1.00      1.00      1.00        11\n",
      "     class 1       1.00      0.69      0.82        13\n",
      "     class 2       0.60      1.00      0.75         6\n",
      "\n",
      "    accuracy                           0.87        30\n",
      "   macro avg       0.87      0.90      0.86        30\n",
      "weighted avg       0.92      0.87      0.87        30\n",
      "\n"
     ]
    }
   ],
   "source": [
    "print(\"The accuracy is \"+str(metrics.accuracy_score(Y_test,target_pred_rbf_pca)*100)+\"%\") \n",
    "print(confusion_matrix(Y_test,target_pred_rbf_pca))  \n",
    "target_names = ['class 0', 'class 1', 'class 2'] \n",
    "print(classification_report(Y_test,target_pred_rbf_pca, target_names=target_names)) "
   ]
  },
  {
   "cell_type": "code",
   "execution_count": null,
   "id": "93a4f44f",
   "metadata": {},
   "outputs": [],
   "source": [
    "\n",
    "logistic_regression1 = LogisticRegression(solver=\"liblinear\", \n",
    "                                         random_state=0) \n",
    "# try different values for max_iter and observe the difference in training time\n",
    "\n",
    "# Train model \n",
    "model_lr_pca= logistic_regression1.fit(X_train_pca, Y_train) \n",
    "#Predictions \n",
    "Y_pred_lr_pca = model_lr_pca.predict(X_test_pca) "
   ]
  },
  {
   "cell_type": "code",
   "execution_count": null,
   "id": "b4bdc5b9",
   "metadata": {},
   "outputs": [
    {
     "name": "stdout",
     "output_type": "stream",
     "text": [
      "The accuracy is 63.33333333333333%\n",
      "[[10  1  0]\n",
      " [ 0  3 10]\n",
      " [ 0  0  6]]\n",
      "              precision    recall  f1-score   support\n",
      "\n",
      "     class 0       1.00      0.91      0.95        11\n",
      "     class 1       0.75      0.23      0.35        13\n",
      "     class 2       0.38      1.00      0.55         6\n",
      "\n",
      "    accuracy                           0.63        30\n",
      "   macro avg       0.71      0.71      0.62        30\n",
      "weighted avg       0.77      0.63      0.61        30\n",
      "\n"
     ]
    }
   ],
   "source": [
    "\n",
    "print(\"The accuracy is \"+str(metrics.accuracy_score(Y_test,Y_pred_lr_pca)*100)+\"%\") \n",
    "print(confusion_matrix(Y_test, Y_pred_lr_pca))  \n",
    "target_names = ['class 0', 'class 1', 'class 2'] \n",
    "print(classification_report(Y_test, Y_pred_lr_pca, target_names=target_names))"
   ]
  },
  {
   "cell_type": "code",
   "execution_count": 1,
   "id": "11af2f0d",
   "metadata": {},
   "outputs": [
    {
     "name": "stdout",
     "output_type": "stream",
     "text": [
      "=== Performance on Original Data ===\n",
      "\n",
      "Model: SVM (RBF Kernel)\n",
      "Accuracy: 1.0\n",
      "Recall: 1.0\n",
      "Precision: 1.0\n",
      "Confusion Matrix:\n",
      " [[11  0  0]\n",
      " [ 0 13  0]\n",
      " [ 0  0  6]]\n",
      "Classification Report:\n",
      "               precision    recall  f1-score   support\n",
      "\n",
      "           0       1.00      1.00      1.00        11\n",
      "           1       1.00      1.00      1.00        13\n",
      "           2       1.00      1.00      1.00         6\n",
      "\n",
      "    accuracy                           1.00        30\n",
      "   macro avg       1.00      1.00      1.00        30\n",
      "weighted avg       1.00      1.00      1.00        30\n",
      "\n",
      "ROC AUC Score: 1.0\n",
      "\n",
      "Model: Logistic Regression\n",
      "Accuracy: 0.8666666666666667\n",
      "Recall: 0.8675213675213675\n",
      "Precision: 0.8446969696969697\n",
      "Confusion Matrix:\n",
      " [[11  0  0]\n",
      " [ 0 10  3]\n",
      " [ 0  1  5]]\n",
      "Classification Report:\n",
      "               precision    recall  f1-score   support\n",
      "\n",
      "           0       1.00      1.00      1.00        11\n",
      "           1       0.91      0.77      0.83        13\n",
      "           2       0.62      0.83      0.71         6\n",
      "\n",
      "    accuracy                           0.87        30\n",
      "   macro avg       0.84      0.87      0.85        30\n",
      "weighted avg       0.89      0.87      0.87        30\n",
      "\n",
      "ROC AUC Score: 0.9710281548516843\n",
      "\n",
      "Model: Random Forest\n",
      "Accuracy: 1.0\n",
      "Recall: 1.0\n",
      "Precision: 1.0\n",
      "Confusion Matrix:\n",
      " [[11  0  0]\n",
      " [ 0 13  0]\n",
      " [ 0  0  6]]\n",
      "Classification Report:\n",
      "               precision    recall  f1-score   support\n",
      "\n",
      "           0       1.00      1.00      1.00        11\n",
      "           1       1.00      1.00      1.00        13\n",
      "           2       1.00      1.00      1.00         6\n",
      "\n",
      "    accuracy                           1.00        30\n",
      "   macro avg       1.00      1.00      1.00        30\n",
      "weighted avg       1.00      1.00      1.00        30\n",
      "\n",
      "ROC AUC Score: 1.0\n",
      "\n",
      "=== PCA with n_components=2 ===\n",
      "Variance explained by each component: [0.72962445 0.22850762]\n",
      "Total variance explained: 0.9581320720000166\n",
      "\n",
      "Model: SVM (RBF Kernel)\n",
      "Accuracy: 0.9333333333333333\n",
      "Recall: 0.9487179487179488\n",
      "Precision: 0.9166666666666666\n",
      "Confusion Matrix:\n",
      " [[11  0  0]\n",
      " [ 0 11  2]\n",
      " [ 0  0  6]]\n",
      "Classification Report:\n",
      "               precision    recall  f1-score   support\n",
      "\n",
      "           0       1.00      1.00      1.00        11\n",
      "           1       1.00      0.85      0.92        13\n",
      "           2       0.75      1.00      0.86         6\n",
      "\n",
      "    accuracy                           0.93        30\n",
      "   macro avg       0.92      0.95      0.92        30\n",
      "weighted avg       0.95      0.93      0.94        30\n",
      "\n",
      "ROC AUC Score: 0.9847075582369701\n",
      "\n",
      "Model: Logistic Regression\n",
      "Accuracy: 0.7333333333333333\n",
      "Recall: 0.735042735042735\n",
      "Precision: 0.7259259259259259\n",
      "Confusion Matrix:\n",
      " [[11  0  0]\n",
      " [ 0  7  6]\n",
      " [ 0  2  4]]\n",
      "Classification Report:\n",
      "               precision    recall  f1-score   support\n",
      "\n",
      "           0       1.00      1.00      1.00        11\n",
      "           1       0.78      0.54      0.64        13\n",
      "           2       0.40      0.67      0.50         6\n",
      "\n",
      "    accuracy                           0.73        30\n",
      "   macro avg       0.73      0.74      0.71        30\n",
      "weighted avg       0.78      0.73      0.74        30\n",
      "\n",
      "ROC AUC Score: 0.9184158706217529\n",
      "\n",
      "Model: Random Forest\n",
      "Accuracy: 0.9\n",
      "Recall: 0.8632478632478633\n",
      "Precision: 0.8857142857142858\n",
      "Confusion Matrix:\n",
      " [[11  0  0]\n",
      " [ 0 12  1]\n",
      " [ 0  2  4]]\n",
      "Classification Report:\n",
      "               precision    recall  f1-score   support\n",
      "\n",
      "           0       1.00      1.00      1.00        11\n",
      "           1       0.86      0.92      0.89        13\n",
      "           2       0.80      0.67      0.73         6\n",
      "\n",
      "    accuracy                           0.90        30\n",
      "   macro avg       0.89      0.86      0.87        30\n",
      "weighted avg       0.90      0.90      0.90        30\n",
      "\n",
      "ROC AUC Score: 0.9812877073906486\n"
     ]
    }
   ],
   "source": [
    "import numpy as np\n",
    "import pandas as pd\n",
    "import matplotlib.pyplot as plt\n",
    "from sklearn import datasets\n",
    "from sklearn.preprocessing import StandardScaler\n",
    "from sklearn.model_selection import train_test_split\n",
    "from sklearn.decomposition import PCA\n",
    "from sklearn.svm import SVC\n",
    "from sklearn.linear_model import LogisticRegression\n",
    "from sklearn.ensemble import RandomForestClassifier\n",
    "from sklearn import metrics\n",
    "from sklearn.metrics import confusion_matrix, classification_report, roc_auc_score, roc_curve\n",
    "\n",
    "# ======================\n",
    "# 1. Load Dataset\n",
    "# ======================\n",
    "# Example for iris dataset:\n",
    "# data = datasets.load_iris()\n",
    "# For wine or digits, replace with:\n",
    "# data = datasets.load_wine()\n",
    "# data = datasets.load_digits()\n",
    "\n",
    "data = datasets.load_iris()  # Change this according to question\n",
    "\n",
    "X = data.data\n",
    "Y = data.target\n",
    "\n",
    "# ======================\n",
    "# 2. Standardize Features\n",
    "# ======================\n",
    "scaler = StandardScaler()\n",
    "X = scaler.fit_transform(X)\n",
    "\n",
    "# ======================\n",
    "# 3. Split Data\n",
    "# ======================\n",
    "X_train, X_test, Y_train, Y_test = train_test_split(X, Y, test_size=0.2, random_state=0)\n",
    "\n",
    "# ======================\n",
    "# 4. Define Models\n",
    "# ======================\n",
    "models = {\n",
    "    'SVM (RBF Kernel)': SVC(kernel='rbf', probability=True, random_state=0, gamma=1, C=1),\n",
    "    'Logistic Regression': LogisticRegression(solver='liblinear', random_state=0),\n",
    "    'Random Forest': RandomForestClassifier(random_state=0)\n",
    "}\n",
    "\n",
    "# ======================\n",
    "# 5. Train & Evaluate Models on Original Data\n",
    "# ======================\n",
    "print(\"=== Performance on Original Data ===\")\n",
    "for name, model in models.items():\n",
    "    model.fit(X_train, Y_train)\n",
    "    Y_pred = model.predict(X_test)\n",
    "    \n",
    "    print(f\"\\nModel: {name}\")\n",
    "    print(\"Accuracy:\", metrics.accuracy_score(Y_test, Y_pred))\n",
    "    print(\"Recall:\", metrics.recall_score(Y_test, Y_pred, average='macro'))\n",
    "    print(\"Precision:\", metrics.precision_score(Y_test, Y_pred, average='macro'))\n",
    "    print(\"Confusion Matrix:\\n\", confusion_matrix(Y_test, Y_pred))\n",
    "    print(\"Classification Report:\\n\", classification_report(Y_test, Y_pred))\n",
    "    \n",
    "    if hasattr(model, \"predict_proba\"):\n",
    "        Y_prob = model.predict_proba(X_test)\n",
    "        fpr, tpr, _ = roc_curve(Y_test, Y_prob[:, 1], pos_label=1)\n",
    "        auc = roc_auc_score(Y_test, Y_prob, multi_class='ovr')\n",
    "        print(\"ROC AUC Score:\", auc)\n",
    "\n",
    "# ======================\n",
    "# 6. Apply PCA\n",
    "# ======================\n",
    "\n",
    "# Choose different n_components list based on question:\n",
    "n_components_list = [2]  # For Iris (Q3)\n",
    "# n_components_list = [0.9, 0.95, 0.99, 2, 5, 8, 10]  # For Wine (Q6)\n",
    "# n_components_list = [0.9, 0.95, 0.99, 10, 30, 40, 50]  # For Digits (Q5)\n",
    "\n",
    "for n in n_components_list:\n",
    "    print(f\"\\n=== PCA with n_components={n} ===\")\n",
    "    pca = PCA(n_components=n, whiten=True)\n",
    "    X_pca = pca.fit_transform(X)\n",
    "    X_train_pca, X_test_pca, Y_train_pca, Y_test_pca = train_test_split(X_pca, Y, test_size=0.2, random_state=0)\n",
    "    \n",
    "    print(\"Variance explained by each component:\", pca.explained_variance_ratio_)\n",
    "    print(\"Total variance explained:\", np.sum(pca.explained_variance_ratio_))\n",
    "\n",
    "    for name, model in models.items():\n",
    "        model.fit(X_train_pca, Y_train_pca)\n",
    "        Y_pred_pca = model.predict(X_test_pca)\n",
    "        \n",
    "        print(f\"\\nModel: {name}\")\n",
    "        print(\"Accuracy:\", metrics.accuracy_score(Y_test_pca, Y_pred_pca))\n",
    "        print(\"Recall:\", metrics.recall_score(Y_test_pca, Y_pred_pca, average='macro'))\n",
    "        print(\"Precision:\", metrics.precision_score(Y_test_pca, Y_pred_pca, average='macro'))\n",
    "        print(\"Confusion Matrix:\\n\", confusion_matrix(Y_test_pca, Y_pred_pca))\n",
    "        print(\"Classification Report:\\n\", classification_report(Y_test_pca, Y_pred_pca))\n",
    "        \n",
    "        if hasattr(model, \"predict_proba\"):\n",
    "            Y_prob = model.predict_proba(X_test_pca)\n",
    "            fpr, tpr, _ = roc_curve(Y_test_pca, Y_prob[:, 1], pos_label=1)\n",
    "            auc = roc_auc_score(Y_test_pca, Y_prob, multi_class='ovr')\n",
    "            print(\"ROC AUC Score:\", auc)\n",
    "\n"
   ]
  },
  {
   "cell_type": "code",
   "execution_count": null,
   "id": "6fdf0ddb",
   "metadata": {},
   "outputs": [],
   "source": []
  }
 ],
 "metadata": {
  "kernelspec": {
   "display_name": "myenv",
   "language": "python",
   "name": "python3"
  },
  "language_info": {
   "codemirror_mode": {
    "name": "ipython",
    "version": 3
   },
   "file_extension": ".py",
   "mimetype": "text/x-python",
   "name": "python",
   "nbconvert_exporter": "python",
   "pygments_lexer": "ipython3",
   "version": "3.12.4"
  }
 },
 "nbformat": 4,
 "nbformat_minor": 5
}
