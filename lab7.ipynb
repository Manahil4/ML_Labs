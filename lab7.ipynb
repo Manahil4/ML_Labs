{
 "cells": [
  {
   "cell_type": "code",
   "execution_count": null,
   "id": "9131f16b",
   "metadata": {},
   "outputs": [
    {
     "name": "stdout",
     "output_type": "stream",
     "text": [
      "(60000, 28, 28)\n"
     ]
    }
   ],
   "source": [
    "import os\n",
    "import numpy as np\n",
    "import pandas as pd\n",
    "\n",
    "# matplotlib; visualing of actual handwritten digits\n",
    "import matplotlib.pyplot as plt \n",
    "# tensorflow; for ml part\n",
    "import tensorflow as tf\n",
    "#to get datasets, load it directly from tensorflow, don't need to download csv file and \n",
    "mnist=tf.keras.datasets.mnist\n",
    "#data is labelled, as in supervised learning where output is tied with input, training data to train model and testing data is to test model but this data is not given before to model and both are label below is division for test and train ;mnist dataset have already split into training and test data\n",
    "#x_train is pixel data, image itslef and y train is classification that is what is written no, or alphabet\n",
    "(x_train, y_train),(x_test,y_test) = mnist.load_data()\n",
    "print(x_train.shape)\n"
   ]
  },
  {
   "cell_type": "code",
   "execution_count": 3,
   "id": "8a3363c5",
   "metadata": {},
   "outputs": [
    {
     "name": "stdout",
     "output_type": "stream",
     "text": [
      "(60000, 28, 28)\n"
     ]
    }
   ],
   "source": [
    "print(x_train.shape)\n"
   ]
  },
  {
   "cell_type": "code",
   "execution_count": 4,
   "id": "8e96db0d",
   "metadata": {},
   "outputs": [
    {
     "data": {
      "image/png": "[encoded data removed]",
      "text/plain": [
       "<Figure size 640x480 with 1 Axes>"
      ]
     },
     "metadata": {},
     "output_type": "display_data"
    }
   ],
   "source": [
    "X_train_1d=(x_train[0].reshape(28,28))\n",
    "plt.imshow(X_train_1d, cmap=plt.cm.binary)\n",
    "plt.axis('off')\n",
    "plt.show()\n",
    "\n"
   ]
  },
  {
   "cell_type": "markdown",
   "id": "ca2696ff",
   "metadata": {},
   "source": [
    "reshaping into 1 d array"
   ]
  },
  {
   "cell_type": "code",
   "execution_count": 5,
   "id": "a1700f25",
   "metadata": {},
   "outputs": [],
   "source": [
    "x_train2= x_train.reshape((-1,784))\n",
    "x_test2=x_test.reshape((-1,784))"
   ]
  },
  {
   "cell_type": "markdown",
   "id": "e284b00a",
   "metadata": {},
   "source": [
    "knn for single label but multiclass\n"
   ]
  },
  {
   "cell_type": "code",
   "execution_count": 15,
   "id": "275829a4",
   "metadata": {},
   "outputs": [
    {
     "data": {
      "text/plain": [
       "0.9688"
      ]
     },
     "execution_count": 15,
     "metadata": {},
     "output_type": "execute_result"
    }
   ],
   "source": [
    "from sklearn.neighbors import KNeighborsClassifier\n",
    "from sklearn import metrics\n",
    "from sklearn.metrics import confusion_matrix\n",
    "model1= KNeighborsClassifier().fit(x_train2, y_train)\n",
    "y_predict1= model1.predict(x_test2)\n",
    "metrics.accuracy_score(y_test,y_predict1 )\n"
   ]
  },
  {
   "cell_type": "markdown",
   "id": "9e010401",
   "metadata": {},
   "source": [
    "knn for multilabel and multiclass "
   ]
  },
  {
   "cell_type": "code",
   "execution_count": 7,
   "id": "58d7de2a",
   "metadata": {},
   "outputs": [
    {
     "data": {
      "text/plain": [
       "array([[ True,  True],\n",
       "       [False, False],\n",
       "       [False,  True],\n",
       "       ...,\n",
       "       [False, False],\n",
       "       [False,  True],\n",
       "       [False, False]])"
      ]
     },
     "execution_count": 7,
     "metadata": {},
     "output_type": "execute_result"
    }
   ],
   "source": [
    "y_train_large=(y_train>=7)\n",
    "y_train_odd=(y_train%2==1)\n",
    "y_multilabel= np.c_[y_train_large, y_train_odd]\n",
    "y_multilabel\n",
    "model2= KNeighborsClassifier().fit(x_train2,y_multilabel)\n",
    "model2.predict(x_test2)\n",
    "# acc=accuracy_score()"
   ]
  },
  {
   "cell_type": "code",
   "execution_count": 8,
   "id": "765ac122",
   "metadata": {},
   "outputs": [
    {
     "data": {
      "text/plain": [
       "0.9764102655606048"
      ]
     },
     "execution_count": 8,
     "metadata": {},
     "output_type": "execute_result"
    }
   ],
   "source": [
    "from sklearn.model_selection import cross_val_predict\n",
    "from sklearn.metrics import f1_score\n",
    "y_train_knn_p= cross_val_predict(model2, x_train2, y_multilabel, cv=3) \n",
    "f1_score(y_multilabel, y_train_knn_p, average=\"macro\")"
   ]
  },
  {
   "cell_type": "markdown",
   "id": "2013741b",
   "metadata": {},
   "source": [
    "Logistic Regression\n"
   ]
  },
  {
   "cell_type": "code",
   "execution_count": 9,
   "id": "746624d1",
   "metadata": {},
   "outputs": [],
   "source": [
    "\n",
    "from sklearn.neighbors import KNeighborsClassifier \n",
    "from sklearn.linear_model import LogisticRegression\n"
   ]
  },
  {
   "cell_type": "code",
   "execution_count": 10,
   "id": "2798ec1a",
   "metadata": {},
   "outputs": [
    {
     "name": "stdout",
     "output_type": "stream",
     "text": [
      "CPU times: total: 11.9 s\n",
      "Wall time: 5.79 s\n"
     ]
    },
    {
     "name": "stderr",
     "output_type": "stream",
     "text": [
      "c:\\Users\\intel\\Desktop\\UniCourses\\ai cep\\myenv\\Lib\\site-packages\\sklearn\\linear_model\\_logistic.py:469: ConvergenceWarning: lbfgs failed to converge (status=1):\n",
      "STOP: TOTAL NO. of ITERATIONS REACHED LIMIT.\n",
      "\n",
      "Increase the number of iterations (max_iter) or scale the data as shown in:\n",
      "    https://scikit-learn.org/stable/modules/preprocessing.html\n",
      "Please also refer to the documentation for alternative solver options:\n",
      "    https://scikit-learn.org/stable/modules/linear_model.html#logistic-regression\n",
      "  n_iter_i = _check_optimize_result(\n"
     ]
    }
   ],
   "source": [
    "%%time\n",
    "# Running logistic regression\n",
    "m2 = LogisticRegression(max_iter=10).fit(x_train2, y_train)"
   ]
  },
  {
   "cell_type": "code",
   "execution_count": 16,
   "id": "a6321880",
   "metadata": {},
   "outputs": [
    {
     "name": "stdout",
     "output_type": "stream",
     "text": [
      "The accuracy is 88.88000000000001%\n",
      "[[ 937    0    6    4    1    8   12    1   11    0]\n",
      " [   0 1091    3    9    1    1    5    0   25    0]\n",
      " [  15    2  883   14   15    3   28   24   40    8]\n",
      " [   7    1   19  876    0   46    8   16   26   11]\n",
      " [   2    5    6    1  895    0   17    2    8   46]\n",
      " [  15    6    3   37   24  710   20    8   58   11]\n",
      " [  17    3    8    2   12   14  889    1   12    0]\n",
      " [   4   18   35    3   12    0    2  913    6   35]\n",
      " [   6    9   14   30   11   24   16   19  832   13]\n",
      " [   7    8   10   10   57   15    1   27   12  862]]\n"
     ]
    }
   ],
   "source": [
    "# Making predictions on test set\n",
    "m2_pred = m2.predict(x_test2)\n",
    "print(\"The accuracy is \"+str(metrics.accuracy_score(y_test,m2_pred)*100)+\"%\")\n",
    "m2_cmatrix=confusion_matrix(y_test, m2_pred)\n",
    "print(m2_cmatrix)\n"
   ]
  },
  {
   "cell_type": "code",
   "execution_count": 17,
   "id": "99f559ea",
   "metadata": {},
   "outputs": [],
   "source": [
    "m4 = LogisticRegression(random_state=0, max_iter=10)\n"
   ]
  },
  {
   "cell_type": "code",
   "execution_count": null,
   "id": "f2f23ec6",
   "metadata": {},
   "outputs": [],
   "source": [
    "%%time\n",
    "# Running and testing on output 'large'\n",
    "m4_large=m4.fit(x_train2, multilabel_train_y['large'])\n",
    "m4_large_pred = m4_large.predict(test_X2)\n",
    "print(\"The accuracy is \"+str(metrics.accuracy_score(multilabel_test_y['large'],m4_large_pred)*100)+\"%\")\n",
    "m4_large_cmatrix=confusion_matrix(multilabel_test_y['large'],m4_large_pred)\n",
    "print(m4_large_cmatrix)"
   ]
  }
 ],
 "metadata": {
  "kernelspec": {
   "display_name": "myenv",
   "language": "python",
   "name": "python3"
  },
  "language_info": {
   "codemirror_mode": {
    "name": "ipython",
    "version": 3
   },
   "file_extension": ".py",
   "mimetype": "text/x-python",
   "name": "python",
   "nbconvert_exporter": "python",
   "pygments_lexer": "ipython3",
   "version": "3.12.4"
  }
 },
 "nbformat": 4,
 "nbformat_minor": 5
}
