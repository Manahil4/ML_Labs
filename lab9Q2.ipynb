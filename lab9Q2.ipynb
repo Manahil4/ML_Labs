{
 "cells": [
  {
   "cell_type": "code",
   "execution_count": 1,
   "id": "1fb747cf",
   "metadata": {},
   "outputs": [],
   "source": [
    "import numpy as np\n",
    "import pandas as pd\n",
    "import matplotlib.pyplot as plt \n",
    "\n",
    "from sklearn import metrics \n",
    "from sklearn.metrics import confusion_matrix, classification_report \n"
   ]
  },
  {
   "cell_type": "code",
   "execution_count": 3,
   "id": "c56a4423",
   "metadata": {},
   "outputs": [],
   "source": [
    "from sklearn import datasets \n",
    "\n",
    "# Load data with only two classes and two features \n",
    "iris = datasets.load_iris()  "
   ]
  },
  {
   "cell_type": "code",
   "execution_count": 10,
   "id": "b5a28bc6",
   "metadata": {},
   "outputs": [],
   "source": [
    "X= iris.data"
   ]
  },
  {
   "cell_type": "code",
   "execution_count": 12,
   "id": "e157e3ee",
   "metadata": {},
   "outputs": [],
   "source": [
    "Y= iris.target"
   ]
  },
  {
   "cell_type": "code",
   "execution_count": 11,
   "id": "badd09e1",
   "metadata": {},
   "outputs": [],
   "source": [
    "from sklearn.preprocessing import StandardScaler\n",
    "\n",
    "scaler = StandardScaler() \n",
    "features_standardized = scaler.fit_transform(X) "
   ]
  },
  {
   "cell_type": "code",
   "execution_count": 18,
   "id": "d892f68e",
   "metadata": {},
   "outputs": [],
   "source": [
    "from sklearn.svm import SVC \n",
    "svc_linear = SVC(kernel=\"linear\", random_state=0, C=1) \n",
    "\n",
    "# Train model \n",
    "model_linear=svc_linear.fit(features_standardized,Y)"
   ]
  },
  {
   "cell_type": "code",
   "execution_count": 19,
   "id": "b8a4e8ba",
   "metadata": {},
   "outputs": [
    {
     "data": {
      "text/plain": [
       "array([0, 0, 0, 0, 0, 0, 0, 0, 0, 0, 0, 0, 0, 0, 0, 0, 0, 0, 0, 0, 0, 0,\n",
       "       0, 0, 0, 0, 0, 0, 0, 0, 0, 0, 0, 0, 0, 0, 0, 0, 0, 0, 0, 0, 0, 0,\n",
       "       0, 0, 0, 0, 0, 0, 1, 1, 1, 1, 1, 1, 1, 1, 1, 1, 1, 1, 1, 1, 1, 1,\n",
       "       1, 1, 1, 1, 2, 1, 2, 1, 1, 1, 1, 2, 1, 1, 1, 1, 1, 2, 1, 1, 1, 1,\n",
       "       1, 1, 1, 1, 1, 1, 1, 1, 1, 1, 1, 1, 2, 2, 2, 2, 2, 2, 2, 2, 2, 2,\n",
       "       2, 2, 2, 2, 2, 2, 2, 2, 2, 2, 2, 2, 2, 2, 2, 2, 2, 2, 2, 2, 2, 2,\n",
       "       2, 1, 2, 2, 2, 2, 2, 2, 2, 2, 2, 2, 2, 2, 2, 2, 2, 2])"
      ]
     },
     "execution_count": 19,
     "metadata": {},
     "output_type": "execute_result"
    }
   ],
   "source": [
    "\n",
    "target_pred_linear = model_linear.predict(features_standardized) \n",
    "target_pred_linear"
   ]
  },
  {
   "cell_type": "code",
   "execution_count": 21,
   "id": "2ba6945b",
   "metadata": {},
   "outputs": [
    {
     "name": "stdout",
     "output_type": "stream",
     "text": [
      "The accuracy is 96.66666666666667%\n",
      "[[50  0  0]\n",
      " [ 0 46  4]\n",
      " [ 0  1 49]]\n"
     ]
    }
   ],
   "source": [
    "# Printing results\n",
    "print(\"The accuracy is \"+str(metrics.accuracy_score(Y,target_pred_linear)*100)+\"%\") \n",
    "print(confusion_matrix(Y,target_pred_linear))  "
   ]
  },
  {
   "cell_type": "code",
   "execution_count": 22,
   "id": "3f83dbf5",
   "metadata": {},
   "outputs": [],
   "source": [
    "svc_rbf = SVC(kernel=\"rbf\", random_state=0, gamma=1, C=1) \n",
    "\n",
    "# Train the classifier \n",
    "model_svc=svc_rbf.fit(features_standardized,Y) "
   ]
  },
  {
   "cell_type": "code",
   "execution_count": 24,
   "id": "e696fe6c",
   "metadata": {},
   "outputs": [
    {
     "data": {
      "text/plain": [
       "array([0, 0, 0, 0, 0, 0, 0, 0, 0, 0, 0, 0, 0, 0, 0, 0, 0, 0, 0, 0, 0, 0,\n",
       "       0, 0, 0, 0, 0, 0, 0, 0, 0, 0, 0, 0, 0, 0, 0, 0, 0, 0, 0, 0, 0, 0,\n",
       "       0, 0, 0, 0, 0, 0, 1, 1, 1, 1, 1, 1, 1, 1, 1, 1, 1, 1, 1, 1, 1, 1,\n",
       "       1, 1, 1, 1, 1, 1, 1, 1, 1, 1, 1, 1, 1, 1, 1, 1, 1, 2, 1, 1, 1, 1,\n",
       "       1, 1, 1, 1, 1, 1, 1, 1, 1, 1, 1, 1, 2, 2, 2, 2, 2, 2, 2, 2, 2, 2,\n",
       "       2, 2, 2, 2, 2, 2, 2, 2, 2, 1, 2, 2, 2, 2, 2, 2, 2, 2, 2, 2, 2, 2,\n",
       "       2, 2, 2, 2, 2, 2, 2, 2, 2, 2, 2, 2, 2, 2, 2, 2, 2, 2])"
      ]
     },
     "execution_count": 24,
     "metadata": {},
     "output_type": "execute_result"
    }
   ],
   "source": [
    "target_pred_rbf = model_svc.predict(features_standardized) \n",
    "target_pred_rbf"
   ]
  },
  {
   "cell_type": "code",
   "execution_count": 25,
   "id": "4554bcb4",
   "metadata": {},
   "outputs": [
    {
     "name": "stdout",
     "output_type": "stream",
     "text": [
      "The accuracy is 98.66666666666667%\n",
      "[[50  0  0]\n",
      " [ 0 49  1]\n",
      " [ 0  1 49]]\n"
     ]
    }
   ],
   "source": [
    "# Printing results\n",
    "print(\"The accuracy is \"+str(metrics.accuracy_score(Y,target_pred_rbf)*100)+\"%\") \n",
    "print(confusion_matrix(Y,target_pred_rbf))  "
   ]
  },
  {
   "cell_type": "code",
   "execution_count": 27,
   "id": "2f2048aa",
   "metadata": {},
   "outputs": [],
   "source": [
    "svc_polynomial = SVC(kernel=\"poly\", random_state=0, gamma=1, C=1) \n",
    "\n",
    "# Train the classifier \n",
    "model_polynomial=svc_polynomial.fit(features_standardized,Y) "
   ]
  },
  {
   "cell_type": "code",
   "execution_count": 28,
   "id": "401e0917",
   "metadata": {},
   "outputs": [
    {
     "data": {
      "text/plain": [
       "array([0, 0, 0, 0, 0, 0, 0, 0, 0, 0, 0, 0, 0, 0, 0, 0, 0, 0, 0, 0, 0, 0,\n",
       "       0, 0, 0, 0, 0, 0, 0, 0, 0, 0, 0, 0, 0, 0, 0, 0, 0, 0, 0, 0, 0, 0,\n",
       "       0, 0, 0, 0, 0, 0, 1, 1, 1, 1, 1, 1, 1, 1, 1, 1, 1, 1, 1, 1, 1, 1,\n",
       "       1, 1, 1, 1, 1, 1, 1, 1, 1, 1, 1, 1, 1, 1, 1, 1, 1, 2, 1, 1, 1, 1,\n",
       "       1, 1, 1, 1, 1, 1, 1, 1, 1, 1, 1, 1, 2, 2, 2, 2, 2, 2, 2, 2, 2, 2,\n",
       "       2, 2, 2, 2, 2, 2, 2, 2, 2, 2, 2, 2, 2, 2, 2, 2, 2, 2, 2, 2, 2, 2,\n",
       "       2, 1, 2, 2, 2, 2, 2, 2, 2, 2, 2, 2, 2, 2, 2, 2, 2, 2])"
      ]
     },
     "execution_count": 28,
     "metadata": {},
     "output_type": "execute_result"
    }
   ],
   "source": [
    "target_pred_poly = model_polynomial.predict(features_standardized) \n",
    "target_pred_poly"
   ]
  },
  {
   "cell_type": "code",
   "execution_count": 29,
   "id": "5a16b252",
   "metadata": {},
   "outputs": [
    {
     "name": "stdout",
     "output_type": "stream",
     "text": [
      "The accuracy is 98.66666666666667%\n",
      "[[50  0  0]\n",
      " [ 0 49  1]\n",
      " [ 0  1 49]]\n"
     ]
    }
   ],
   "source": [
    "# Printing results\n",
    "print(\"The accuracy is \"+str(metrics.accuracy_score(Y,target_pred_poly)*100)+\"%\") \n",
    "print(confusion_matrix(Y,target_pred_poly))  "
   ]
  },
  {
   "cell_type": "code",
   "execution_count": null,
   "id": "c187b0d8",
   "metadata": {},
   "outputs": [],
   "source": []
  },
  {
   "cell_type": "code",
   "execution_count": null,
   "id": "695ecca0",
   "metadata": {},
   "outputs": [],
   "source": []
  }
 ],
 "metadata": {
  "kernelspec": {
   "display_name": "myenv",
   "language": "python",
   "name": "python3"
  },
  "language_info": {
   "codemirror_mode": {
    "name": "ipython",
    "version": 3
   },
   "file_extension": ".py",
   "mimetype": "text/x-python",
   "name": "python",
   "nbconvert_exporter": "python",
   "pygments_lexer": "ipython3",
   "version": "3.12.4"
  }
 },
 "nbformat": 4,
 "nbformat_minor": 5
}
